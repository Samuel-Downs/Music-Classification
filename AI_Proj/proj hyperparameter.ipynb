{
 "cells": [
  {
   "cell_type": "markdown",
   "id": "cadd13e3",
   "metadata": {},
   "source": [
    "# Hyperparameter Tuning For Music Generation\n",
    "## Import Packages"
   ]
  },
  {
   "cell_type": "code",
   "execution_count": 114,
   "id": "e5a0b72d",
   "metadata": {},
   "outputs": [],
   "source": [
    "import numpy as np\n",
    "import matplotlib.pyplot as plt\n",
    "import seaborn as sns; sns.set()  \n",
    "import pandas as pd\n",
    "import time\n",
    "from sklearn.metrics import accuracy_score"
   ]
  },
  {
   "cell_type": "markdown",
   "id": "57129200",
   "metadata": {},
   "source": [
    "## Load and Prepare Data"
   ]
  },
  {
   "cell_type": "code",
   "execution_count": 115,
   "id": "cab00b3c",
   "metadata": {},
   "outputs": [
    {
     "data": {
      "text/html": [
       "<div>\n",
       "<style scoped>\n",
       "    .dataframe tbody tr th:only-of-type {\n",
       "        vertical-align: middle;\n",
       "    }\n",
       "\n",
       "    .dataframe tbody tr th {\n",
       "        vertical-align: top;\n",
       "    }\n",
       "\n",
       "    .dataframe thead th {\n",
       "        text-align: right;\n",
       "    }\n",
       "</style>\n",
       "<table border=\"1\" class=\"dataframe\">\n",
       "  <thead>\n",
       "    <tr style=\"text-align: right;\">\n",
       "      <th></th>\n",
       "      <th>Unnamed: 0</th>\n",
       "      <th>zcr_mean</th>\n",
       "      <th>energy_mean</th>\n",
       "      <th>energy_entropy_mean</th>\n",
       "      <th>spectral_centroid_mean</th>\n",
       "      <th>spectral_spread_mean</th>\n",
       "      <th>spectral_entropy_mean</th>\n",
       "      <th>spectral_flux_mean</th>\n",
       "      <th>spectral_rolloff_mean</th>\n",
       "      <th>mfcc_1_mean</th>\n",
       "      <th>...</th>\n",
       "      <th>delta chroma_7_std</th>\n",
       "      <th>delta chroma_8_std</th>\n",
       "      <th>delta chroma_9_std</th>\n",
       "      <th>delta chroma_10_std</th>\n",
       "      <th>delta chroma_11_std</th>\n",
       "      <th>delta chroma_12_std</th>\n",
       "      <th>delta chroma_std_std</th>\n",
       "      <th>Row_Index</th>\n",
       "      <th>Genre</th>\n",
       "      <th>GenreID</th>\n",
       "    </tr>\n",
       "  </thead>\n",
       "  <tbody>\n",
       "    <tr>\n",
       "      <th>0</th>\n",
       "      <td>0</td>\n",
       "      <td>0.126249</td>\n",
       "      <td>0.096276</td>\n",
       "      <td>0.092643</td>\n",
       "      <td>0.108992</td>\n",
       "      <td>0.087193</td>\n",
       "      <td>0.075386</td>\n",
       "      <td>0.082652</td>\n",
       "      <td>0.096276</td>\n",
       "      <td>0.089918</td>\n",
       "      <td>...</td>\n",
       "      <td>0.062670</td>\n",
       "      <td>0.063579</td>\n",
       "      <td>0.066303</td>\n",
       "      <td>0.081744</td>\n",
       "      <td>0.096276</td>\n",
       "      <td>0.099909</td>\n",
       "      <td>0.088102</td>\n",
       "      <td>0.0</td>\n",
       "      <td>blues</td>\n",
       "      <td>0</td>\n",
       "    </tr>\n",
       "    <tr>\n",
       "      <th>1</th>\n",
       "      <td>1</td>\n",
       "      <td>0.029973</td>\n",
       "      <td>0.019982</td>\n",
       "      <td>0.010899</td>\n",
       "      <td>0.017257</td>\n",
       "      <td>0.019074</td>\n",
       "      <td>0.010899</td>\n",
       "      <td>0.014532</td>\n",
       "      <td>0.021798</td>\n",
       "      <td>0.015441</td>\n",
       "      <td>...</td>\n",
       "      <td>0.051771</td>\n",
       "      <td>0.043597</td>\n",
       "      <td>0.049955</td>\n",
       "      <td>0.069936</td>\n",
       "      <td>0.069936</td>\n",
       "      <td>0.055404</td>\n",
       "      <td>0.053588</td>\n",
       "      <td>1.0</td>\n",
       "      <td>blues</td>\n",
       "      <td>1</td>\n",
       "    </tr>\n",
       "    <tr>\n",
       "      <th>2</th>\n",
       "      <td>2</td>\n",
       "      <td>0.089918</td>\n",
       "      <td>0.079927</td>\n",
       "      <td>0.082652</td>\n",
       "      <td>0.079927</td>\n",
       "      <td>0.066303</td>\n",
       "      <td>0.065395</td>\n",
       "      <td>0.069028</td>\n",
       "      <td>0.075386</td>\n",
       "      <td>0.074478</td>\n",
       "      <td>...</td>\n",
       "      <td>0.059946</td>\n",
       "      <td>0.051771</td>\n",
       "      <td>0.044505</td>\n",
       "      <td>0.044505</td>\n",
       "      <td>0.050863</td>\n",
       "      <td>0.051771</td>\n",
       "      <td>0.042688</td>\n",
       "      <td>2.0</td>\n",
       "      <td>blues</td>\n",
       "      <td>2</td>\n",
       "    </tr>\n",
       "    <tr>\n",
       "      <th>3</th>\n",
       "      <td>3</td>\n",
       "      <td>0.019982</td>\n",
       "      <td>0.020890</td>\n",
       "      <td>0.020890</td>\n",
       "      <td>0.016349</td>\n",
       "      <td>0.012716</td>\n",
       "      <td>0.011807</td>\n",
       "      <td>0.008174</td>\n",
       "      <td>0.006358</td>\n",
       "      <td>0.008174</td>\n",
       "      <td>...</td>\n",
       "      <td>0.034514</td>\n",
       "      <td>0.036331</td>\n",
       "      <td>0.029973</td>\n",
       "      <td>0.022707</td>\n",
       "      <td>0.025431</td>\n",
       "      <td>0.034514</td>\n",
       "      <td>0.030881</td>\n",
       "      <td>3.0</td>\n",
       "      <td>blues</td>\n",
       "      <td>3</td>\n",
       "    </tr>\n",
       "    <tr>\n",
       "      <th>4</th>\n",
       "      <td>4</td>\n",
       "      <td>0.080836</td>\n",
       "      <td>0.098093</td>\n",
       "      <td>0.099909</td>\n",
       "      <td>0.100817</td>\n",
       "      <td>0.099001</td>\n",
       "      <td>0.080836</td>\n",
       "      <td>0.060854</td>\n",
       "      <td>0.057221</td>\n",
       "      <td>0.063579</td>\n",
       "      <td>...</td>\n",
       "      <td>0.181653</td>\n",
       "      <td>0.219800</td>\n",
       "      <td>0.259764</td>\n",
       "      <td>0.290645</td>\n",
       "      <td>0.281562</td>\n",
       "      <td>0.296094</td>\n",
       "      <td>0.324251</td>\n",
       "      <td>4.0</td>\n",
       "      <td>blues</td>\n",
       "      <td>4</td>\n",
       "    </tr>\n",
       "    <tr>\n",
       "      <th>...</th>\n",
       "      <td>...</td>\n",
       "      <td>...</td>\n",
       "      <td>...</td>\n",
       "      <td>...</td>\n",
       "      <td>...</td>\n",
       "      <td>...</td>\n",
       "      <td>...</td>\n",
       "      <td>...</td>\n",
       "      <td>...</td>\n",
       "      <td>...</td>\n",
       "      <td>...</td>\n",
       "      <td>...</td>\n",
       "      <td>...</td>\n",
       "      <td>...</td>\n",
       "      <td>...</td>\n",
       "      <td>...</td>\n",
       "      <td>...</td>\n",
       "      <td>...</td>\n",
       "      <td>...</td>\n",
       "      <td>...</td>\n",
       "      <td>...</td>\n",
       "    </tr>\n",
       "    <tr>\n",
       "      <th>994</th>\n",
       "      <td>994</td>\n",
       "      <td>0.069028</td>\n",
       "      <td>0.070845</td>\n",
       "      <td>0.069028</td>\n",
       "      <td>0.074478</td>\n",
       "      <td>0.080836</td>\n",
       "      <td>0.075386</td>\n",
       "      <td>0.074478</td>\n",
       "      <td>0.065395</td>\n",
       "      <td>0.069936</td>\n",
       "      <td>...</td>\n",
       "      <td>0.076294</td>\n",
       "      <td>0.079019</td>\n",
       "      <td>0.078111</td>\n",
       "      <td>0.083560</td>\n",
       "      <td>0.087193</td>\n",
       "      <td>0.066303</td>\n",
       "      <td>0.066303</td>\n",
       "      <td>994.0</td>\n",
       "      <td>rock</td>\n",
       "      <td>95</td>\n",
       "    </tr>\n",
       "    <tr>\n",
       "      <th>995</th>\n",
       "      <td>995</td>\n",
       "      <td>0.114441</td>\n",
       "      <td>0.107175</td>\n",
       "      <td>0.099909</td>\n",
       "      <td>0.111717</td>\n",
       "      <td>0.125341</td>\n",
       "      <td>0.111717</td>\n",
       "      <td>0.105359</td>\n",
       "      <td>0.108084</td>\n",
       "      <td>0.095368</td>\n",
       "      <td>...</td>\n",
       "      <td>0.117166</td>\n",
       "      <td>0.099001</td>\n",
       "      <td>0.092643</td>\n",
       "      <td>0.098093</td>\n",
       "      <td>0.104450</td>\n",
       "      <td>0.180745</td>\n",
       "      <td>0.219800</td>\n",
       "      <td>995.0</td>\n",
       "      <td>rock</td>\n",
       "      <td>96</td>\n",
       "    </tr>\n",
       "    <tr>\n",
       "      <th>996</th>\n",
       "      <td>996</td>\n",
       "      <td>0.087193</td>\n",
       "      <td>0.073569</td>\n",
       "      <td>0.061762</td>\n",
       "      <td>0.055404</td>\n",
       "      <td>0.064487</td>\n",
       "      <td>0.080836</td>\n",
       "      <td>0.078111</td>\n",
       "      <td>0.066303</td>\n",
       "      <td>0.072661</td>\n",
       "      <td>...</td>\n",
       "      <td>0.065395</td>\n",
       "      <td>0.063579</td>\n",
       "      <td>0.077203</td>\n",
       "      <td>0.079019</td>\n",
       "      <td>0.081744</td>\n",
       "      <td>0.087193</td>\n",
       "      <td>0.092643</td>\n",
       "      <td>996.0</td>\n",
       "      <td>rock</td>\n",
       "      <td>97</td>\n",
       "    </tr>\n",
       "    <tr>\n",
       "      <th>997</th>\n",
       "      <td>997</td>\n",
       "      <td>0.016349</td>\n",
       "      <td>0.016349</td>\n",
       "      <td>0.020890</td>\n",
       "      <td>0.022707</td>\n",
       "      <td>0.019982</td>\n",
       "      <td>0.019074</td>\n",
       "      <td>0.018165</td>\n",
       "      <td>0.017257</td>\n",
       "      <td>0.019074</td>\n",
       "      <td>...</td>\n",
       "      <td>0.039964</td>\n",
       "      <td>0.041780</td>\n",
       "      <td>0.032698</td>\n",
       "      <td>0.029064</td>\n",
       "      <td>0.032698</td>\n",
       "      <td>0.040872</td>\n",
       "      <td>0.039055</td>\n",
       "      <td>997.0</td>\n",
       "      <td>rock</td>\n",
       "      <td>98</td>\n",
       "    </tr>\n",
       "    <tr>\n",
       "      <th>998</th>\n",
       "      <td>998</td>\n",
       "      <td>0.046322</td>\n",
       "      <td>0.039964</td>\n",
       "      <td>0.039964</td>\n",
       "      <td>0.067212</td>\n",
       "      <td>0.082652</td>\n",
       "      <td>0.060854</td>\n",
       "      <td>0.061762</td>\n",
       "      <td>0.081744</td>\n",
       "      <td>0.084469</td>\n",
       "      <td>...</td>\n",
       "      <td>0.098093</td>\n",
       "      <td>0.089010</td>\n",
       "      <td>0.068120</td>\n",
       "      <td>0.069936</td>\n",
       "      <td>0.068120</td>\n",
       "      <td>0.062670</td>\n",
       "      <td>0.063579</td>\n",
       "      <td>998.0</td>\n",
       "      <td>rock</td>\n",
       "      <td>99</td>\n",
       "    </tr>\n",
       "  </tbody>\n",
       "</table>\n",
       "<p>999 rows × 140 columns</p>\n",
       "</div>"
      ],
      "text/plain": [
       "     Unnamed: 0  zcr_mean  energy_mean  energy_entropy_mean  \\\n",
       "0             0  0.126249     0.096276             0.092643   \n",
       "1             1  0.029973     0.019982             0.010899   \n",
       "2             2  0.089918     0.079927             0.082652   \n",
       "3             3  0.019982     0.020890             0.020890   \n",
       "4             4  0.080836     0.098093             0.099909   \n",
       "..          ...       ...          ...                  ...   \n",
       "994         994  0.069028     0.070845             0.069028   \n",
       "995         995  0.114441     0.107175             0.099909   \n",
       "996         996  0.087193     0.073569             0.061762   \n",
       "997         997  0.016349     0.016349             0.020890   \n",
       "998         998  0.046322     0.039964             0.039964   \n",
       "\n",
       "     spectral_centroid_mean  spectral_spread_mean  spectral_entropy_mean  \\\n",
       "0                  0.108992              0.087193               0.075386   \n",
       "1                  0.017257              0.019074               0.010899   \n",
       "2                  0.079927              0.066303               0.065395   \n",
       "3                  0.016349              0.012716               0.011807   \n",
       "4                  0.100817              0.099001               0.080836   \n",
       "..                      ...                   ...                    ...   \n",
       "994                0.074478              0.080836               0.075386   \n",
       "995                0.111717              0.125341               0.111717   \n",
       "996                0.055404              0.064487               0.080836   \n",
       "997                0.022707              0.019982               0.019074   \n",
       "998                0.067212              0.082652               0.060854   \n",
       "\n",
       "     spectral_flux_mean  spectral_rolloff_mean  mfcc_1_mean  ...  \\\n",
       "0              0.082652               0.096276     0.089918  ...   \n",
       "1              0.014532               0.021798     0.015441  ...   \n",
       "2              0.069028               0.075386     0.074478  ...   \n",
       "3              0.008174               0.006358     0.008174  ...   \n",
       "4              0.060854               0.057221     0.063579  ...   \n",
       "..                  ...                    ...          ...  ...   \n",
       "994            0.074478               0.065395     0.069936  ...   \n",
       "995            0.105359               0.108084     0.095368  ...   \n",
       "996            0.078111               0.066303     0.072661  ...   \n",
       "997            0.018165               0.017257     0.019074  ...   \n",
       "998            0.061762               0.081744     0.084469  ...   \n",
       "\n",
       "     delta chroma_7_std  delta chroma_8_std  delta chroma_9_std  \\\n",
       "0              0.062670            0.063579            0.066303   \n",
       "1              0.051771            0.043597            0.049955   \n",
       "2              0.059946            0.051771            0.044505   \n",
       "3              0.034514            0.036331            0.029973   \n",
       "4              0.181653            0.219800            0.259764   \n",
       "..                  ...                 ...                 ...   \n",
       "994            0.076294            0.079019            0.078111   \n",
       "995            0.117166            0.099001            0.092643   \n",
       "996            0.065395            0.063579            0.077203   \n",
       "997            0.039964            0.041780            0.032698   \n",
       "998            0.098093            0.089010            0.068120   \n",
       "\n",
       "     delta chroma_10_std  delta chroma_11_std  delta chroma_12_std  \\\n",
       "0               0.081744             0.096276             0.099909   \n",
       "1               0.069936             0.069936             0.055404   \n",
       "2               0.044505             0.050863             0.051771   \n",
       "3               0.022707             0.025431             0.034514   \n",
       "4               0.290645             0.281562             0.296094   \n",
       "..                   ...                  ...                  ...   \n",
       "994             0.083560             0.087193             0.066303   \n",
       "995             0.098093             0.104450             0.180745   \n",
       "996             0.079019             0.081744             0.087193   \n",
       "997             0.029064             0.032698             0.040872   \n",
       "998             0.069936             0.068120             0.062670   \n",
       "\n",
       "     delta chroma_std_std  Row_Index  Genre  GenreID  \n",
       "0                0.088102        0.0  blues        0  \n",
       "1                0.053588        1.0  blues        1  \n",
       "2                0.042688        2.0  blues        2  \n",
       "3                0.030881        3.0  blues        3  \n",
       "4                0.324251        4.0  blues        4  \n",
       "..                    ...        ...    ...      ...  \n",
       "994              0.066303      994.0   rock       95  \n",
       "995              0.219800      995.0   rock       96  \n",
       "996              0.092643      996.0   rock       97  \n",
       "997              0.039055      997.0   rock       98  \n",
       "998              0.063579      998.0   rock       99  \n",
       "\n",
       "[999 rows x 140 columns]"
      ]
     },
     "execution_count": 115,
     "metadata": {},
     "output_type": "execute_result"
    }
   ],
   "source": [
    "df = pd.read_csv(\"bigMusicInfo.csv\")\n",
    "df"
   ]
  },
  {
   "cell_type": "code",
   "execution_count": 116,
   "id": "eafb488e",
   "metadata": {},
   "outputs": [],
   "source": [
    "df_train = (df.copy()).iloc[:, 1:-3]"
   ]
  },
  {
   "cell_type": "code",
   "execution_count": 117,
   "id": "0aff4591",
   "metadata": {},
   "outputs": [
    {
     "data": {
      "text/html": [
       "<div>\n",
       "<style scoped>\n",
       "    .dataframe tbody tr th:only-of-type {\n",
       "        vertical-align: middle;\n",
       "    }\n",
       "\n",
       "    .dataframe tbody tr th {\n",
       "        vertical-align: top;\n",
       "    }\n",
       "\n",
       "    .dataframe thead th {\n",
       "        text-align: right;\n",
       "    }\n",
       "</style>\n",
       "<table border=\"1\" class=\"dataframe\">\n",
       "  <thead>\n",
       "    <tr style=\"text-align: right;\">\n",
       "      <th></th>\n",
       "      <th>zcr_mean</th>\n",
       "      <th>energy_mean</th>\n",
       "      <th>energy_entropy_mean</th>\n",
       "      <th>spectral_centroid_mean</th>\n",
       "      <th>spectral_spread_mean</th>\n",
       "      <th>spectral_entropy_mean</th>\n",
       "      <th>spectral_flux_mean</th>\n",
       "      <th>spectral_rolloff_mean</th>\n",
       "      <th>mfcc_1_mean</th>\n",
       "      <th>mfcc_2_mean</th>\n",
       "      <th>...</th>\n",
       "      <th>delta chroma_4_std</th>\n",
       "      <th>delta chroma_5_std</th>\n",
       "      <th>delta chroma_6_std</th>\n",
       "      <th>delta chroma_7_std</th>\n",
       "      <th>delta chroma_8_std</th>\n",
       "      <th>delta chroma_9_std</th>\n",
       "      <th>delta chroma_10_std</th>\n",
       "      <th>delta chroma_11_std</th>\n",
       "      <th>delta chroma_12_std</th>\n",
       "      <th>delta chroma_std_std</th>\n",
       "    </tr>\n",
       "  </thead>\n",
       "  <tbody>\n",
       "    <tr>\n",
       "      <th>0</th>\n",
       "      <td>0.126249</td>\n",
       "      <td>0.096276</td>\n",
       "      <td>0.092643</td>\n",
       "      <td>0.108992</td>\n",
       "      <td>0.087193</td>\n",
       "      <td>0.075386</td>\n",
       "      <td>0.082652</td>\n",
       "      <td>0.096276</td>\n",
       "      <td>0.089918</td>\n",
       "      <td>0.089010</td>\n",
       "      <td>...</td>\n",
       "      <td>0.069936</td>\n",
       "      <td>0.073569</td>\n",
       "      <td>0.065395</td>\n",
       "      <td>0.062670</td>\n",
       "      <td>0.063579</td>\n",
       "      <td>0.066303</td>\n",
       "      <td>0.081744</td>\n",
       "      <td>0.096276</td>\n",
       "      <td>0.099909</td>\n",
       "      <td>0.088102</td>\n",
       "    </tr>\n",
       "    <tr>\n",
       "      <th>1</th>\n",
       "      <td>0.029973</td>\n",
       "      <td>0.019982</td>\n",
       "      <td>0.010899</td>\n",
       "      <td>0.017257</td>\n",
       "      <td>0.019074</td>\n",
       "      <td>0.010899</td>\n",
       "      <td>0.014532</td>\n",
       "      <td>0.021798</td>\n",
       "      <td>0.015441</td>\n",
       "      <td>0.011807</td>\n",
       "      <td>...</td>\n",
       "      <td>0.092643</td>\n",
       "      <td>0.099001</td>\n",
       "      <td>0.075386</td>\n",
       "      <td>0.051771</td>\n",
       "      <td>0.043597</td>\n",
       "      <td>0.049955</td>\n",
       "      <td>0.069936</td>\n",
       "      <td>0.069936</td>\n",
       "      <td>0.055404</td>\n",
       "      <td>0.053588</td>\n",
       "    </tr>\n",
       "    <tr>\n",
       "      <th>2</th>\n",
       "      <td>0.089918</td>\n",
       "      <td>0.079927</td>\n",
       "      <td>0.082652</td>\n",
       "      <td>0.079927</td>\n",
       "      <td>0.066303</td>\n",
       "      <td>0.065395</td>\n",
       "      <td>0.069028</td>\n",
       "      <td>0.075386</td>\n",
       "      <td>0.074478</td>\n",
       "      <td>0.067212</td>\n",
       "      <td>...</td>\n",
       "      <td>0.092643</td>\n",
       "      <td>0.079019</td>\n",
       "      <td>0.066303</td>\n",
       "      <td>0.059946</td>\n",
       "      <td>0.051771</td>\n",
       "      <td>0.044505</td>\n",
       "      <td>0.044505</td>\n",
       "      <td>0.050863</td>\n",
       "      <td>0.051771</td>\n",
       "      <td>0.042688</td>\n",
       "    </tr>\n",
       "    <tr>\n",
       "      <th>3</th>\n",
       "      <td>0.019982</td>\n",
       "      <td>0.020890</td>\n",
       "      <td>0.020890</td>\n",
       "      <td>0.016349</td>\n",
       "      <td>0.012716</td>\n",
       "      <td>0.011807</td>\n",
       "      <td>0.008174</td>\n",
       "      <td>0.006358</td>\n",
       "      <td>0.008174</td>\n",
       "      <td>0.010899</td>\n",
       "      <td>...</td>\n",
       "      <td>0.039964</td>\n",
       "      <td>0.048138</td>\n",
       "      <td>0.034514</td>\n",
       "      <td>0.034514</td>\n",
       "      <td>0.036331</td>\n",
       "      <td>0.029973</td>\n",
       "      <td>0.022707</td>\n",
       "      <td>0.025431</td>\n",
       "      <td>0.034514</td>\n",
       "      <td>0.030881</td>\n",
       "    </tr>\n",
       "    <tr>\n",
       "      <th>4</th>\n",
       "      <td>0.080836</td>\n",
       "      <td>0.098093</td>\n",
       "      <td>0.099909</td>\n",
       "      <td>0.100817</td>\n",
       "      <td>0.099001</td>\n",
       "      <td>0.080836</td>\n",
       "      <td>0.060854</td>\n",
       "      <td>0.057221</td>\n",
       "      <td>0.063579</td>\n",
       "      <td>0.055404</td>\n",
       "      <td>...</td>\n",
       "      <td>0.119891</td>\n",
       "      <td>0.116258</td>\n",
       "      <td>0.120799</td>\n",
       "      <td>0.181653</td>\n",
       "      <td>0.219800</td>\n",
       "      <td>0.259764</td>\n",
       "      <td>0.290645</td>\n",
       "      <td>0.281562</td>\n",
       "      <td>0.296094</td>\n",
       "      <td>0.324251</td>\n",
       "    </tr>\n",
       "  </tbody>\n",
       "</table>\n",
       "<p>5 rows × 136 columns</p>\n",
       "</div>"
      ],
      "text/plain": [
       "   zcr_mean  energy_mean  energy_entropy_mean  spectral_centroid_mean  \\\n",
       "0  0.126249     0.096276             0.092643                0.108992   \n",
       "1  0.029973     0.019982             0.010899                0.017257   \n",
       "2  0.089918     0.079927             0.082652                0.079927   \n",
       "3  0.019982     0.020890             0.020890                0.016349   \n",
       "4  0.080836     0.098093             0.099909                0.100817   \n",
       "\n",
       "   spectral_spread_mean  spectral_entropy_mean  spectral_flux_mean  \\\n",
       "0              0.087193               0.075386            0.082652   \n",
       "1              0.019074               0.010899            0.014532   \n",
       "2              0.066303               0.065395            0.069028   \n",
       "3              0.012716               0.011807            0.008174   \n",
       "4              0.099001               0.080836            0.060854   \n",
       "\n",
       "   spectral_rolloff_mean  mfcc_1_mean  mfcc_2_mean  ...  delta chroma_4_std  \\\n",
       "0               0.096276     0.089918     0.089010  ...            0.069936   \n",
       "1               0.021798     0.015441     0.011807  ...            0.092643   \n",
       "2               0.075386     0.074478     0.067212  ...            0.092643   \n",
       "3               0.006358     0.008174     0.010899  ...            0.039964   \n",
       "4               0.057221     0.063579     0.055404  ...            0.119891   \n",
       "\n",
       "   delta chroma_5_std  delta chroma_6_std  delta chroma_7_std  \\\n",
       "0            0.073569            0.065395            0.062670   \n",
       "1            0.099001            0.075386            0.051771   \n",
       "2            0.079019            0.066303            0.059946   \n",
       "3            0.048138            0.034514            0.034514   \n",
       "4            0.116258            0.120799            0.181653   \n",
       "\n",
       "   delta chroma_8_std  delta chroma_9_std  delta chroma_10_std  \\\n",
       "0            0.063579            0.066303             0.081744   \n",
       "1            0.043597            0.049955             0.069936   \n",
       "2            0.051771            0.044505             0.044505   \n",
       "3            0.036331            0.029973             0.022707   \n",
       "4            0.219800            0.259764             0.290645   \n",
       "\n",
       "   delta chroma_11_std  delta chroma_12_std  delta chroma_std_std  \n",
       "0             0.096276             0.099909              0.088102  \n",
       "1             0.069936             0.055404              0.053588  \n",
       "2             0.050863             0.051771              0.042688  \n",
       "3             0.025431             0.034514              0.030881  \n",
       "4             0.281562             0.296094              0.324251  \n",
       "\n",
       "[5 rows x 136 columns]"
      ]
     },
     "execution_count": 117,
     "metadata": {},
     "output_type": "execute_result"
    }
   ],
   "source": [
    "df_train.head()"
   ]
  },
  {
   "cell_type": "code",
   "execution_count": 118,
   "id": "a00e7637",
   "metadata": {},
   "outputs": [],
   "source": [
    "X = df_train.values / 16\n",
    "y = df.values[:, -2]"
   ]
  },
  {
   "cell_type": "code",
   "execution_count": 119,
   "id": "b4a4e3ce",
   "metadata": {},
   "outputs": [],
   "source": [
    "from sklearn.model_selection import train_test_split\n",
    "\n",
    "X_train, X_test, y_train, y_test = train_test_split(X, y, test_size = 0.3, stratify = y)"
   ]
  },
  {
   "cell_type": "code",
   "execution_count": 120,
   "id": "37c9ba91",
   "metadata": {},
   "outputs": [
    {
     "data": {
      "text/plain": [
       "(699, 136)"
      ]
     },
     "execution_count": 120,
     "metadata": {},
     "output_type": "execute_result"
    }
   ],
   "source": [
    "X_train.shape"
   ]
  },
  {
   "cell_type": "code",
   "execution_count": 121,
   "id": "6093015f",
   "metadata": {},
   "outputs": [
    {
     "data": {
      "text/plain": [
       "(699,)"
      ]
     },
     "execution_count": 121,
     "metadata": {},
     "output_type": "execute_result"
    }
   ],
   "source": [
    "y_train.shape"
   ]
  },
  {
   "cell_type": "code",
   "execution_count": 122,
   "id": "7ae94eb6",
   "metadata": {},
   "outputs": [
    {
     "data": {
      "text/plain": [
       "array(['blues', 'classical', 'country', 'disco', 'hiphop', 'jazz',\n",
       "       'metal', 'pop', 'reggae', 'rock'], dtype=object)"
      ]
     },
     "execution_count": 122,
     "metadata": {},
     "output_type": "execute_result"
    }
   ],
   "source": [
    "np.unique(y_train)"
   ]
  },
  {
   "cell_type": "code",
   "execution_count": 123,
   "id": "070be9c6",
   "metadata": {},
   "outputs": [],
   "source": [
    "#(np.bincount(y_train) / len(y_train)).round(3)"
   ]
  },
  {
   "cell_type": "code",
   "execution_count": 124,
   "id": "ad416b3e",
   "metadata": {},
   "outputs": [],
   "source": [
    "X_train_orig = df_train.values[:, :-1]"
   ]
  },
  {
   "cell_type": "code",
   "execution_count": 125,
   "id": "e122cbb4",
   "metadata": {},
   "outputs": [
    {
     "data": {
      "text/plain": [
       "array(['blues', 'classical', 'country', 'disco', 'hiphop', 'jazz',\n",
       "       'metal', 'pop', 'reggae', 'rock'], dtype=object)"
      ]
     },
     "execution_count": 125,
     "metadata": {},
     "output_type": "execute_result"
    }
   ],
   "source": [
    "np.unique(y_train)"
   ]
  },
  {
   "cell_type": "code",
   "execution_count": null,
   "id": "982402f3",
   "metadata": {},
   "outputs": [],
   "source": []
  },
  {
   "cell_type": "code",
   "execution_count": 126,
   "id": "dd2f2bf5",
   "metadata": {},
   "outputs": [
    {
     "data": {
      "text/plain": [
       "array([['hiphop', 'classical', 'rock', 'hiphop', 'rock', 'hiphop',\n",
       "        'disco', 'metal', 'country', 'country'],\n",
       "       ['metal', 'country', 'blues', 'pop', 'classical', 'jazz', 'jazz',\n",
       "        'rock', 'reggae', 'disco'],\n",
       "       ['hiphop', 'reggae', 'classical', 'hiphop', 'jazz', 'blues',\n",
       "        'classical', 'country', 'jazz', 'hiphop'],\n",
       "       ['metal', 'reggae', 'pop', 'country', 'metal', 'rock', 'disco',\n",
       "        'classical', 'pop', 'rock'],\n",
       "       ['blues', 'disco', 'disco', 'blues', 'metal', 'country',\n",
       "        'classical', 'disco', 'reggae', 'country']], dtype=object)"
      ]
     },
     "execution_count": 126,
     "metadata": {},
     "output_type": "execute_result"
    }
   ],
   "source": [
    "y_train[:50].reshape(5, 10)"
   ]
  },
  {
   "cell_type": "code",
   "execution_count": 127,
   "id": "a7209b7b",
   "metadata": {},
   "outputs": [],
   "source": [
    "#df_test = pd.read_csv('optdigits.tes.csv', header=None)"
   ]
  },
  {
   "cell_type": "code",
   "execution_count": 128,
   "id": "5e3e2b1f",
   "metadata": {},
   "outputs": [],
   "source": [
    "#X_test = df_test.values[:, :-1] / 16\n",
    "#y_test = df_test.values[:, -1]"
   ]
  },
  {
   "cell_type": "code",
   "execution_count": 129,
   "id": "8ab26da3",
   "metadata": {},
   "outputs": [
    {
     "data": {
      "text/plain": [
       "(300, 136)"
      ]
     },
     "execution_count": 129,
     "metadata": {},
     "output_type": "execute_result"
    }
   ],
   "source": [
    "X_test.shape"
   ]
  },
  {
   "cell_type": "code",
   "execution_count": 130,
   "id": "800cb4f5",
   "metadata": {},
   "outputs": [
    {
     "data": {
      "text/plain": [
       "(300,)"
      ]
     },
     "execution_count": 130,
     "metadata": {},
     "output_type": "execute_result"
    }
   ],
   "source": [
    "y_test.shape"
   ]
  },
  {
   "cell_type": "markdown",
   "id": "68955204",
   "metadata": {},
   "source": [
    "## Decision Tree"
   ]
  },
  {
   "cell_type": "code",
   "execution_count": 131,
   "id": "0fb8cbfb",
   "metadata": {},
   "outputs": [],
   "source": [
    "from sklearn.tree import DecisionTreeClassifier"
   ]
  },
  {
   "cell_type": "markdown",
   "id": "58d50da7",
   "metadata": {},
   "source": [
    "### Finding Best Parameter"
   ]
  },
  {
   "cell_type": "code",
   "execution_count": 132,
   "id": "9f59b00a",
   "metadata": {},
   "outputs": [
    {
     "data": {
      "text/plain": [
       "{'max_depth': array([ 5,  6,  7,  8,  9, 10, 11, 12, 13, 14, 15, 16, 17, 18, 19, 20, 21,\n",
       "        22, 23, 24, 25, 26, 27, 28, 29, 30]),\n",
       " 'criterion': ['gini', 'entropy']}"
      ]
     },
     "execution_count": 132,
     "metadata": {},
     "output_type": "execute_result"
    }
   ],
   "source": [
    "depth_range = np.arange(5, 31)\n",
    "criterion_range = ['gini', 'entropy']\n",
    "dt_grid = {'max_depth': depth_range, 'criterion': criterion_range}\n",
    "dt_grid"
   ]
  },
  {
   "cell_type": "code",
   "execution_count": 133,
   "id": "f764bff3",
   "metadata": {},
   "outputs": [],
   "source": [
    "from sklearn.model_selection import GridSearchCV"
   ]
  },
  {
   "cell_type": "code",
   "execution_count": 134,
   "id": "36152235",
   "metadata": {},
   "outputs": [],
   "source": [
    "dt_gs = GridSearchCV(estimator=DecisionTreeClassifier(), \n",
    "                  param_grid=dt_grid, \n",
    "                  scoring='accuracy', \n",
    "                  refit=True,\n",
    "                  cv=5,\n",
    "                  n_jobs=-1)"
   ]
  },
  {
   "cell_type": "code",
   "execution_count": 135,
   "id": "2d7ab7cb",
   "metadata": {},
   "outputs": [],
   "source": [
    "current_time = time.time()\n",
    "dt_gs.fit(X_train, y_train)\n",
    "dt_gs_fit_time = time.time() - current_time"
   ]
  },
  {
   "cell_type": "code",
   "execution_count": 136,
   "id": "7daf71e4",
   "metadata": {},
   "outputs": [
    {
     "data": {
      "text/plain": [
       "{'criterion': 'gini', 'max_depth': 10}"
      ]
     },
     "execution_count": 136,
     "metadata": {},
     "output_type": "execute_result"
    }
   ],
   "source": [
    "dt_gs.best_params_"
   ]
  },
  {
   "cell_type": "code",
   "execution_count": 137,
   "id": "98c86c1c",
   "metadata": {},
   "outputs": [
    {
     "data": {
      "text/plain": [
       "0.20886947584789312"
      ]
     },
     "execution_count": 137,
     "metadata": {},
     "output_type": "execute_result"
    }
   ],
   "source": [
    "dt_gs.best_score_"
   ]
  },
  {
   "cell_type": "code",
   "execution_count": 138,
   "id": "678958bc",
   "metadata": {},
   "outputs": [
    {
     "data": {
      "text/html": [
       "<style>#sk-container-id-4 {color: black;background-color: white;}#sk-container-id-4 pre{padding: 0;}#sk-container-id-4 div.sk-toggleable {background-color: white;}#sk-container-id-4 label.sk-toggleable__label {cursor: pointer;display: block;width: 100%;margin-bottom: 0;padding: 0.3em;box-sizing: border-box;text-align: center;}#sk-container-id-4 label.sk-toggleable__label-arrow:before {content: \"▸\";float: left;margin-right: 0.25em;color: #696969;}#sk-container-id-4 label.sk-toggleable__label-arrow:hover:before {color: black;}#sk-container-id-4 div.sk-estimator:hover label.sk-toggleable__label-arrow:before {color: black;}#sk-container-id-4 div.sk-toggleable__content {max-height: 0;max-width: 0;overflow: hidden;text-align: left;background-color: #f0f8ff;}#sk-container-id-4 div.sk-toggleable__content pre {margin: 0.2em;color: black;border-radius: 0.25em;background-color: #f0f8ff;}#sk-container-id-4 input.sk-toggleable__control:checked~div.sk-toggleable__content {max-height: 200px;max-width: 100%;overflow: auto;}#sk-container-id-4 input.sk-toggleable__control:checked~label.sk-toggleable__label-arrow:before {content: \"▾\";}#sk-container-id-4 div.sk-estimator input.sk-toggleable__control:checked~label.sk-toggleable__label {background-color: #d4ebff;}#sk-container-id-4 div.sk-label input.sk-toggleable__control:checked~label.sk-toggleable__label {background-color: #d4ebff;}#sk-container-id-4 input.sk-hidden--visually {border: 0;clip: rect(1px 1px 1px 1px);clip: rect(1px, 1px, 1px, 1px);height: 1px;margin: -1px;overflow: hidden;padding: 0;position: absolute;width: 1px;}#sk-container-id-4 div.sk-estimator {font-family: monospace;background-color: #f0f8ff;border: 1px dotted black;border-radius: 0.25em;box-sizing: border-box;margin-bottom: 0.5em;}#sk-container-id-4 div.sk-estimator:hover {background-color: #d4ebff;}#sk-container-id-4 div.sk-parallel-item::after {content: \"\";width: 100%;border-bottom: 1px solid gray;flex-grow: 1;}#sk-container-id-4 div.sk-label:hover label.sk-toggleable__label {background-color: #d4ebff;}#sk-container-id-4 div.sk-serial::before {content: \"\";position: absolute;border-left: 1px solid gray;box-sizing: border-box;top: 0;bottom: 0;left: 50%;z-index: 0;}#sk-container-id-4 div.sk-serial {display: flex;flex-direction: column;align-items: center;background-color: white;padding-right: 0.2em;padding-left: 0.2em;position: relative;}#sk-container-id-4 div.sk-item {position: relative;z-index: 1;}#sk-container-id-4 div.sk-parallel {display: flex;align-items: stretch;justify-content: center;background-color: white;position: relative;}#sk-container-id-4 div.sk-item::before, #sk-container-id-4 div.sk-parallel-item::before {content: \"\";position: absolute;border-left: 1px solid gray;box-sizing: border-box;top: 0;bottom: 0;left: 50%;z-index: -1;}#sk-container-id-4 div.sk-parallel-item {display: flex;flex-direction: column;z-index: 1;position: relative;background-color: white;}#sk-container-id-4 div.sk-parallel-item:first-child::after {align-self: flex-end;width: 50%;}#sk-container-id-4 div.sk-parallel-item:last-child::after {align-self: flex-start;width: 50%;}#sk-container-id-4 div.sk-parallel-item:only-child::after {width: 0;}#sk-container-id-4 div.sk-dashed-wrapped {border: 1px dashed gray;margin: 0 0.4em 0.5em 0.4em;box-sizing: border-box;padding-bottom: 0.4em;background-color: white;}#sk-container-id-4 div.sk-label label {font-family: monospace;font-weight: bold;display: inline-block;line-height: 1.2em;}#sk-container-id-4 div.sk-label-container {text-align: center;}#sk-container-id-4 div.sk-container {/* jupyter's `normalize.less` sets `[hidden] { display: none; }` but bootstrap.min.css set `[hidden] { display: none !important; }` so we also need the `!important` here to be able to override the default hidden behavior on the sphinx rendered scikit-learn.org. See: https://github.com/scikit-learn/scikit-learn/issues/21755 */display: inline-block !important;position: relative;}#sk-container-id-4 div.sk-text-repr-fallback {display: none;}</style><div id=\"sk-container-id-4\" class=\"sk-top-container\"><div class=\"sk-text-repr-fallback\"><pre>DecisionTreeClassifier(max_depth=10)</pre><b>In a Jupyter environment, please rerun this cell to show the HTML representation or trust the notebook. <br />On GitHub, the HTML representation is unable to render, please try loading this page with nbviewer.org.</b></div><div class=\"sk-container\" hidden><div class=\"sk-item\"><div class=\"sk-estimator sk-toggleable\"><input class=\"sk-toggleable__control sk-hidden--visually\" id=\"sk-estimator-id-6\" type=\"checkbox\" checked><label for=\"sk-estimator-id-6\" class=\"sk-toggleable__label sk-toggleable__label-arrow\">DecisionTreeClassifier</label><div class=\"sk-toggleable__content\"><pre>DecisionTreeClassifier(max_depth=10)</pre></div></div></div></div></div>"
      ],
      "text/plain": [
       "DecisionTreeClassifier(max_depth=10)"
      ]
     },
     "execution_count": 138,
     "metadata": {},
     "output_type": "execute_result"
    }
   ],
   "source": [
    "best_dt = dt_gs.best_estimator_\n",
    "best_dt"
   ]
  },
  {
   "cell_type": "code",
   "execution_count": 139,
   "id": "65520e11",
   "metadata": {},
   "outputs": [
    {
     "data": {
      "text/plain": [
       "0.6466380543633763"
      ]
     },
     "execution_count": 139,
     "metadata": {},
     "output_type": "execute_result"
    }
   ],
   "source": [
    "current_time = time.time()\n",
    "y_train_predict_dt_gs = dt_gs.predict(X_train)\n",
    "dt_gs_train_time = time.time() - current_time\n",
    "dt_gs_train = accuracy_score(y_train, y_train_predict_dt_gs)\n",
    "dt_gs_train"
   ]
  },
  {
   "cell_type": "code",
   "execution_count": 140,
   "id": "24c77404",
   "metadata": {},
   "outputs": [
    {
     "data": {
      "text/plain": [
       "0.19666666666666666"
      ]
     },
     "execution_count": 140,
     "metadata": {},
     "output_type": "execute_result"
    }
   ],
   "source": [
    "current_time = time.time()\n",
    "y_test_predict_dt_gs = dt_gs.predict(X_test)\n",
    "dt_gs_test_time = time.time() - current_time\n",
    "dt_gs_test = accuracy_score(y_test, y_test_predict_dt_gs)\n",
    "dt_gs_test"
   ]
  },
  {
   "cell_type": "markdown",
   "id": "0792401b",
   "metadata": {},
   "source": [
    "### Fitting, Training, Testing with Best Params"
   ]
  },
  {
   "cell_type": "code",
   "execution_count": 141,
   "id": "e483969f",
   "metadata": {},
   "outputs": [],
   "source": [
    "stump = DecisionTreeClassifier(criterion= 'gini', max_depth=dt_gs.best_params_[\"max_depth\"])"
   ]
  },
  {
   "cell_type": "code",
   "execution_count": 142,
   "id": "06c3631b",
   "metadata": {},
   "outputs": [],
   "source": [
    "current_time = time.time()\n",
    "stump.fit(X_train, y_train)\n",
    "stump_fit_time = time.time() - current_time"
   ]
  },
  {
   "cell_type": "code",
   "execution_count": 143,
   "id": "30236fee",
   "metadata": {},
   "outputs": [
    {
     "data": {
      "text/plain": [
       "0.6452074391988555"
      ]
     },
     "execution_count": 143,
     "metadata": {},
     "output_type": "execute_result"
    }
   ],
   "source": [
    "current_time = time.time()\n",
    "y_train_predict_stump = stump.predict(X_train)\n",
    "stump_train_time = time.time() - current_time\n",
    "stump_train = accuracy_score(y_train, y_train_predict_stump)\n",
    "stump_train"
   ]
  },
  {
   "cell_type": "code",
   "execution_count": 144,
   "id": "af4529ec",
   "metadata": {},
   "outputs": [
    {
     "data": {
      "text/plain": [
       "0.18333333333333332"
      ]
     },
     "execution_count": 144,
     "metadata": {},
     "output_type": "execute_result"
    }
   ],
   "source": [
    "current_time = time.time()\n",
    "y_test_predict_stump = stump.predict(X_test)\n",
    "stump_test_time = time.time() - current_time\n",
    "stump_test = accuracy_score(y_test, y_test_predict_stump)\n",
    "stump_test"
   ]
  },
  {
   "cell_type": "markdown",
   "id": "918ca288",
   "metadata": {},
   "source": [
    "# Random Forest"
   ]
  },
  {
   "cell_type": "code",
   "execution_count": 145,
   "id": "dbb67cc5",
   "metadata": {},
   "outputs": [],
   "source": [
    "from sklearn.ensemble import RandomForestClassifier"
   ]
  },
  {
   "cell_type": "code",
   "execution_count": 146,
   "id": "2badaa69",
   "metadata": {},
   "outputs": [
    {
     "data": {
      "text/plain": [
       "{'max_depth': array([ 5,  6,  7,  8,  9, 10, 11, 12, 13, 14, 15, 16, 17, 18, 19, 20, 21,\n",
       "        22, 23, 24, 25, 26, 27, 28, 29, 30]),\n",
       " 'n_estimators': array([ 30,  40,  50,  60,  70,  80,  90, 100, 110, 120, 130, 140, 150,\n",
       "        160, 170, 180, 190, 200])}"
      ]
     },
     "execution_count": 146,
     "metadata": {},
     "output_type": "execute_result"
    }
   ],
   "source": [
    "depth_range = np.arange(5, 31)\n",
    "n_trees_range = np.arange(30, 210, 10)\n",
    "rf_grid = {'max_depth': depth_range, 'n_estimators': n_trees_range}\n",
    "rf_grid"
   ]
  },
  {
   "cell_type": "code",
   "execution_count": 147,
   "id": "f35412b7",
   "metadata": {},
   "outputs": [],
   "source": [
    "rf_gs = GridSearchCV(estimator=RandomForestClassifier(), \n",
    "                  param_grid=rf_grid, \n",
    "                  scoring='accuracy', \n",
    "                  refit=True,\n",
    "                  cv=5,\n",
    "                  n_jobs=-1)"
   ]
  },
  {
   "cell_type": "code",
   "execution_count": 148,
   "id": "2ea64fd6",
   "metadata": {},
   "outputs": [],
   "source": [
    "current_time = time.time()\n",
    "rf_gs.fit(X_train, y_train)\n",
    "rf_gs_fit_time = time.time() - current_time"
   ]
  },
  {
   "cell_type": "code",
   "execution_count": 149,
   "id": "bd1889cd",
   "metadata": {},
   "outputs": [
    {
     "data": {
      "text/plain": [
       "{'max_depth': 22, 'n_estimators': 90}"
      ]
     },
     "execution_count": 149,
     "metadata": {},
     "output_type": "execute_result"
    }
   ],
   "source": [
    "rf_gs.best_params_"
   ]
  },
  {
   "cell_type": "code",
   "execution_count": 150,
   "id": "3278425e",
   "metadata": {},
   "outputs": [
    {
     "data": {
      "text/plain": [
       "0.3033299075025694"
      ]
     },
     "execution_count": 150,
     "metadata": {},
     "output_type": "execute_result"
    }
   ],
   "source": [
    "rf_gs.best_score_"
   ]
  },
  {
   "cell_type": "code",
   "execution_count": 151,
   "id": "076c5669",
   "metadata": {},
   "outputs": [
    {
     "data": {
      "text/html": [
       "<style>#sk-container-id-5 {color: black;background-color: white;}#sk-container-id-5 pre{padding: 0;}#sk-container-id-5 div.sk-toggleable {background-color: white;}#sk-container-id-5 label.sk-toggleable__label {cursor: pointer;display: block;width: 100%;margin-bottom: 0;padding: 0.3em;box-sizing: border-box;text-align: center;}#sk-container-id-5 label.sk-toggleable__label-arrow:before {content: \"▸\";float: left;margin-right: 0.25em;color: #696969;}#sk-container-id-5 label.sk-toggleable__label-arrow:hover:before {color: black;}#sk-container-id-5 div.sk-estimator:hover label.sk-toggleable__label-arrow:before {color: black;}#sk-container-id-5 div.sk-toggleable__content {max-height: 0;max-width: 0;overflow: hidden;text-align: left;background-color: #f0f8ff;}#sk-container-id-5 div.sk-toggleable__content pre {margin: 0.2em;color: black;border-radius: 0.25em;background-color: #f0f8ff;}#sk-container-id-5 input.sk-toggleable__control:checked~div.sk-toggleable__content {max-height: 200px;max-width: 100%;overflow: auto;}#sk-container-id-5 input.sk-toggleable__control:checked~label.sk-toggleable__label-arrow:before {content: \"▾\";}#sk-container-id-5 div.sk-estimator input.sk-toggleable__control:checked~label.sk-toggleable__label {background-color: #d4ebff;}#sk-container-id-5 div.sk-label input.sk-toggleable__control:checked~label.sk-toggleable__label {background-color: #d4ebff;}#sk-container-id-5 input.sk-hidden--visually {border: 0;clip: rect(1px 1px 1px 1px);clip: rect(1px, 1px, 1px, 1px);height: 1px;margin: -1px;overflow: hidden;padding: 0;position: absolute;width: 1px;}#sk-container-id-5 div.sk-estimator {font-family: monospace;background-color: #f0f8ff;border: 1px dotted black;border-radius: 0.25em;box-sizing: border-box;margin-bottom: 0.5em;}#sk-container-id-5 div.sk-estimator:hover {background-color: #d4ebff;}#sk-container-id-5 div.sk-parallel-item::after {content: \"\";width: 100%;border-bottom: 1px solid gray;flex-grow: 1;}#sk-container-id-5 div.sk-label:hover label.sk-toggleable__label {background-color: #d4ebff;}#sk-container-id-5 div.sk-serial::before {content: \"\";position: absolute;border-left: 1px solid gray;box-sizing: border-box;top: 0;bottom: 0;left: 50%;z-index: 0;}#sk-container-id-5 div.sk-serial {display: flex;flex-direction: column;align-items: center;background-color: white;padding-right: 0.2em;padding-left: 0.2em;position: relative;}#sk-container-id-5 div.sk-item {position: relative;z-index: 1;}#sk-container-id-5 div.sk-parallel {display: flex;align-items: stretch;justify-content: center;background-color: white;position: relative;}#sk-container-id-5 div.sk-item::before, #sk-container-id-5 div.sk-parallel-item::before {content: \"\";position: absolute;border-left: 1px solid gray;box-sizing: border-box;top: 0;bottom: 0;left: 50%;z-index: -1;}#sk-container-id-5 div.sk-parallel-item {display: flex;flex-direction: column;z-index: 1;position: relative;background-color: white;}#sk-container-id-5 div.sk-parallel-item:first-child::after {align-self: flex-end;width: 50%;}#sk-container-id-5 div.sk-parallel-item:last-child::after {align-self: flex-start;width: 50%;}#sk-container-id-5 div.sk-parallel-item:only-child::after {width: 0;}#sk-container-id-5 div.sk-dashed-wrapped {border: 1px dashed gray;margin: 0 0.4em 0.5em 0.4em;box-sizing: border-box;padding-bottom: 0.4em;background-color: white;}#sk-container-id-5 div.sk-label label {font-family: monospace;font-weight: bold;display: inline-block;line-height: 1.2em;}#sk-container-id-5 div.sk-label-container {text-align: center;}#sk-container-id-5 div.sk-container {/* jupyter's `normalize.less` sets `[hidden] { display: none; }` but bootstrap.min.css set `[hidden] { display: none !important; }` so we also need the `!important` here to be able to override the default hidden behavior on the sphinx rendered scikit-learn.org. See: https://github.com/scikit-learn/scikit-learn/issues/21755 */display: inline-block !important;position: relative;}#sk-container-id-5 div.sk-text-repr-fallback {display: none;}</style><div id=\"sk-container-id-5\" class=\"sk-top-container\"><div class=\"sk-text-repr-fallback\"><pre>RandomForestClassifier(max_depth=22, n_estimators=90)</pre><b>In a Jupyter environment, please rerun this cell to show the HTML representation or trust the notebook. <br />On GitHub, the HTML representation is unable to render, please try loading this page with nbviewer.org.</b></div><div class=\"sk-container\" hidden><div class=\"sk-item\"><div class=\"sk-estimator sk-toggleable\"><input class=\"sk-toggleable__control sk-hidden--visually\" id=\"sk-estimator-id-7\" type=\"checkbox\" checked><label for=\"sk-estimator-id-7\" class=\"sk-toggleable__label sk-toggleable__label-arrow\">RandomForestClassifier</label><div class=\"sk-toggleable__content\"><pre>RandomForestClassifier(max_depth=22, n_estimators=90)</pre></div></div></div></div></div>"
      ],
      "text/plain": [
       "RandomForestClassifier(max_depth=22, n_estimators=90)"
      ]
     },
     "execution_count": 151,
     "metadata": {},
     "output_type": "execute_result"
    }
   ],
   "source": [
    "best_rf = rf_gs.best_estimator_\n",
    "best_rf"
   ]
  },
  {
   "cell_type": "code",
   "execution_count": 152,
   "id": "5bbf9ce9",
   "metadata": {},
   "outputs": [
    {
     "data": {
      "text/plain": [
       "0.9985693848354793"
      ]
     },
     "execution_count": 152,
     "metadata": {},
     "output_type": "execute_result"
    }
   ],
   "source": [
    "current_time = time.time()\n",
    "y_train_predict_rf_gs = rf_gs.predict(X_train)\n",
    "rf_gs_train_time = time.time() - current_time\n",
    "rf_gs_train = accuracy_score(y_train, y_train_predict_rf_gs)\n",
    "rf_gs_train"
   ]
  },
  {
   "cell_type": "code",
   "execution_count": 153,
   "id": "6b1e60e4",
   "metadata": {},
   "outputs": [
    {
     "data": {
      "text/plain": [
       "0.30666666666666664"
      ]
     },
     "execution_count": 153,
     "metadata": {},
     "output_type": "execute_result"
    }
   ],
   "source": [
    "current_time = time.time()\n",
    "y_test_predict_rf_gs = rf_gs.predict(X_test)\n",
    "rf_gs_test_time = time.time() - current_time\n",
    "rf_gs_test = accuracy_score(y_test, y_test_predict_rf_gs)\n",
    "rf_gs_test"
   ]
  },
  {
   "cell_type": "markdown",
   "id": "eba910ee",
   "metadata": {},
   "source": [
    "### Fitting, Training, Testing with Best Params"
   ]
  },
  {
   "cell_type": "code",
   "execution_count": 154,
   "id": "649d1dc5",
   "metadata": {},
   "outputs": [],
   "source": [
    "rf = RandomForestClassifier(criterion= 'gini', n_estimators=rf_gs.best_params_['n_estimators'], max_depth=rf_gs.best_params_['max_depth'])"
   ]
  },
  {
   "cell_type": "code",
   "execution_count": 155,
   "id": "e58057c8",
   "metadata": {},
   "outputs": [],
   "source": [
    "current_time = time.time()\n",
    "rf.fit(X_train, y_train)\n",
    "rf_fit_time = time.time() - current_time"
   ]
  },
  {
   "cell_type": "code",
   "execution_count": 156,
   "id": "b22c094a",
   "metadata": {},
   "outputs": [
    {
     "data": {
      "text/plain": [
       "0.9985693848354793"
      ]
     },
     "execution_count": 156,
     "metadata": {},
     "output_type": "execute_result"
    }
   ],
   "source": [
    "current_time = time.time()\n",
    "y_train_pred_rf = rf.predict(X_train)\n",
    "rf_train_time = time.time() - current_time\n",
    "RF_train = accuracy_score(y_train, y_train_pred_rf)\n",
    "RF_train"
   ]
  },
  {
   "cell_type": "code",
   "execution_count": 157,
   "id": "15014306",
   "metadata": {},
   "outputs": [
    {
     "data": {
      "text/plain": [
       "0.3"
      ]
     },
     "execution_count": 157,
     "metadata": {},
     "output_type": "execute_result"
    }
   ],
   "source": [
    "current_time = time.time()\n",
    "y_test_pred_rf = rf.predict(X_test)\n",
    "rf_test_time = time.time() - current_time\n",
    "RF_test = accuracy_score(y_test, y_test_pred_rf)\n",
    "RF_test"
   ]
  },
  {
   "cell_type": "markdown",
   "id": "3b9be8f9",
   "metadata": {},
   "source": [
    "# Logistic Regression"
   ]
  },
  {
   "cell_type": "code",
   "execution_count": 158,
   "id": "46c63e28",
   "metadata": {},
   "outputs": [],
   "source": [
    "# I dont know what parameters to tune"
   ]
  },
  {
   "cell_type": "markdown",
   "id": "c2d36304",
   "metadata": {},
   "source": [
    "# Linear SVM"
   ]
  },
  {
   "cell_type": "code",
   "execution_count": 159,
   "id": "695a5168",
   "metadata": {},
   "outputs": [],
   "source": [
    "from sklearn.svm import LinearSVC"
   ]
  },
  {
   "cell_type": "markdown",
   "id": "650d5ae6",
   "metadata": {},
   "source": [
    "### Finding best params"
   ]
  },
  {
   "cell_type": "code",
   "execution_count": 160,
   "id": "92b9e237",
   "metadata": {},
   "outputs": [
    {
     "data": {
      "text/plain": [
       "{'C': array([ 5.,  6.,  7.,  8.,  9., 10., 11., 12., 13., 14., 15., 16., 17.,\n",
       "        18., 19., 20., 21., 22., 23., 24., 25., 26., 27., 28., 29., 30.])}"
      ]
     },
     "execution_count": 160,
     "metadata": {},
     "output_type": "execute_result"
    }
   ],
   "source": [
    "c_range = np.arange(5.0, 31.0)\n",
    "lSVM_grid = {'C': c_range}\n",
    "lSVM_grid"
   ]
  },
  {
   "cell_type": "code",
   "execution_count": 161,
   "id": "4ed99546",
   "metadata": {},
   "outputs": [],
   "source": [
    "lSVM_gs = GridSearchCV(estimator=LinearSVC(max_iter=250), \n",
    "                  param_grid=lSVM_grid, \n",
    "                  scoring='accuracy', \n",
    "                  refit=True,\n",
    "                  cv=5,\n",
    "                  n_jobs=-1)"
   ]
  },
  {
   "cell_type": "code",
   "execution_count": 162,
   "id": "59070718",
   "metadata": {},
   "outputs": [
    {
     "name": "stderr",
     "output_type": "stream",
     "text": [
      "D:\\MiniConda\\envs\\ai_env\\lib\\site-packages\\sklearn\\svm\\_base.py:1225: ConvergenceWarning: Liblinear failed to converge, increase the number of iterations.\n",
      "  warnings.warn(\n"
     ]
    }
   ],
   "source": [
    "current_time = time.time()\n",
    "lSVM_gs.fit(X_train, y_train)\n",
    "lSVM_gs_fit_time = time.time() - current_time"
   ]
  },
  {
   "cell_type": "code",
   "execution_count": 163,
   "id": "00febec0",
   "metadata": {},
   "outputs": [
    {
     "data": {
      "text/plain": [
       "{'C': 10.0}"
      ]
     },
     "execution_count": 163,
     "metadata": {},
     "output_type": "execute_result"
    }
   ],
   "source": [
    "lSVM_gs.best_params_"
   ]
  },
  {
   "cell_type": "code",
   "execution_count": 164,
   "id": "d9c2f126",
   "metadata": {},
   "outputs": [
    {
     "data": {
      "text/plain": [
       "0.32045779685264664"
      ]
     },
     "execution_count": 164,
     "metadata": {},
     "output_type": "execute_result"
    }
   ],
   "source": [
    "current_time = time.time()\n",
    "y_pred_train_lSVM_gs = lSVM_gs.predict(X_train)\n",
    "lSVM_gs_train_time = time.time() - current_time\n",
    "lSVM_gs_train = accuracy_score(y_train, y_pred_train_lSVM_gs)\n",
    "lSVM_gs_train"
   ]
  },
  {
   "cell_type": "code",
   "execution_count": 165,
   "id": "f81ea48f",
   "metadata": {},
   "outputs": [
    {
     "data": {
      "text/plain": [
       "0.20666666666666667"
      ]
     },
     "execution_count": 165,
     "metadata": {},
     "output_type": "execute_result"
    }
   ],
   "source": [
    "current_time = time.time()\n",
    "y_pred_test_lSVM_gs = lSVM_gs.predict(X_test)\n",
    "lSVM_gs_test_time = time.time() - current_time\n",
    "lSVM_gs_test = accuracy_score(y_test, y_pred_test_lSVM_gs)\n",
    "lSVM_gs_test"
   ]
  },
  {
   "cell_type": "markdown",
   "id": "6842c1d7",
   "metadata": {},
   "source": [
    "### Fitting, Training, Testing with Best Params"
   ]
  },
  {
   "cell_type": "code",
   "execution_count": 166,
   "id": "89ea576f",
   "metadata": {},
   "outputs": [],
   "source": [
    "clf = LinearSVC(max_iter = 250, C = lSVM_gs.best_params_['C'])"
   ]
  },
  {
   "cell_type": "code",
   "execution_count": 167,
   "id": "1e09d654",
   "metadata": {},
   "outputs": [
    {
     "name": "stderr",
     "output_type": "stream",
     "text": [
      "D:\\MiniConda\\envs\\ai_env\\lib\\site-packages\\sklearn\\svm\\_base.py:1225: ConvergenceWarning: Liblinear failed to converge, increase the number of iterations.\n",
      "  warnings.warn(\n"
     ]
    }
   ],
   "source": [
    "current_time = time.time()\n",
    "clf.fit(X_train, y_train)\n",
    "clf_fit_time = time.time() - current_time"
   ]
  },
  {
   "cell_type": "code",
   "execution_count": 168,
   "id": "113d0312",
   "metadata": {},
   "outputs": [
    {
     "data": {
      "text/plain": [
       "0.3190271816881259"
      ]
     },
     "execution_count": 168,
     "metadata": {},
     "output_type": "execute_result"
    }
   ],
   "source": [
    "current_time = time.time()\n",
    "y_pred_train_svm_lin = clf.predict(X_train)\n",
    "clf_train_time = time.time() - current_time\n",
    "LinearSVM_train = accuracy_score(y_train, y_pred_train_svm_lin)\n",
    "LinearSVM_train"
   ]
  },
  {
   "cell_type": "code",
   "execution_count": 169,
   "id": "7cb70f9a",
   "metadata": {},
   "outputs": [
    {
     "data": {
      "text/plain": [
       "0.20666666666666667"
      ]
     },
     "execution_count": 169,
     "metadata": {},
     "output_type": "execute_result"
    }
   ],
   "source": [
    "current_time = time.time()\n",
    "y_pred_test_svm_lin = clf.predict(X_test)\n",
    "clf_test_time = time.time() - current_time\n",
    "LinearSVM_test = accuracy_score(y_test, y_pred_test_svm_lin)\n",
    "LinearSVM_test"
   ]
  },
  {
   "cell_type": "markdown",
   "id": "7f5a660c",
   "metadata": {},
   "source": [
    "# Gaussian SVM"
   ]
  },
  {
   "cell_type": "code",
   "execution_count": 170,
   "id": "0f6d4ee1",
   "metadata": {},
   "outputs": [],
   "source": [
    "from sklearn.svm import SVC"
   ]
  },
  {
   "cell_type": "markdown",
   "id": "a4003d5a",
   "metadata": {},
   "source": [
    "### Finding Best Params"
   ]
  },
  {
   "cell_type": "code",
   "execution_count": 171,
   "id": "80ef2f62",
   "metadata": {},
   "outputs": [
    {
     "data": {
      "text/plain": [
       "{'C': array([ 5.,  6.,  7.,  8.,  9., 10., 11., 12., 13., 14., 15., 16., 17.,\n",
       "        18., 19., 20., 21., 22., 23., 24., 25., 26., 27., 28., 29., 30.]),\n",
       " 'gamma': array([1.e-09, 1.e-08, 1.e-07, 1.e-06, 1.e-05, 1.e-04, 1.e-03, 1.e-02,\n",
       "        1.e-01, 1.e+00, 1.e+01, 1.e+02, 1.e+03])}"
      ]
     },
     "execution_count": 171,
     "metadata": {},
     "output_type": "execute_result"
    }
   ],
   "source": [
    "c_range = np.arange(5.0, 31.0)\n",
    "gamma_range = np.logspace(-9, 3, 13)\n",
    "gaus_grid = {'C': c_range, 'gamma': gamma_range}\n",
    "gaus_grid"
   ]
  },
  {
   "cell_type": "code",
   "execution_count": 172,
   "id": "82f5e3fc",
   "metadata": {},
   "outputs": [],
   "source": [
    "gaus_gs = GridSearchCV(estimator= SVC(max_iter=250, kernel = 'rbf'), \n",
    "                  param_grid=gaus_grid, \n",
    "                  scoring='accuracy', \n",
    "                  refit=True,\n",
    "                  cv=5,\n",
    "                  n_jobs=-1)"
   ]
  },
  {
   "cell_type": "code",
   "execution_count": 173,
   "id": "2b109401",
   "metadata": {},
   "outputs": [
    {
     "name": "stderr",
     "output_type": "stream",
     "text": [
      "D:\\MiniConda\\envs\\ai_env\\lib\\site-packages\\sklearn\\svm\\_base.py:301: ConvergenceWarning: Solver terminated early (max_iter=250).  Consider pre-processing your data with StandardScaler or MinMaxScaler.\n",
      "  warnings.warn(\n"
     ]
    }
   ],
   "source": [
    "current_time = time.time()\n",
    "gaus_gs.fit(X_train, y_train)\n",
    "gaus_gs_fit_time = time.time() - current_time"
   ]
  },
  {
   "cell_type": "code",
   "execution_count": 174,
   "id": "57164a6c",
   "metadata": {},
   "outputs": [
    {
     "data": {
      "text/plain": [
       "{'C': 10.0, 'gamma': 1000.0}"
      ]
     },
     "execution_count": 174,
     "metadata": {},
     "output_type": "execute_result"
    }
   ],
   "source": [
    "gaus_gs.best_params_"
   ]
  },
  {
   "cell_type": "code",
   "execution_count": 175,
   "id": "96a703a1",
   "metadata": {},
   "outputs": [
    {
     "data": {
      "text/plain": [
       "0.9799713876967096"
      ]
     },
     "execution_count": 175,
     "metadata": {},
     "output_type": "execute_result"
    }
   ],
   "source": [
    "current_time = time.time()\n",
    "y_pred_train_gaus_gs = gaus_gs.predict(X_train)\n",
    "gaus_gs_train_time = time.time() - current_time\n",
    "gaus_gs_train = accuracy_score(y_train, y_pred_train_gaus_gs)\n",
    "gaus_gs_train"
   ]
  },
  {
   "cell_type": "code",
   "execution_count": 176,
   "id": "555e2dbb",
   "metadata": {},
   "outputs": [
    {
     "data": {
      "text/plain": [
       "0.35"
      ]
     },
     "execution_count": 176,
     "metadata": {},
     "output_type": "execute_result"
    }
   ],
   "source": [
    "current_time = time.time()\n",
    "y_pred_test_gaus_gs = gaus_gs.predict(X_test)\n",
    "gaus_gs_test_time = time.time() - current_time\n",
    "gaus_gs_test = accuracy_score(y_test, y_pred_test_gaus_gs)\n",
    "gaus_gs_test"
   ]
  },
  {
   "cell_type": "markdown",
   "id": "a2e9aed8",
   "metadata": {},
   "source": [
    "### Fitting, Training, Testing with Best Params"
   ]
  },
  {
   "cell_type": "code",
   "execution_count": 177,
   "id": "13ac49b8",
   "metadata": {},
   "outputs": [],
   "source": [
    "svm_gaussian = SVC(kernel='rbf', max_iter = 250, C= gaus_gs.best_params_['C'], gamma = gaus_gs.best_params_['gamma'])"
   ]
  },
  {
   "cell_type": "code",
   "execution_count": 178,
   "id": "63bbe9b1",
   "metadata": {},
   "outputs": [
    {
     "name": "stderr",
     "output_type": "stream",
     "text": [
      "D:\\MiniConda\\envs\\ai_env\\lib\\site-packages\\sklearn\\svm\\_base.py:301: ConvergenceWarning: Solver terminated early (max_iter=250).  Consider pre-processing your data with StandardScaler or MinMaxScaler.\n",
      "  warnings.warn(\n"
     ]
    }
   ],
   "source": [
    "current_time = time.time()\n",
    "svm_gaussian.fit(X_train, y_train)\n",
    "gaus_fit_time = time.time() - current_time"
   ]
  },
  {
   "cell_type": "code",
   "execution_count": 179,
   "id": "daa2f16c",
   "metadata": {},
   "outputs": [
    {
     "data": {
      "text/plain": [
       "0.9799713876967096"
      ]
     },
     "execution_count": 179,
     "metadata": {},
     "output_type": "execute_result"
    }
   ],
   "source": [
    "current_time = time.time()\n",
    "y_pred_gaussian_svm = svm_gaussian.predict(X_train)\n",
    "gaus_train_time = time.time() - current_time\n",
    "GaussianSVM_train = accuracy_score(y_train, y_pred_gaussian_svm)\n",
    "GaussianSVM_train"
   ]
  },
  {
   "cell_type": "code",
   "execution_count": 180,
   "id": "1dac901c",
   "metadata": {},
   "outputs": [
    {
     "data": {
      "text/plain": [
       "0.35"
      ]
     },
     "execution_count": 180,
     "metadata": {},
     "output_type": "execute_result"
    }
   ],
   "source": [
    "current_time = time.time()\n",
    "y_test_gaussian_svm = svm_gaussian.predict(X_test)\n",
    "gaus_test_time = time.time() - current_time\n",
    "GaussianSVM_test = accuracy_score(y_test, y_test_gaussian_svm)\n",
    "GaussianSVM_test"
   ]
  },
  {
   "cell_type": "markdown",
   "id": "ac67d7b2",
   "metadata": {},
   "source": [
    "# K Nearest Neighbors"
   ]
  },
  {
   "cell_type": "code",
   "execution_count": 181,
   "id": "2d7742b0",
   "metadata": {},
   "outputs": [],
   "source": [
    "from sklearn.neighbors import KNeighborsClassifier"
   ]
  },
  {
   "cell_type": "markdown",
   "id": "bd4db452",
   "metadata": {},
   "source": [
    "### Finding Best Params"
   ]
  },
  {
   "cell_type": "code",
   "execution_count": 182,
   "id": "ba93eb0b",
   "metadata": {},
   "outputs": [
    {
     "data": {
      "text/plain": [
       "{'n_neighbors': array([ 1,  2,  3,  4,  5,  6,  7,  8,  9, 10, 11, 12, 13, 14]),\n",
       " 'weights': ['uniform', 'distance']}"
      ]
     },
     "execution_count": 182,
     "metadata": {},
     "output_type": "execute_result"
    }
   ],
   "source": [
    "n_neighbors_range = np.arange(1, 15)\n",
    "weights_range = ['uniform', 'distance']\n",
    "knn_grid = {'n_neighbors': n_neighbors_range, 'weights': weights_range}\n",
    "knn_grid"
   ]
  },
  {
   "cell_type": "code",
   "execution_count": 183,
   "id": "06c770f0",
   "metadata": {},
   "outputs": [],
   "source": [
    "knn_gs = GridSearchCV(estimator= KNeighborsClassifier(), \n",
    "                  param_grid=knn_grid, \n",
    "                  scoring='accuracy', \n",
    "                  refit=True,\n",
    "                  cv=5,\n",
    "                  n_jobs=-1)"
   ]
  },
  {
   "cell_type": "code",
   "execution_count": 184,
   "id": "6936fcf5",
   "metadata": {},
   "outputs": [],
   "source": [
    "current_time = time.time()\n",
    "knn_gs.fit(X_train, y_train)\n",
    "knn_gs_fit_time = time.time() - current_time"
   ]
  },
  {
   "cell_type": "code",
   "execution_count": 185,
   "id": "1ee621e3",
   "metadata": {},
   "outputs": [
    {
     "data": {
      "text/plain": [
       "{'n_neighbors': 4, 'weights': 'distance'}"
      ]
     },
     "execution_count": 185,
     "metadata": {},
     "output_type": "execute_result"
    }
   ],
   "source": [
    "knn_gs.best_params_"
   ]
  },
  {
   "cell_type": "code",
   "execution_count": 186,
   "id": "d858c829",
   "metadata": {},
   "outputs": [
    {
     "data": {
      "text/plain": [
       "0.9985693848354793"
      ]
     },
     "execution_count": 186,
     "metadata": {},
     "output_type": "execute_result"
    }
   ],
   "source": [
    "current_time = time.time()\n",
    "y_pred_train_knn_gs = knn_gs.predict(X_train)\n",
    "knn_gs_train_time = time.time() - current_time\n",
    "knn_gs_train = accuracy_score(y_train, y_pred_train_knn_gs)\n",
    "knn_gs_train"
   ]
  },
  {
   "cell_type": "code",
   "execution_count": 187,
   "id": "08dda2c3",
   "metadata": {},
   "outputs": [
    {
     "data": {
      "text/plain": [
       "0.22"
      ]
     },
     "execution_count": 187,
     "metadata": {},
     "output_type": "execute_result"
    }
   ],
   "source": [
    "current_time = time.time()\n",
    "y_pred_test_knn_gs = knn_gs.predict(X_test)\n",
    "knn_gs_test_time = time.time() - current_time\n",
    "knn_gs_test = accuracy_score(y_test, y_pred_test_knn_gs)\n",
    "knn_gs_test"
   ]
  },
  {
   "cell_type": "markdown",
   "id": "396705d8",
   "metadata": {},
   "source": [
    "### Fitting, Training, Testing with Best Params"
   ]
  },
  {
   "cell_type": "code",
   "execution_count": 188,
   "id": "58e1a08c",
   "metadata": {},
   "outputs": [],
   "source": [
    "knn = KNeighborsClassifier(n_neighbors= knn_gs.best_params_['n_neighbors'], weights= knn_gs.best_params_['weights'])"
   ]
  },
  {
   "cell_type": "code",
   "execution_count": 189,
   "id": "36bee870",
   "metadata": {},
   "outputs": [],
   "source": [
    "current_time = time.time()\n",
    "knn.fit(X_train, y_train)\n",
    "KNN_fit_time = time.time() - current_time"
   ]
  },
  {
   "cell_type": "code",
   "execution_count": 190,
   "id": "aceec06a",
   "metadata": {},
   "outputs": [
    {
     "data": {
      "text/plain": [
       "0.9985693848354793"
      ]
     },
     "execution_count": 190,
     "metadata": {},
     "output_type": "execute_result"
    }
   ],
   "source": [
    "current_time = time.time()\n",
    "y_pred_train_knn = knn.predict(X_train)\n",
    "KNN_train_time = time.time() - current_time\n",
    "KNearest_train = accuracy_score(y_train, y_pred_train_knn)\n",
    "KNearest_train"
   ]
  },
  {
   "cell_type": "code",
   "execution_count": 191,
   "id": "898f353b",
   "metadata": {},
   "outputs": [
    {
     "data": {
      "text/plain": [
       "0.22"
      ]
     },
     "execution_count": 191,
     "metadata": {},
     "output_type": "execute_result"
    }
   ],
   "source": [
    "current_time = time.time()\n",
    "y_pred_test_knn = knn.predict(X_test)\n",
    "KNN_test_time = time.time() - current_time\n",
    "KNearest_test = accuracy_score(y_test, y_pred_test_knn)\n",
    "KNearest_test"
   ]
  },
  {
   "cell_type": "markdown",
   "id": "1a248be0",
   "metadata": {},
   "source": [
    "# Adaboost"
   ]
  },
  {
   "cell_type": "code",
   "execution_count": 192,
   "id": "14fa31dc",
   "metadata": {},
   "outputs": [],
   "source": [
    "from sklearn.ensemble import AdaBoostClassifier"
   ]
  },
  {
   "cell_type": "markdown",
   "id": "f6f676d5",
   "metadata": {},
   "source": [
    "### Finding Best Params"
   ]
  },
  {
   "cell_type": "code",
   "execution_count": 193,
   "id": "a0bd66ea",
   "metadata": {},
   "outputs": [
    {
     "data": {
      "text/plain": [
       "{'n_estimators': array([40, 41, 42, 43, 44, 45, 46, 47, 48, 49, 50, 51, 52, 53, 54, 55, 56,\n",
       "        57, 58, 59])}"
      ]
     },
     "execution_count": 193,
     "metadata": {},
     "output_type": "execute_result"
    }
   ],
   "source": [
    "n_estimators_range = np.arange(40,60)\n",
    "#max_depth_range = np.arange(1,7)\n",
    "ada_grid = {'n_estimators': n_estimators_range}\n",
    "ada_grid\n",
    "#, 'max_depth': max_depth_range"
   ]
  },
  {
   "cell_type": "code",
   "execution_count": 194,
   "id": "7bee4958",
   "metadata": {},
   "outputs": [
    {
     "data": {
      "text/plain": [
       "{'max_depth': array([1, 2, 3, 4, 5, 6])}"
      ]
     },
     "execution_count": 194,
     "metadata": {},
     "output_type": "execute_result"
    }
   ],
   "source": [
    "max_depth_range = np.arange(1,7)\n",
    "dt_ada_grid = {'max_depth': max_depth_range}\n",
    "dt_ada_grid\n",
    "#, 'max_depth': max_depth_range"
   ]
  },
  {
   "cell_type": "code",
   "execution_count": 195,
   "id": "85e2181a",
   "metadata": {},
   "outputs": [],
   "source": [
    "model_est = GridSearchCV(estimator= DecisionTreeClassifier(), \n",
    "                  param_grid=dt_ada_grid, \n",
    "                  scoring='accuracy', \n",
    "                  refit=True,\n",
    "                  cv=5,\n",
    "                  n_jobs=-1)"
   ]
  },
  {
   "cell_type": "code",
   "execution_count": 196,
   "id": "44ddfeb9",
   "metadata": {},
   "outputs": [
    {
     "data": {
      "text/html": [
       "<style>#sk-container-id-6 {color: black;background-color: white;}#sk-container-id-6 pre{padding: 0;}#sk-container-id-6 div.sk-toggleable {background-color: white;}#sk-container-id-6 label.sk-toggleable__label {cursor: pointer;display: block;width: 100%;margin-bottom: 0;padding: 0.3em;box-sizing: border-box;text-align: center;}#sk-container-id-6 label.sk-toggleable__label-arrow:before {content: \"▸\";float: left;margin-right: 0.25em;color: #696969;}#sk-container-id-6 label.sk-toggleable__label-arrow:hover:before {color: black;}#sk-container-id-6 div.sk-estimator:hover label.sk-toggleable__label-arrow:before {color: black;}#sk-container-id-6 div.sk-toggleable__content {max-height: 0;max-width: 0;overflow: hidden;text-align: left;background-color: #f0f8ff;}#sk-container-id-6 div.sk-toggleable__content pre {margin: 0.2em;color: black;border-radius: 0.25em;background-color: #f0f8ff;}#sk-container-id-6 input.sk-toggleable__control:checked~div.sk-toggleable__content {max-height: 200px;max-width: 100%;overflow: auto;}#sk-container-id-6 input.sk-toggleable__control:checked~label.sk-toggleable__label-arrow:before {content: \"▾\";}#sk-container-id-6 div.sk-estimator input.sk-toggleable__control:checked~label.sk-toggleable__label {background-color: #d4ebff;}#sk-container-id-6 div.sk-label input.sk-toggleable__control:checked~label.sk-toggleable__label {background-color: #d4ebff;}#sk-container-id-6 input.sk-hidden--visually {border: 0;clip: rect(1px 1px 1px 1px);clip: rect(1px, 1px, 1px, 1px);height: 1px;margin: -1px;overflow: hidden;padding: 0;position: absolute;width: 1px;}#sk-container-id-6 div.sk-estimator {font-family: monospace;background-color: #f0f8ff;border: 1px dotted black;border-radius: 0.25em;box-sizing: border-box;margin-bottom: 0.5em;}#sk-container-id-6 div.sk-estimator:hover {background-color: #d4ebff;}#sk-container-id-6 div.sk-parallel-item::after {content: \"\";width: 100%;border-bottom: 1px solid gray;flex-grow: 1;}#sk-container-id-6 div.sk-label:hover label.sk-toggleable__label {background-color: #d4ebff;}#sk-container-id-6 div.sk-serial::before {content: \"\";position: absolute;border-left: 1px solid gray;box-sizing: border-box;top: 0;bottom: 0;left: 50%;z-index: 0;}#sk-container-id-6 div.sk-serial {display: flex;flex-direction: column;align-items: center;background-color: white;padding-right: 0.2em;padding-left: 0.2em;position: relative;}#sk-container-id-6 div.sk-item {position: relative;z-index: 1;}#sk-container-id-6 div.sk-parallel {display: flex;align-items: stretch;justify-content: center;background-color: white;position: relative;}#sk-container-id-6 div.sk-item::before, #sk-container-id-6 div.sk-parallel-item::before {content: \"\";position: absolute;border-left: 1px solid gray;box-sizing: border-box;top: 0;bottom: 0;left: 50%;z-index: -1;}#sk-container-id-6 div.sk-parallel-item {display: flex;flex-direction: column;z-index: 1;position: relative;background-color: white;}#sk-container-id-6 div.sk-parallel-item:first-child::after {align-self: flex-end;width: 50%;}#sk-container-id-6 div.sk-parallel-item:last-child::after {align-self: flex-start;width: 50%;}#sk-container-id-6 div.sk-parallel-item:only-child::after {width: 0;}#sk-container-id-6 div.sk-dashed-wrapped {border: 1px dashed gray;margin: 0 0.4em 0.5em 0.4em;box-sizing: border-box;padding-bottom: 0.4em;background-color: white;}#sk-container-id-6 div.sk-label label {font-family: monospace;font-weight: bold;display: inline-block;line-height: 1.2em;}#sk-container-id-6 div.sk-label-container {text-align: center;}#sk-container-id-6 div.sk-container {/* jupyter's `normalize.less` sets `[hidden] { display: none; }` but bootstrap.min.css set `[hidden] { display: none !important; }` so we also need the `!important` here to be able to override the default hidden behavior on the sphinx rendered scikit-learn.org. See: https://github.com/scikit-learn/scikit-learn/issues/21755 */display: inline-block !important;position: relative;}#sk-container-id-6 div.sk-text-repr-fallback {display: none;}</style><div id=\"sk-container-id-6\" class=\"sk-top-container\"><div class=\"sk-text-repr-fallback\"><pre>GridSearchCV(cv=5, estimator=DecisionTreeClassifier(), n_jobs=-1,\n",
       "             param_grid={&#x27;max_depth&#x27;: array([1, 2, 3, 4, 5, 6])},\n",
       "             scoring=&#x27;accuracy&#x27;)</pre><b>In a Jupyter environment, please rerun this cell to show the HTML representation or trust the notebook. <br />On GitHub, the HTML representation is unable to render, please try loading this page with nbviewer.org.</b></div><div class=\"sk-container\" hidden><div class=\"sk-item sk-dashed-wrapped\"><div class=\"sk-label-container\"><div class=\"sk-label sk-toggleable\"><input class=\"sk-toggleable__control sk-hidden--visually\" id=\"sk-estimator-id-8\" type=\"checkbox\" ><label for=\"sk-estimator-id-8\" class=\"sk-toggleable__label sk-toggleable__label-arrow\">GridSearchCV</label><div class=\"sk-toggleable__content\"><pre>GridSearchCV(cv=5, estimator=DecisionTreeClassifier(), n_jobs=-1,\n",
       "             param_grid={&#x27;max_depth&#x27;: array([1, 2, 3, 4, 5, 6])},\n",
       "             scoring=&#x27;accuracy&#x27;)</pre></div></div></div><div class=\"sk-parallel\"><div class=\"sk-parallel-item\"><div class=\"sk-item\"><div class=\"sk-label-container\"><div class=\"sk-label sk-toggleable\"><input class=\"sk-toggleable__control sk-hidden--visually\" id=\"sk-estimator-id-9\" type=\"checkbox\" ><label for=\"sk-estimator-id-9\" class=\"sk-toggleable__label sk-toggleable__label-arrow\">estimator: DecisionTreeClassifier</label><div class=\"sk-toggleable__content\"><pre>DecisionTreeClassifier()</pre></div></div></div><div class=\"sk-serial\"><div class=\"sk-item\"><div class=\"sk-estimator sk-toggleable\"><input class=\"sk-toggleable__control sk-hidden--visually\" id=\"sk-estimator-id-10\" type=\"checkbox\" ><label for=\"sk-estimator-id-10\" class=\"sk-toggleable__label sk-toggleable__label-arrow\">DecisionTreeClassifier</label><div class=\"sk-toggleable__content\"><pre>DecisionTreeClassifier()</pre></div></div></div></div></div></div></div></div></div></div>"
      ],
      "text/plain": [
       "GridSearchCV(cv=5, estimator=DecisionTreeClassifier(), n_jobs=-1,\n",
       "             param_grid={'max_depth': array([1, 2, 3, 4, 5, 6])},\n",
       "             scoring='accuracy')"
      ]
     },
     "execution_count": 196,
     "metadata": {},
     "output_type": "execute_result"
    }
   ],
   "source": [
    "model_est.fit(X_train, y_train)"
   ]
  },
  {
   "cell_type": "code",
   "execution_count": 197,
   "id": "d75fbb67",
   "metadata": {},
   "outputs": [
    {
     "data": {
      "text/plain": [
       "{'max_depth': 6}"
      ]
     },
     "execution_count": 197,
     "metadata": {},
     "output_type": "execute_result"
    }
   ],
   "source": [
    "model_est.best_params_"
   ]
  },
  {
   "cell_type": "code",
   "execution_count": 198,
   "id": "668a802b",
   "metadata": {},
   "outputs": [],
   "source": [
    "ada_gs = GridSearchCV(estimator= AdaBoostClassifier(base_estimator = DecisionTreeClassifier(max_depth = model_est.best_params_['max_depth'])), \n",
    "                  param_grid=ada_grid, \n",
    "                  scoring='accuracy', \n",
    "                  refit=True,\n",
    "                  cv=5,\n",
    "                  n_jobs=-1)"
   ]
  },
  {
   "cell_type": "code",
   "execution_count": 199,
   "id": "54550881",
   "metadata": {},
   "outputs": [],
   "source": [
    "current_time = time.time()\n",
    "ada_gs.fit(X_train, y_train)\n",
    "ada_gs_fit_time = time.time() - current_time"
   ]
  },
  {
   "cell_type": "code",
   "execution_count": 200,
   "id": "7b20b79c",
   "metadata": {},
   "outputs": [
    {
     "data": {
      "text/plain": [
       "{'n_estimators': 56}"
      ]
     },
     "execution_count": 200,
     "metadata": {},
     "output_type": "execute_result"
    }
   ],
   "source": [
    "ada_gs.best_params_"
   ]
  },
  {
   "cell_type": "code",
   "execution_count": 201,
   "id": "56304f6a",
   "metadata": {},
   "outputs": [
    {
     "data": {
      "text/plain": [
       "0.9899856938483548"
      ]
     },
     "execution_count": 201,
     "metadata": {},
     "output_type": "execute_result"
    }
   ],
   "source": [
    "current_time = time.time()\n",
    "y_pred_train_ada_gs = ada_gs.predict(X_train)\n",
    "ada_gs_train_time = time.time() - current_time\n",
    "ada_gs_train = accuracy_score(y_train, y_pred_train_ada_gs)\n",
    "ada_gs_train"
   ]
  },
  {
   "cell_type": "code",
   "execution_count": 202,
   "id": "085526d7",
   "metadata": {},
   "outputs": [
    {
     "data": {
      "text/plain": [
       "0.27666666666666667"
      ]
     },
     "execution_count": 202,
     "metadata": {},
     "output_type": "execute_result"
    }
   ],
   "source": [
    "current_time = time.time()\n",
    "y_pred_test_ada_gs = ada_gs.predict(X_test)\n",
    "ada_gs_test_time = time.time() - current_time\n",
    "ada_gs_test = accuracy_score(y_test, y_pred_test_ada_gs)\n",
    "ada_gs_test"
   ]
  },
  {
   "cell_type": "markdown",
   "id": "cf881506",
   "metadata": {},
   "source": [
    "### Fitting, Training, Testing with Best Params"
   ]
  },
  {
   "cell_type": "code",
   "execution_count": 203,
   "id": "b2cd23c9",
   "metadata": {},
   "outputs": [],
   "source": [
    "adaB = AdaBoostClassifier(DecisionTreeClassifier(max_depth = model_est.best_params_['max_depth']), n_estimators = ada_gs.best_params_['n_estimators'])"
   ]
  },
  {
   "cell_type": "code",
   "execution_count": 204,
   "id": "a4cb1890",
   "metadata": {},
   "outputs": [],
   "source": [
    "current_time = time.time()\n",
    "adaB.fit(X_train, y_train)\n",
    "adaB_fit_time = time.time() - current_time"
   ]
  },
  {
   "cell_type": "code",
   "execution_count": 205,
   "id": "af3e469c",
   "metadata": {},
   "outputs": [
    {
     "data": {
      "text/plain": [
       "0.9928469241773963"
      ]
     },
     "execution_count": 205,
     "metadata": {},
     "output_type": "execute_result"
    }
   ],
   "source": [
    "current_time = time.time()\n",
    "y_pred_train_adaB = adaB.predict(X_train)\n",
    "adaB_train_time = time.time() - current_time\n",
    "adaB_train = accuracy_score(y_train, y_pred_train_adaB)\n",
    "adaB_train"
   ]
  },
  {
   "cell_type": "code",
   "execution_count": 206,
   "id": "f771d6b2",
   "metadata": {},
   "outputs": [
    {
     "data": {
      "text/plain": [
       "0.29"
      ]
     },
     "execution_count": 206,
     "metadata": {},
     "output_type": "execute_result"
    }
   ],
   "source": [
    "current_time = time.time()\n",
    "y_pred_test_adaB = adaB.predict(X_test)\n",
    "adaB_test_time = time.time() - current_time\n",
    "adaB_test = accuracy_score(y_test, y_pred_test_adaB)\n",
    "adaB_test"
   ]
  },
  {
   "cell_type": "markdown",
   "id": "9df9d75d",
   "metadata": {},
   "source": [
    "# Results"
   ]
  },
  {
   "cell_type": "markdown",
   "id": "571370e1",
   "metadata": {},
   "source": [
    "### Accuracy of each model while finding the best parameter:"
   ]
  },
  {
   "cell_type": "code",
   "execution_count": 207,
   "id": "102ad2a5",
   "metadata": {},
   "outputs": [
    {
     "name": "stdout",
     "output_type": "stream",
     "text": [
      "The accuracy of Decision Tree for the training during hyperameter tuning:   0.6466380543633763\n",
      "The accuracy of Decision Tree for the test during hyperameter tuning:   0.19666666666666666 \n",
      "\n",
      "The accuracy of Linear SVM for the training during hyperameter tuning:   0.32045779685264664\n",
      "The accuracy of Linear SVM for the test during hyperameter tuning:   0.20666666666666667 \n",
      "\n",
      "The accuracy of Gaussian SVM for the training during hyperameter tuning:   0.9799713876967096\n",
      "The accuracy of Gaussian SVM for the test during hyperameter tuning:   0.9799713876967096 \n",
      "\n",
      "The accuracy of K Nearest Neighboors for the training during hyperameter tuning:   0.9985693848354793\n",
      "The accuracy of K Nearest Neighboors for the test during hyperameter tuning:   0.22 \n",
      "\n",
      "The accuracy of Random Forest for the training during hyperameter tuning:   0.9985693848354793\n",
      "The accuracy of Random Forest for the test during hyperameter tuning:   0.30666666666666664 \n",
      "\n",
      "The accuracy of Adaboost for the training during hyperameter tuning:   0.9899856938483548\n",
      "The accuracy of Adaboost for the test during hyperameter tuning:   0.27666666666666667 \n",
      "\n"
     ]
    }
   ],
   "source": [
    "print(\"The accuracy of Decision Tree for the training during hyperameter tuning:  \" , dt_gs_train)\n",
    "print(\"The accuracy of Decision Tree for the test during hyperameter tuning:  \" , dt_gs_test, \"\\n\")\n",
    "\n",
    "print(\"The accuracy of Linear SVM for the training during hyperameter tuning:  \" , lSVM_gs_train)\n",
    "print(\"The accuracy of Linear SVM for the test during hyperameter tuning:  \" , lSVM_gs_test, \"\\n\")\n",
    "\n",
    "print(\"The accuracy of Gaussian SVM for the training during hyperameter tuning:  \" , gaus_gs_train)\n",
    "print(\"The accuracy of Gaussian SVM for the test during hyperameter tuning:  \" , gaus_gs_train, \"\\n\")\n",
    "\n",
    "print(\"The accuracy of K Nearest Neighboors for the training during hyperameter tuning:  \" , knn_gs_train)\n",
    "print(\"The accuracy of K Nearest Neighboors for the test during hyperameter tuning:  \" , knn_gs_test, \"\\n\")\n",
    "\n",
    "print(\"The accuracy of Random Forest for the training during hyperameter tuning:  \" , rf_gs_train)\n",
    "print(\"The accuracy of Random Forest for the test during hyperameter tuning:  \" , rf_gs_test, \"\\n\")\n",
    "\n",
    "print(\"The accuracy of Adaboost for the training during hyperameter tuning:  \" , ada_gs_train)\n",
    "print(\"The accuracy of Adaboost for the test during hyperameter tuning:  \" , ada_gs_test, \"\\n\")"
   ]
  },
  {
   "cell_type": "markdown",
   "id": "376eed8a",
   "metadata": {},
   "source": [
    "### Time taken for each model during hyperameter tuning:"
   ]
  },
  {
   "cell_type": "code",
   "execution_count": 208,
   "id": "3697a3a5",
   "metadata": {},
   "outputs": [
    {
     "name": "stdout",
     "output_type": "stream",
     "text": [
      "The number of seconds for fitting in Decision Tree during hyperameter tuning:   12.004477977752686\n",
      "The number of seconds for testing the train data in Decision Tree during hyperameter tuning:   0.0019953250885009766\n",
      "The number of seconds for testing the test data in Decision Tree during hyperameter tuning:   0.0009980201721191406 \n",
      "\n",
      "The number of seconds for fitting in Linear SVM during hyperameter tuning:   15.648300647735596\n",
      "The number of seconds for testing the train data in Linear SVM during hyperameter tuning:   0.0608363151550293\n",
      "The number of seconds for testing the test data in Linear SVM during hyperameter tuning:   0.0 \n",
      "\n",
      "The number of seconds for fitting in Gaussian SVM during hyperameter tuning:   23.206920862197876\n",
      "The number of seconds for testing the train data in Gaussian SVM during hyperameter tuning:   0.11369466781616211\n",
      "The number of seconds for testing the test data in Gaussian SVM during hyperameter tuning:   0.04388260841369629 \n",
      "\n",
      "The number of seconds for fitting in K Nearest Neighboors during hyperameter tuning:   0.48769402503967285\n",
      "The number of seconds for testing the train data in K Nearest Neighboors during hyperameter tuning:   0.022937774658203125\n",
      "The number of seconds for testing the test data in K Nearest Neighboors during hyperameter tuning:   0.01096963882446289 \n",
      "\n",
      "The number of seconds for fitting in Random Forest during hyperameter tuning:   271.7080626487732\n",
      "The number of seconds for testing the train data in Random Forest during hyperameter tuning:   0.030918359756469727\n",
      "The number of seconds for testing the test data in Random Forest during hyperameter tuning:   0.017979145050048828 \n",
      "\n",
      "The number of seconds for fitting in Adaboost during hyperameter tuning:   41.94254279136658\n",
      "The number of seconds for testing the train data in Adaboost during hyperameter tuning:   0.03789806365966797\n",
      "The number of seconds for testing the test data in Adaboost during hyperameter tuning:   0.02094101905822754\n"
     ]
    }
   ],
   "source": [
    "print(\"The number of seconds for fitting in Decision Tree during hyperameter tuning:  \" , dt_gs_fit_time)\n",
    "print(\"The number of seconds for testing the train data in Decision Tree during hyperameter tuning:  \" , dt_gs_train_time)\n",
    "print(\"The number of seconds for testing the test data in Decision Tree during hyperameter tuning:  \" , dt_gs_test_time, \"\\n\")\n",
    "\n",
    "print(\"The number of seconds for fitting in Linear SVM during hyperameter tuning:  \" , lSVM_gs_fit_time)\n",
    "print(\"The number of seconds for testing the train data in Linear SVM during hyperameter tuning:  \" , lSVM_gs_train_time)\n",
    "print(\"The number of seconds for testing the test data in Linear SVM during hyperameter tuning:  \" , lSVM_gs_test_time, \"\\n\")\n",
    "\n",
    "print(\"The number of seconds for fitting in Gaussian SVM during hyperameter tuning:  \" , gaus_gs_fit_time)\n",
    "print(\"The number of seconds for testing the train data in Gaussian SVM during hyperameter tuning:  \" , gaus_gs_train_time)\n",
    "print(\"The number of seconds for testing the test data in Gaussian SVM during hyperameter tuning:  \" , gaus_gs_test_time, \"\\n\")\n",
    "\n",
    "print(\"The number of seconds for fitting in K Nearest Neighboors during hyperameter tuning:  \" , knn_gs_fit_time)\n",
    "print(\"The number of seconds for testing the train data in K Nearest Neighboors during hyperameter tuning:  \" , knn_gs_train_time)\n",
    "print(\"The number of seconds for testing the test data in K Nearest Neighboors during hyperameter tuning:  \" , knn_gs_test_time, \"\\n\")\n",
    "\n",
    "print(\"The number of seconds for fitting in Random Forest during hyperameter tuning:  \" , rf_gs_fit_time)\n",
    "print(\"The number of seconds for testing the train data in Random Forest during hyperameter tuning:  \" , rf_gs_train_time)\n",
    "print(\"The number of seconds for testing the test data in Random Forest during hyperameter tuning:  \" , rf_gs_test_time, \"\\n\")\n",
    "\n",
    "print(\"The number of seconds for fitting in Adaboost during hyperameter tuning:  \" , ada_gs_fit_time)\n",
    "print(\"The number of seconds for testing the train data in Adaboost during hyperameter tuning:  \" , ada_gs_train_time)\n",
    "print(\"The number of seconds for testing the test data in Adaboost during hyperameter tuning:  \" , ada_gs_test_time)"
   ]
  },
  {
   "cell_type": "markdown",
   "id": "e709c4ad",
   "metadata": {},
   "source": [
    "### Accuracy of the models with the best parameters:"
   ]
  },
  {
   "cell_type": "code",
   "execution_count": 209,
   "id": "5351bd4c",
   "metadata": {},
   "outputs": [
    {
     "name": "stdout",
     "output_type": "stream",
     "text": [
      "The accuracy of Decision Tree for the training with the best parameters:   0.6452074391988555\n",
      "The accuracy of Decision Tree for the test with the best parameters:   0.18333333333333332 \n",
      "\n",
      "The accuracy of Linear SVM for the training with the best parameters:   0.3190271816881259\n",
      "The accuracy of Linear SVM for the test with the best parameters:   0.20666666666666667 \n",
      "\n",
      "The accuracy of Gaussian SVM for the training with the best parameters:   0.9799713876967096\n",
      "The accuracy of Gaussian SVM for the test with the best parameters:   0.9799713876967096 \n",
      "\n",
      "The accuracy of K Nearest Neighboors for the training with the best parameters:   0.9985693848354793\n",
      "The accuracy of K Nearest Neighboors for the test with the best parameters:   0.22 \n",
      "\n",
      "The accuracy of Random Forest for the training with the best parameters:   0.9985693848354793\n",
      "The accuracy of Random Forest for the test with the best parameters:   0.3 \n",
      "\n",
      "The accuracy of Adaboost for the training with the best parameters:   0.9928469241773963\n",
      "The accuracy of Adaboost for the test with the best parameters:   0.29 \n",
      "\n"
     ]
    }
   ],
   "source": [
    "print(\"The accuracy of Decision Tree for the training with the best parameters:  \" , stump_train)\n",
    "print(\"The accuracy of Decision Tree for the test with the best parameters:  \" , stump_test, \"\\n\")\n",
    "\n",
    "print(\"The accuracy of Linear SVM for the training with the best parameters:  \" , LinearSVM_train)\n",
    "print(\"The accuracy of Linear SVM for the test with the best parameters:  \" , LinearSVM_test, \"\\n\")\n",
    "\n",
    "print(\"The accuracy of Gaussian SVM for the training with the best parameters:  \" , GaussianSVM_train)\n",
    "print(\"The accuracy of Gaussian SVM for the test with the best parameters:  \" , GaussianSVM_train, \"\\n\")\n",
    "\n",
    "print(\"The accuracy of K Nearest Neighboors for the training with the best parameters:  \" , KNearest_train)\n",
    "print(\"The accuracy of K Nearest Neighboors for the test with the best parameters:  \" , KNearest_test, \"\\n\")\n",
    "\n",
    "print(\"The accuracy of Random Forest for the training with the best parameters:  \" , RF_train)\n",
    "print(\"The accuracy of Random Forest for the test with the best parameters:  \" , RF_test, \"\\n\")\n",
    "\n",
    "print(\"The accuracy of Adaboost for the training with the best parameters:  \" , adaB_train)\n",
    "print(\"The accuracy of Adaboost for the test with the best parameters:  \" , adaB_test, \"\\n\")"
   ]
  },
  {
   "cell_type": "markdown",
   "id": "af92d930",
   "metadata": {},
   "source": [
    "### Time taken for each model with the best parameters"
   ]
  },
  {
   "cell_type": "code",
   "execution_count": 210,
   "id": "cb097507",
   "metadata": {},
   "outputs": [
    {
     "name": "stdout",
     "output_type": "stream",
     "text": [
      "The number of seconds for fitting in Decision Tree with the best parameters:   0.0718085765838623\n",
      "The number of seconds for testing the train data in Decision Tree with the best parameters:   0.0009963512420654297\n",
      "The number of seconds for testing the test data in Decision Tree with the best parameters:   0.000997304916381836 \n",
      "\n",
      "The number of seconds for fitting in Linear SVM with the best parameters:   0.48772382736206055\n",
      "The number of seconds for testing the train data in Linear SVM with the best parameters:   0.0009980201721191406\n",
      "The number of seconds for testing the test data in Linear SVM with the best parameters:   0.0009980201721191406 \n",
      "\n",
      "The number of seconds for fitting in Gaussian SVM with the best parameters:   0.08177995681762695\n",
      "The number of seconds for testing the train data in Gaussian SVM with the best parameters:   0.08976006507873535\n",
      "The number of seconds for testing the test data in Gaussian SVM with the best parameters:   0.03789663314819336 \n",
      "\n",
      "The number of seconds for fitting in K Nearest Neighboors with the best parameters:   0.0019927024841308594\n",
      "The number of seconds for testing the train data in K Nearest Neighboors with the best parameters:   0.013962507247924805\n",
      "The number of seconds for testing the test data in K Nearest Neighboors with the best parameters:   0.012966394424438477 \n",
      "\n",
      "The number of seconds for fitting in Random Forest with the best parameters:   0.5415515899658203\n",
      "The number of seconds for testing the train data in Random Forest with the best parameters:   0.0249330997467041\n",
      "The number of seconds for testing the test data in Random Forest with the best parameters:   0.0199737548828125 \n",
      "\n",
      "The number of seconds for fitting in Adaboost with the best parameters:   2.4155378341674805\n",
      "The number of seconds for testing the train data in Adaboost with the best parameters:   0.030916929244995117\n",
      "The number of seconds for testing the test data in Adaboost with the best parameters:   0.0249330997467041\n"
     ]
    }
   ],
   "source": [
    "print(\"The number of seconds for fitting in Decision Tree with the best parameters:  \" , stump_fit_time)\n",
    "print(\"The number of seconds for testing the train data in Decision Tree with the best parameters:  \" , stump_train_time)\n",
    "print(\"The number of seconds for testing the test data in Decision Tree with the best parameters:  \" , stump_test_time, \"\\n\")\n",
    "\n",
    "print(\"The number of seconds for fitting in Linear SVM with the best parameters:  \" , clf_fit_time)\n",
    "print(\"The number of seconds for testing the train data in Linear SVM with the best parameters:  \" , clf_train_time)\n",
    "print(\"The number of seconds for testing the test data in Linear SVM with the best parameters:  \" , clf_test_time, \"\\n\")\n",
    "\n",
    "print(\"The number of seconds for fitting in Gaussian SVM with the best parameters:  \" , gaus_fit_time)\n",
    "print(\"The number of seconds for testing the train data in Gaussian SVM with the best parameters:  \" , gaus_train_time)\n",
    "print(\"The number of seconds for testing the test data in Gaussian SVM with the best parameters:  \" , gaus_test_time, \"\\n\")\n",
    "\n",
    "print(\"The number of seconds for fitting in K Nearest Neighboors with the best parameters:  \" , KNN_fit_time)\n",
    "print(\"The number of seconds for testing the train data in K Nearest Neighboors with the best parameters:  \" , KNN_train_time)\n",
    "print(\"The number of seconds for testing the test data in K Nearest Neighboors with the best parameters:  \" , KNN_test_time, \"\\n\")\n",
    "\n",
    "print(\"The number of seconds for fitting in Random Forest with the best parameters:  \" , rf_fit_time)\n",
    "print(\"The number of seconds for testing the train data in Random Forest with the best parameters:  \" , rf_train_time)\n",
    "print(\"The number of seconds for testing the test data in Random Forest with the best parameters:  \" , rf_test_time, \"\\n\")\n",
    "\n",
    "print(\"The number of seconds for fitting in Adaboost with the best parameters:  \" , adaB_fit_time)\n",
    "print(\"The number of seconds for testing the train data in Adaboost with the best parameters:  \" , adaB_train_time)\n",
    "print(\"The number of seconds for testing the test data in Adaboost with the best parameters:  \" , adaB_test_time)"
   ]
  },
  {
   "cell_type": "markdown",
   "id": "a8e12094",
   "metadata": {},
   "source": [
    "# Conclusions:"
   ]
  },
  {
   "cell_type": "markdown",
   "id": "ab81dee3",
   "metadata": {},
   "source": [
    "# Observation\n",
    "\n",
    "\n",
    "# Conclusion\n"
   ]
  },
  {
   "cell_type": "code",
   "execution_count": 214,
   "id": "9c53b114",
   "metadata": {},
   "outputs": [
    {
     "data": {
      "text/html": [
       "<div>\n",
       "<style scoped>\n",
       "    .dataframe tbody tr th:only-of-type {\n",
       "        vertical-align: middle;\n",
       "    }\n",
       "\n",
       "    .dataframe tbody tr th {\n",
       "        vertical-align: top;\n",
       "    }\n",
       "\n",
       "    .dataframe thead th {\n",
       "        text-align: right;\n",
       "    }\n",
       "</style>\n",
       "<table border=\"1\" class=\"dataframe\">\n",
       "  <thead>\n",
       "    <tr style=\"text-align: right;\">\n",
       "      <th></th>\n",
       "      <th>0</th>\n",
       "    </tr>\n",
       "  </thead>\n",
       "  <tbody>\n",
       "    <tr>\n",
       "      <th>Adaboost</th>\n",
       "      <td>0.992847</td>\n",
       "    </tr>\n",
       "    <tr>\n",
       "      <th>Decision Tree</th>\n",
       "      <td>0.645207</td>\n",
       "    </tr>\n",
       "    <tr>\n",
       "      <th>Linear SVM</th>\n",
       "      <td>0.319027</td>\n",
       "    </tr>\n",
       "    <tr>\n",
       "      <th>Gaussian SVM</th>\n",
       "      <td>0.979971</td>\n",
       "    </tr>\n",
       "    <tr>\n",
       "      <th>K Nearest</th>\n",
       "      <td>0.998569</td>\n",
       "    </tr>\n",
       "    <tr>\n",
       "      <th>Random Forest</th>\n",
       "      <td>0.998569</td>\n",
       "    </tr>\n",
       "  </tbody>\n",
       "</table>\n",
       "</div>"
      ],
      "text/plain": [
       "                      0\n",
       "Adaboost       0.992847\n",
       "Decision Tree  0.645207\n",
       "Linear SVM     0.319027\n",
       "Gaussian SVM   0.979971\n",
       "K Nearest      0.998569\n",
       "Random Forest  0.998569"
      ]
     },
     "execution_count": 214,
     "metadata": {},
     "output_type": "execute_result"
    }
   ],
   "source": [
    "resultsTrain = pd.DataFrame.from_dict({\"Adaboost\": adaB_train, \"Decision Tree\" : stump_train, \"Linear SVM\" : LinearSVM_train, \"Gaussian SVM\" : GaussianSVM_train, \"K Nearest\" : KNearest_train, \"Random Forest\" : RF_train}, orient= 'index')\n",
    "resultsTrain"
   ]
  },
  {
   "cell_type": "code",
   "execution_count": 215,
   "id": "07019ef2",
   "metadata": {},
   "outputs": [
    {
     "data": {
      "text/html": [
       "<div>\n",
       "<style scoped>\n",
       "    .dataframe tbody tr th:only-of-type {\n",
       "        vertical-align: middle;\n",
       "    }\n",
       "\n",
       "    .dataframe tbody tr th {\n",
       "        vertical-align: top;\n",
       "    }\n",
       "\n",
       "    .dataframe thead th {\n",
       "        text-align: right;\n",
       "    }\n",
       "</style>\n",
       "<table border=\"1\" class=\"dataframe\">\n",
       "  <thead>\n",
       "    <tr style=\"text-align: right;\">\n",
       "      <th></th>\n",
       "      <th>0</th>\n",
       "    </tr>\n",
       "  </thead>\n",
       "  <tbody>\n",
       "    <tr>\n",
       "      <th>Adaboost</th>\n",
       "      <td>0.276667</td>\n",
       "    </tr>\n",
       "    <tr>\n",
       "      <th>Decision Tree</th>\n",
       "      <td>0.183333</td>\n",
       "    </tr>\n",
       "    <tr>\n",
       "      <th>Linear SVM</th>\n",
       "      <td>0.206667</td>\n",
       "    </tr>\n",
       "    <tr>\n",
       "      <th>Gaussian SVM</th>\n",
       "      <td>0.350000</td>\n",
       "    </tr>\n",
       "    <tr>\n",
       "      <th>K Nearest</th>\n",
       "      <td>0.220000</td>\n",
       "    </tr>\n",
       "    <tr>\n",
       "      <th>Random Forest</th>\n",
       "      <td>0.300000</td>\n",
       "    </tr>\n",
       "  </tbody>\n",
       "</table>\n",
       "</div>"
      ],
      "text/plain": [
       "                      0\n",
       "Adaboost       0.276667\n",
       "Decision Tree  0.183333\n",
       "Linear SVM     0.206667\n",
       "Gaussian SVM   0.350000\n",
       "K Nearest      0.220000\n",
       "Random Forest  0.300000"
      ]
     },
     "execution_count": 215,
     "metadata": {},
     "output_type": "execute_result"
    }
   ],
   "source": [
    "resultsTest = pd.DataFrame.from_dict({\"Adaboost\": ada_gs_test, \"Decision Tree\" : stump_test, \"Linear SVM\" : LinearSVM_test, \"Gaussian SVM\" : GaussianSVM_test, \"K Nearest\" : KNearest_test, \"Random Forest\" : RF_test}, orient= 'index')\n",
    "resultsTest"
   ]
  },
  {
   "cell_type": "code",
   "execution_count": 216,
   "id": "b2349c90",
   "metadata": {},
   "outputs": [],
   "source": [
    "resultsTrain.to_csv(\"C:\\\\Users\\\\samue\\\\Desktop\\\\AI_Proj\\\\HyperTuningTrain.csv\")\n",
    "resultsTest.to_csv(\"C:\\\\Users\\\\samue\\\\Desktop\\\\AI_Proj\\\\HyperTuningTest.csv\")"
   ]
  },
  {
   "cell_type": "code",
   "execution_count": null,
   "id": "f46d13b4",
   "metadata": {},
   "outputs": [],
   "source": []
  }
 ],
 "metadata": {
  "kernelspec": {
   "display_name": "Python 3 (ipykernel)",
   "language": "python",
   "name": "python3"
  },
  "language_info": {
   "codemirror_mode": {
    "name": "ipython",
    "version": 3
   },
   "file_extension": ".py",
   "mimetype": "text/x-python",
   "name": "python",
   "nbconvert_exporter": "python",
   "pygments_lexer": "ipython3",
   "version": "3.10.4"
  }
 },
 "nbformat": 4,
 "nbformat_minor": 5
}
