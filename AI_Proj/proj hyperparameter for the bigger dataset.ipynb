{
 "cells": [
  {
   "cell_type": "markdown",
   "id": "cadd13e3",
   "metadata": {},
   "source": [
    "# Hyperparameter Tuning For Music Generation\n",
    "## Import Packages"
   ]
  },
  {
   "cell_type": "code",
   "execution_count": 1,
   "id": "e5a0b72d",
   "metadata": {},
   "outputs": [],
   "source": [
    "import numpy as np\n",
    "import matplotlib.pyplot as plt\n",
    "import seaborn as sns; sns.set()  \n",
    "import pandas as pd\n",
    "import time\n",
    "from sklearn.metrics import accuracy_score"
   ]
  },
  {
   "cell_type": "markdown",
   "id": "57129200",
   "metadata": {},
   "source": [
    "## Load and Prepare Data"
   ]
  },
  {
   "cell_type": "code",
   "execution_count": 2,
   "id": "cab00b3c",
   "metadata": {},
   "outputs": [
    {
     "data": {
      "text/html": [
       "<div>\n",
       "<style scoped>\n",
       "    .dataframe tbody tr th:only-of-type {\n",
       "        vertical-align: middle;\n",
       "    }\n",
       "\n",
       "    .dataframe tbody tr th {\n",
       "        vertical-align: top;\n",
       "    }\n",
       "\n",
       "    .dataframe thead th {\n",
       "        text-align: right;\n",
       "    }\n",
       "</style>\n",
       "<table border=\"1\" class=\"dataframe\">\n",
       "  <thead>\n",
       "    <tr style=\"text-align: right;\">\n",
       "      <th></th>\n",
       "      <th>Unnamed: 0</th>\n",
       "      <th>zcr_mean</th>\n",
       "      <th>energy_mean</th>\n",
       "      <th>energy_entropy_mean</th>\n",
       "      <th>spectral_centroid_mean</th>\n",
       "      <th>spectral_spread_mean</th>\n",
       "      <th>spectral_entropy_mean</th>\n",
       "      <th>spectral_flux_mean</th>\n",
       "      <th>spectral_rolloff_mean</th>\n",
       "      <th>mfcc_1_mean</th>\n",
       "      <th>...</th>\n",
       "      <th>delta chroma_7_std</th>\n",
       "      <th>delta chroma_8_std</th>\n",
       "      <th>delta chroma_9_std</th>\n",
       "      <th>delta chroma_10_std</th>\n",
       "      <th>delta chroma_11_std</th>\n",
       "      <th>delta chroma_12_std</th>\n",
       "      <th>delta chroma_std_std</th>\n",
       "      <th>Row_Index</th>\n",
       "      <th>Genre</th>\n",
       "      <th>GenreID</th>\n",
       "    </tr>\n",
       "  </thead>\n",
       "  <tbody>\n",
       "    <tr>\n",
       "      <th>0</th>\n",
       "      <td>0</td>\n",
       "      <td>0.040872</td>\n",
       "      <td>0.020890</td>\n",
       "      <td>0.013624</td>\n",
       "      <td>0.009991</td>\n",
       "      <td>0.013624</td>\n",
       "      <td>0.026340</td>\n",
       "      <td>0.057221</td>\n",
       "      <td>0.177112</td>\n",
       "      <td>0.189827</td>\n",
       "      <td>...</td>\n",
       "      <td>0.008174</td>\n",
       "      <td>0.012716</td>\n",
       "      <td>0.050863</td>\n",
       "      <td>0.057221</td>\n",
       "      <td>0.029973</td>\n",
       "      <td>0.020890</td>\n",
       "      <td>0.009991</td>\n",
       "      <td>0.0</td>\n",
       "      <td>AmbientElectronic10</td>\n",
       "      <td>0.0</td>\n",
       "    </tr>\n",
       "    <tr>\n",
       "      <th>1</th>\n",
       "      <td>1</td>\n",
       "      <td>0.039055</td>\n",
       "      <td>0.060854</td>\n",
       "      <td>0.059037</td>\n",
       "      <td>0.041780</td>\n",
       "      <td>0.032698</td>\n",
       "      <td>0.037239</td>\n",
       "      <td>0.033606</td>\n",
       "      <td>0.029973</td>\n",
       "      <td>0.023615</td>\n",
       "      <td>...</td>\n",
       "      <td>0.079927</td>\n",
       "      <td>0.086285</td>\n",
       "      <td>0.073569</td>\n",
       "      <td>0.089010</td>\n",
       "      <td>0.102634</td>\n",
       "      <td>0.087193</td>\n",
       "      <td>0.082652</td>\n",
       "      <td>1.0</td>\n",
       "      <td>AmbientElectronic10</td>\n",
       "      <td>1.0</td>\n",
       "    </tr>\n",
       "    <tr>\n",
       "      <th>2</th>\n",
       "      <td>2</td>\n",
       "      <td>0.080836</td>\n",
       "      <td>0.071753</td>\n",
       "      <td>0.068120</td>\n",
       "      <td>0.064487</td>\n",
       "      <td>0.048138</td>\n",
       "      <td>0.041780</td>\n",
       "      <td>0.026340</td>\n",
       "      <td>0.019074</td>\n",
       "      <td>0.022707</td>\n",
       "      <td>...</td>\n",
       "      <td>0.037239</td>\n",
       "      <td>0.028156</td>\n",
       "      <td>0.024523</td>\n",
       "      <td>0.015441</td>\n",
       "      <td>0.009991</td>\n",
       "      <td>0.017257</td>\n",
       "      <td>0.040872</td>\n",
       "      <td>2.0</td>\n",
       "      <td>AmbientElectronic10</td>\n",
       "      <td>2.0</td>\n",
       "    </tr>\n",
       "    <tr>\n",
       "      <th>3</th>\n",
       "      <td>3</td>\n",
       "      <td>0.020890</td>\n",
       "      <td>0.015441</td>\n",
       "      <td>0.016349</td>\n",
       "      <td>0.019982</td>\n",
       "      <td>0.013624</td>\n",
       "      <td>0.008174</td>\n",
       "      <td>0.009083</td>\n",
       "      <td>0.009083</td>\n",
       "      <td>0.009083</td>\n",
       "      <td>...</td>\n",
       "      <td>0.018165</td>\n",
       "      <td>0.016349</td>\n",
       "      <td>0.022707</td>\n",
       "      <td>0.037239</td>\n",
       "      <td>0.031789</td>\n",
       "      <td>0.021798</td>\n",
       "      <td>0.019982</td>\n",
       "      <td>3.0</td>\n",
       "      <td>AmbientElectronic10</td>\n",
       "      <td>3.0</td>\n",
       "    </tr>\n",
       "    <tr>\n",
       "      <th>4</th>\n",
       "      <td>4</td>\n",
       "      <td>0.011807</td>\n",
       "      <td>0.018165</td>\n",
       "      <td>0.045413</td>\n",
       "      <td>0.073569</td>\n",
       "      <td>0.073569</td>\n",
       "      <td>0.070845</td>\n",
       "      <td>0.064487</td>\n",
       "      <td>0.066303</td>\n",
       "      <td>0.087193</td>\n",
       "      <td>...</td>\n",
       "      <td>0.013624</td>\n",
       "      <td>0.005450</td>\n",
       "      <td>0.007266</td>\n",
       "      <td>0.009991</td>\n",
       "      <td>0.007266</td>\n",
       "      <td>0.021798</td>\n",
       "      <td>0.025431</td>\n",
       "      <td>4.0</td>\n",
       "      <td>AmbientElectronic10</td>\n",
       "      <td>4.0</td>\n",
       "    </tr>\n",
       "    <tr>\n",
       "      <th>...</th>\n",
       "      <td>...</td>\n",
       "      <td>...</td>\n",
       "      <td>...</td>\n",
       "      <td>...</td>\n",
       "      <td>...</td>\n",
       "      <td>...</td>\n",
       "      <td>...</td>\n",
       "      <td>...</td>\n",
       "      <td>...</td>\n",
       "      <td>...</td>\n",
       "      <td>...</td>\n",
       "      <td>...</td>\n",
       "      <td>...</td>\n",
       "      <td>...</td>\n",
       "      <td>...</td>\n",
       "      <td>...</td>\n",
       "      <td>...</td>\n",
       "      <td>...</td>\n",
       "      <td>...</td>\n",
       "      <td>...</td>\n",
       "      <td>...</td>\n",
       "    </tr>\n",
       "    <tr>\n",
       "      <th>9343</th>\n",
       "      <td>9343</td>\n",
       "      <td>0.106267</td>\n",
       "      <td>0.116258</td>\n",
       "      <td>0.113533</td>\n",
       "      <td>0.113533</td>\n",
       "      <td>0.089918</td>\n",
       "      <td>0.091735</td>\n",
       "      <td>0.096276</td>\n",
       "      <td>0.092643</td>\n",
       "      <td>0.084469</td>\n",
       "      <td>...</td>\n",
       "      <td>0.138965</td>\n",
       "      <td>0.129882</td>\n",
       "      <td>0.130790</td>\n",
       "      <td>0.126249</td>\n",
       "      <td>0.108992</td>\n",
       "      <td>0.107175</td>\n",
       "      <td>0.110808</td>\n",
       "      <td>9298.0</td>\n",
       "      <td>Hip-Hop4</td>\n",
       "      <td>9298.0</td>\n",
       "    </tr>\n",
       "    <tr>\n",
       "      <th>9344</th>\n",
       "      <td>9344</td>\n",
       "      <td>0.053588</td>\n",
       "      <td>0.060854</td>\n",
       "      <td>0.040872</td>\n",
       "      <td>0.037239</td>\n",
       "      <td>0.046322</td>\n",
       "      <td>0.049046</td>\n",
       "      <td>0.037239</td>\n",
       "      <td>0.031789</td>\n",
       "      <td>0.032698</td>\n",
       "      <td>...</td>\n",
       "      <td>0.087193</td>\n",
       "      <td>0.081744</td>\n",
       "      <td>0.098093</td>\n",
       "      <td>0.131698</td>\n",
       "      <td>0.138056</td>\n",
       "      <td>0.114441</td>\n",
       "      <td>0.084469</td>\n",
       "      <td>9299.0</td>\n",
       "      <td>Hip-Hop4</td>\n",
       "      <td>9299.0</td>\n",
       "    </tr>\n",
       "    <tr>\n",
       "      <th>9345</th>\n",
       "      <td>9345</td>\n",
       "      <td>0.087193</td>\n",
       "      <td>0.093551</td>\n",
       "      <td>0.124432</td>\n",
       "      <td>0.128065</td>\n",
       "      <td>0.133515</td>\n",
       "      <td>0.111717</td>\n",
       "      <td>0.093551</td>\n",
       "      <td>0.080836</td>\n",
       "      <td>0.087193</td>\n",
       "      <td>...</td>\n",
       "      <td>0.099001</td>\n",
       "      <td>0.095368</td>\n",
       "      <td>0.066303</td>\n",
       "      <td>0.071753</td>\n",
       "      <td>0.084469</td>\n",
       "      <td>0.079927</td>\n",
       "      <td>0.078111</td>\n",
       "      <td>9300.0</td>\n",
       "      <td>Hip-Hop4</td>\n",
       "      <td>9300.0</td>\n",
       "    </tr>\n",
       "    <tr>\n",
       "      <th>9346</th>\n",
       "      <td>9346</td>\n",
       "      <td>0.078111</td>\n",
       "      <td>0.055404</td>\n",
       "      <td>0.051771</td>\n",
       "      <td>0.059946</td>\n",
       "      <td>0.061762</td>\n",
       "      <td>0.043597</td>\n",
       "      <td>0.038147</td>\n",
       "      <td>0.082652</td>\n",
       "      <td>0.128065</td>\n",
       "      <td>...</td>\n",
       "      <td>0.122616</td>\n",
       "      <td>0.092643</td>\n",
       "      <td>0.067212</td>\n",
       "      <td>0.080836</td>\n",
       "      <td>0.095368</td>\n",
       "      <td>0.103542</td>\n",
       "      <td>0.110808</td>\n",
       "      <td>9301.0</td>\n",
       "      <td>Hip-Hop4</td>\n",
       "      <td>9301.0</td>\n",
       "    </tr>\n",
       "    <tr>\n",
       "      <th>9347</th>\n",
       "      <td>9347</td>\n",
       "      <td>0.018165</td>\n",
       "      <td>0.019074</td>\n",
       "      <td>0.027248</td>\n",
       "      <td>0.063579</td>\n",
       "      <td>0.051771</td>\n",
       "      <td>0.019074</td>\n",
       "      <td>0.021798</td>\n",
       "      <td>0.020890</td>\n",
       "      <td>0.022707</td>\n",
       "      <td>...</td>\n",
       "      <td>0.068120</td>\n",
       "      <td>0.040872</td>\n",
       "      <td>0.021798</td>\n",
       "      <td>0.036331</td>\n",
       "      <td>0.054496</td>\n",
       "      <td>0.055404</td>\n",
       "      <td>0.044505</td>\n",
       "      <td>9302.0</td>\n",
       "      <td>Hip-Hop4</td>\n",
       "      <td>9302.0</td>\n",
       "    </tr>\n",
       "  </tbody>\n",
       "</table>\n",
       "<p>9348 rows × 140 columns</p>\n",
       "</div>"
      ],
      "text/plain": [
       "      Unnamed: 0  zcr_mean  energy_mean  energy_entropy_mean  \\\n",
       "0              0  0.040872     0.020890             0.013624   \n",
       "1              1  0.039055     0.060854             0.059037   \n",
       "2              2  0.080836     0.071753             0.068120   \n",
       "3              3  0.020890     0.015441             0.016349   \n",
       "4              4  0.011807     0.018165             0.045413   \n",
       "...          ...       ...          ...                  ...   \n",
       "9343        9343  0.106267     0.116258             0.113533   \n",
       "9344        9344  0.053588     0.060854             0.040872   \n",
       "9345        9345  0.087193     0.093551             0.124432   \n",
       "9346        9346  0.078111     0.055404             0.051771   \n",
       "9347        9347  0.018165     0.019074             0.027248   \n",
       "\n",
       "      spectral_centroid_mean  spectral_spread_mean  spectral_entropy_mean  \\\n",
       "0                   0.009991              0.013624               0.026340   \n",
       "1                   0.041780              0.032698               0.037239   \n",
       "2                   0.064487              0.048138               0.041780   \n",
       "3                   0.019982              0.013624               0.008174   \n",
       "4                   0.073569              0.073569               0.070845   \n",
       "...                      ...                   ...                    ...   \n",
       "9343                0.113533              0.089918               0.091735   \n",
       "9344                0.037239              0.046322               0.049046   \n",
       "9345                0.128065              0.133515               0.111717   \n",
       "9346                0.059946              0.061762               0.043597   \n",
       "9347                0.063579              0.051771               0.019074   \n",
       "\n",
       "      spectral_flux_mean  spectral_rolloff_mean  mfcc_1_mean  ...  \\\n",
       "0               0.057221               0.177112     0.189827  ...   \n",
       "1               0.033606               0.029973     0.023615  ...   \n",
       "2               0.026340               0.019074     0.022707  ...   \n",
       "3               0.009083               0.009083     0.009083  ...   \n",
       "4               0.064487               0.066303     0.087193  ...   \n",
       "...                  ...                    ...          ...  ...   \n",
       "9343            0.096276               0.092643     0.084469  ...   \n",
       "9344            0.037239               0.031789     0.032698  ...   \n",
       "9345            0.093551               0.080836     0.087193  ...   \n",
       "9346            0.038147               0.082652     0.128065  ...   \n",
       "9347            0.021798               0.020890     0.022707  ...   \n",
       "\n",
       "      delta chroma_7_std  delta chroma_8_std  delta chroma_9_std  \\\n",
       "0               0.008174            0.012716            0.050863   \n",
       "1               0.079927            0.086285            0.073569   \n",
       "2               0.037239            0.028156            0.024523   \n",
       "3               0.018165            0.016349            0.022707   \n",
       "4               0.013624            0.005450            0.007266   \n",
       "...                  ...                 ...                 ...   \n",
       "9343            0.138965            0.129882            0.130790   \n",
       "9344            0.087193            0.081744            0.098093   \n",
       "9345            0.099001            0.095368            0.066303   \n",
       "9346            0.122616            0.092643            0.067212   \n",
       "9347            0.068120            0.040872            0.021798   \n",
       "\n",
       "      delta chroma_10_std  delta chroma_11_std  delta chroma_12_std  \\\n",
       "0                0.057221             0.029973             0.020890   \n",
       "1                0.089010             0.102634             0.087193   \n",
       "2                0.015441             0.009991             0.017257   \n",
       "3                0.037239             0.031789             0.021798   \n",
       "4                0.009991             0.007266             0.021798   \n",
       "...                   ...                  ...                  ...   \n",
       "9343             0.126249             0.108992             0.107175   \n",
       "9344             0.131698             0.138056             0.114441   \n",
       "9345             0.071753             0.084469             0.079927   \n",
       "9346             0.080836             0.095368             0.103542   \n",
       "9347             0.036331             0.054496             0.055404   \n",
       "\n",
       "      delta chroma_std_std  Row_Index                Genre  GenreID  \n",
       "0                 0.009991        0.0  AmbientElectronic10      0.0  \n",
       "1                 0.082652        1.0  AmbientElectronic10      1.0  \n",
       "2                 0.040872        2.0  AmbientElectronic10      2.0  \n",
       "3                 0.019982        3.0  AmbientElectronic10      3.0  \n",
       "4                 0.025431        4.0  AmbientElectronic10      4.0  \n",
       "...                    ...        ...                  ...      ...  \n",
       "9343              0.110808     9298.0             Hip-Hop4   9298.0  \n",
       "9344              0.084469     9299.0             Hip-Hop4   9299.0  \n",
       "9345              0.078111     9300.0             Hip-Hop4   9300.0  \n",
       "9346              0.110808     9301.0             Hip-Hop4   9301.0  \n",
       "9347              0.044505     9302.0             Hip-Hop4   9302.0  \n",
       "\n",
       "[9348 rows x 140 columns]"
      ]
     },
     "execution_count": 2,
     "metadata": {},
     "output_type": "execute_result"
    }
   ],
   "source": [
    "df = pd.read_csv(\"biggerFileMusicInfo.csv\")\n",
    "df"
   ]
  },
  {
   "cell_type": "code",
   "execution_count": 3,
   "id": "eafb488e",
   "metadata": {},
   "outputs": [],
   "source": [
    "df_train = (df.copy()).iloc[:, 1:-3]"
   ]
  },
  {
   "cell_type": "code",
   "execution_count": 4,
   "id": "0aff4591",
   "metadata": {},
   "outputs": [
    {
     "data": {
      "text/html": [
       "<div>\n",
       "<style scoped>\n",
       "    .dataframe tbody tr th:only-of-type {\n",
       "        vertical-align: middle;\n",
       "    }\n",
       "\n",
       "    .dataframe tbody tr th {\n",
       "        vertical-align: top;\n",
       "    }\n",
       "\n",
       "    .dataframe thead th {\n",
       "        text-align: right;\n",
       "    }\n",
       "</style>\n",
       "<table border=\"1\" class=\"dataframe\">\n",
       "  <thead>\n",
       "    <tr style=\"text-align: right;\">\n",
       "      <th></th>\n",
       "      <th>zcr_mean</th>\n",
       "      <th>energy_mean</th>\n",
       "      <th>energy_entropy_mean</th>\n",
       "      <th>spectral_centroid_mean</th>\n",
       "      <th>spectral_spread_mean</th>\n",
       "      <th>spectral_entropy_mean</th>\n",
       "      <th>spectral_flux_mean</th>\n",
       "      <th>spectral_rolloff_mean</th>\n",
       "      <th>mfcc_1_mean</th>\n",
       "      <th>mfcc_2_mean</th>\n",
       "      <th>...</th>\n",
       "      <th>delta chroma_4_std</th>\n",
       "      <th>delta chroma_5_std</th>\n",
       "      <th>delta chroma_6_std</th>\n",
       "      <th>delta chroma_7_std</th>\n",
       "      <th>delta chroma_8_std</th>\n",
       "      <th>delta chroma_9_std</th>\n",
       "      <th>delta chroma_10_std</th>\n",
       "      <th>delta chroma_11_std</th>\n",
       "      <th>delta chroma_12_std</th>\n",
       "      <th>delta chroma_std_std</th>\n",
       "    </tr>\n",
       "  </thead>\n",
       "  <tbody>\n",
       "    <tr>\n",
       "      <th>0</th>\n",
       "      <td>0.040872</td>\n",
       "      <td>0.020890</td>\n",
       "      <td>0.013624</td>\n",
       "      <td>0.009991</td>\n",
       "      <td>0.013624</td>\n",
       "      <td>0.026340</td>\n",
       "      <td>0.057221</td>\n",
       "      <td>0.177112</td>\n",
       "      <td>0.189827</td>\n",
       "      <td>0.079019</td>\n",
       "      <td>...</td>\n",
       "      <td>0.009083</td>\n",
       "      <td>0.014532</td>\n",
       "      <td>0.013624</td>\n",
       "      <td>0.008174</td>\n",
       "      <td>0.012716</td>\n",
       "      <td>0.050863</td>\n",
       "      <td>0.057221</td>\n",
       "      <td>0.029973</td>\n",
       "      <td>0.020890</td>\n",
       "      <td>0.009991</td>\n",
       "    </tr>\n",
       "    <tr>\n",
       "      <th>1</th>\n",
       "      <td>0.039055</td>\n",
       "      <td>0.060854</td>\n",
       "      <td>0.059037</td>\n",
       "      <td>0.041780</td>\n",
       "      <td>0.032698</td>\n",
       "      <td>0.037239</td>\n",
       "      <td>0.033606</td>\n",
       "      <td>0.029973</td>\n",
       "      <td>0.023615</td>\n",
       "      <td>0.032698</td>\n",
       "      <td>...</td>\n",
       "      <td>0.088102</td>\n",
       "      <td>0.110808</td>\n",
       "      <td>0.091735</td>\n",
       "      <td>0.079927</td>\n",
       "      <td>0.086285</td>\n",
       "      <td>0.073569</td>\n",
       "      <td>0.089010</td>\n",
       "      <td>0.102634</td>\n",
       "      <td>0.087193</td>\n",
       "      <td>0.082652</td>\n",
       "    </tr>\n",
       "    <tr>\n",
       "      <th>2</th>\n",
       "      <td>0.080836</td>\n",
       "      <td>0.071753</td>\n",
       "      <td>0.068120</td>\n",
       "      <td>0.064487</td>\n",
       "      <td>0.048138</td>\n",
       "      <td>0.041780</td>\n",
       "      <td>0.026340</td>\n",
       "      <td>0.019074</td>\n",
       "      <td>0.022707</td>\n",
       "      <td>0.028156</td>\n",
       "      <td>...</td>\n",
       "      <td>0.008174</td>\n",
       "      <td>0.024523</td>\n",
       "      <td>0.041780</td>\n",
       "      <td>0.037239</td>\n",
       "      <td>0.028156</td>\n",
       "      <td>0.024523</td>\n",
       "      <td>0.015441</td>\n",
       "      <td>0.009991</td>\n",
       "      <td>0.017257</td>\n",
       "      <td>0.040872</td>\n",
       "    </tr>\n",
       "    <tr>\n",
       "      <th>3</th>\n",
       "      <td>0.020890</td>\n",
       "      <td>0.015441</td>\n",
       "      <td>0.016349</td>\n",
       "      <td>0.019982</td>\n",
       "      <td>0.013624</td>\n",
       "      <td>0.008174</td>\n",
       "      <td>0.009083</td>\n",
       "      <td>0.009083</td>\n",
       "      <td>0.009083</td>\n",
       "      <td>0.009991</td>\n",
       "      <td>...</td>\n",
       "      <td>0.038147</td>\n",
       "      <td>0.031789</td>\n",
       "      <td>0.026340</td>\n",
       "      <td>0.018165</td>\n",
       "      <td>0.016349</td>\n",
       "      <td>0.022707</td>\n",
       "      <td>0.037239</td>\n",
       "      <td>0.031789</td>\n",
       "      <td>0.021798</td>\n",
       "      <td>0.019982</td>\n",
       "    </tr>\n",
       "    <tr>\n",
       "      <th>4</th>\n",
       "      <td>0.011807</td>\n",
       "      <td>0.018165</td>\n",
       "      <td>0.045413</td>\n",
       "      <td>0.073569</td>\n",
       "      <td>0.073569</td>\n",
       "      <td>0.070845</td>\n",
       "      <td>0.064487</td>\n",
       "      <td>0.066303</td>\n",
       "      <td>0.087193</td>\n",
       "      <td>0.101726</td>\n",
       "      <td>...</td>\n",
       "      <td>0.012716</td>\n",
       "      <td>0.016349</td>\n",
       "      <td>0.019074</td>\n",
       "      <td>0.013624</td>\n",
       "      <td>0.005450</td>\n",
       "      <td>0.007266</td>\n",
       "      <td>0.009991</td>\n",
       "      <td>0.007266</td>\n",
       "      <td>0.021798</td>\n",
       "      <td>0.025431</td>\n",
       "    </tr>\n",
       "  </tbody>\n",
       "</table>\n",
       "<p>5 rows × 136 columns</p>\n",
       "</div>"
      ],
      "text/plain": [
       "   zcr_mean  energy_mean  energy_entropy_mean  spectral_centroid_mean  \\\n",
       "0  0.040872     0.020890             0.013624                0.009991   \n",
       "1  0.039055     0.060854             0.059037                0.041780   \n",
       "2  0.080836     0.071753             0.068120                0.064487   \n",
       "3  0.020890     0.015441             0.016349                0.019982   \n",
       "4  0.011807     0.018165             0.045413                0.073569   \n",
       "\n",
       "   spectral_spread_mean  spectral_entropy_mean  spectral_flux_mean  \\\n",
       "0              0.013624               0.026340            0.057221   \n",
       "1              0.032698               0.037239            0.033606   \n",
       "2              0.048138               0.041780            0.026340   \n",
       "3              0.013624               0.008174            0.009083   \n",
       "4              0.073569               0.070845            0.064487   \n",
       "\n",
       "   spectral_rolloff_mean  mfcc_1_mean  mfcc_2_mean  ...  delta chroma_4_std  \\\n",
       "0               0.177112     0.189827     0.079019  ...            0.009083   \n",
       "1               0.029973     0.023615     0.032698  ...            0.088102   \n",
       "2               0.019074     0.022707     0.028156  ...            0.008174   \n",
       "3               0.009083     0.009083     0.009991  ...            0.038147   \n",
       "4               0.066303     0.087193     0.101726  ...            0.012716   \n",
       "\n",
       "   delta chroma_5_std  delta chroma_6_std  delta chroma_7_std  \\\n",
       "0            0.014532            0.013624            0.008174   \n",
       "1            0.110808            0.091735            0.079927   \n",
       "2            0.024523            0.041780            0.037239   \n",
       "3            0.031789            0.026340            0.018165   \n",
       "4            0.016349            0.019074            0.013624   \n",
       "\n",
       "   delta chroma_8_std  delta chroma_9_std  delta chroma_10_std  \\\n",
       "0            0.012716            0.050863             0.057221   \n",
       "1            0.086285            0.073569             0.089010   \n",
       "2            0.028156            0.024523             0.015441   \n",
       "3            0.016349            0.022707             0.037239   \n",
       "4            0.005450            0.007266             0.009991   \n",
       "\n",
       "   delta chroma_11_std  delta chroma_12_std  delta chroma_std_std  \n",
       "0             0.029973             0.020890              0.009991  \n",
       "1             0.102634             0.087193              0.082652  \n",
       "2             0.009991             0.017257              0.040872  \n",
       "3             0.031789             0.021798              0.019982  \n",
       "4             0.007266             0.021798              0.025431  \n",
       "\n",
       "[5 rows x 136 columns]"
      ]
     },
     "execution_count": 4,
     "metadata": {},
     "output_type": "execute_result"
    }
   ],
   "source": [
    "df_train.head()"
   ]
  },
  {
   "cell_type": "code",
   "execution_count": 5,
   "id": "a00e7637",
   "metadata": {},
   "outputs": [],
   "source": [
    "X = df_train.values / 16\n",
    "y = df.values[:, -2]"
   ]
  },
  {
   "cell_type": "code",
   "execution_count": 6,
   "id": "b4a4e3ce",
   "metadata": {},
   "outputs": [],
   "source": [
    "from sklearn.model_selection import train_test_split\n",
    "\n",
    "X_train, X_test, y_train, y_test = train_test_split(X, y, test_size = 0.3, stratify = y)"
   ]
  },
  {
   "cell_type": "code",
   "execution_count": 7,
   "id": "37c9ba91",
   "metadata": {},
   "outputs": [
    {
     "data": {
      "text/plain": [
       "(6543, 136)"
      ]
     },
     "execution_count": 7,
     "metadata": {},
     "output_type": "execute_result"
    }
   ],
   "source": [
    "X_train.shape"
   ]
  },
  {
   "cell_type": "code",
   "execution_count": 8,
   "id": "6093015f",
   "metadata": {},
   "outputs": [
    {
     "data": {
      "text/plain": [
       "(6543,)"
      ]
     },
     "execution_count": 8,
     "metadata": {},
     "output_type": "execute_result"
    }
   ],
   "source": [
    "y_train.shape"
   ]
  },
  {
   "cell_type": "code",
   "execution_count": 9,
   "id": "7ae94eb6",
   "metadata": {},
   "outputs": [
    {
     "data": {
      "text/plain": [
       "array(['AmbientElectronic10', 'Blues17', 'ChiptuneGlitch6', 'Classical11',\n",
       "       'Country14', 'Electronic0', 'Experimental3', 'Folk5', 'Hip-Hop4'],\n",
       "      dtype=object)"
      ]
     },
     "execution_count": 9,
     "metadata": {},
     "output_type": "execute_result"
    }
   ],
   "source": [
    "np.unique(y_train)"
   ]
  },
  {
   "cell_type": "code",
   "execution_count": 10,
   "id": "070be9c6",
   "metadata": {},
   "outputs": [],
   "source": [
    "#(np.bincount(y_train) / len(y_train)).round(3)"
   ]
  },
  {
   "cell_type": "code",
   "execution_count": 11,
   "id": "ad416b3e",
   "metadata": {},
   "outputs": [],
   "source": [
    "X_train_orig = df_train.values[:, :-1]"
   ]
  },
  {
   "cell_type": "code",
   "execution_count": 12,
   "id": "e122cbb4",
   "metadata": {},
   "outputs": [
    {
     "data": {
      "text/plain": [
       "array(['AmbientElectronic10', 'Blues17', 'ChiptuneGlitch6', 'Classical11',\n",
       "       'Country14', 'Electronic0', 'Experimental3', 'Folk5', 'Hip-Hop4'],\n",
       "      dtype=object)"
      ]
     },
     "execution_count": 12,
     "metadata": {},
     "output_type": "execute_result"
    }
   ],
   "source": [
    "np.unique(y_train)"
   ]
  },
  {
   "cell_type": "code",
   "execution_count": null,
   "id": "982402f3",
   "metadata": {},
   "outputs": [],
   "source": []
  },
  {
   "cell_type": "code",
   "execution_count": 13,
   "id": "dd2f2bf5",
   "metadata": {},
   "outputs": [
    {
     "data": {
      "text/plain": [
       "array([['Electronic0', 'AmbientElectronic10', 'Electronic0',\n",
       "        'Electronic0', 'AmbientElectronic10', 'Experimental3', 'Folk5',\n",
       "        'Electronic0', 'Electronic0', 'Classical11'],\n",
       "       ['Experimental3', 'ChiptuneGlitch6', 'Experimental3',\n",
       "        'Electronic0', 'Folk5', 'Classical11', 'Electronic0',\n",
       "        'Electronic0', 'Electronic0', 'Electronic0'],\n",
       "       ['Electronic0', 'ChiptuneGlitch6', 'ChiptuneGlitch6',\n",
       "        'Electronic0', 'ChiptuneGlitch6', 'Experimental3', 'Electronic0',\n",
       "        'Experimental3', 'Electronic0', 'ChiptuneGlitch6'],\n",
       "       ['Electronic0', 'Electronic0', 'Experimental3',\n",
       "        'AmbientElectronic10', 'Folk5', 'Folk5', 'AmbientElectronic10',\n",
       "        'Experimental3', 'Folk5', 'Classical11'],\n",
       "       ['Experimental3', 'Electronic0', 'Electronic0', 'Experimental3',\n",
       "        'Electronic0', 'Experimental3', 'Experimental3', 'Electronic0',\n",
       "        'Electronic0', 'Folk5']], dtype=object)"
      ]
     },
     "execution_count": 13,
     "metadata": {},
     "output_type": "execute_result"
    }
   ],
   "source": [
    "y_train[:50].reshape(5, 10)"
   ]
  },
  {
   "cell_type": "code",
   "execution_count": 14,
   "id": "a7209b7b",
   "metadata": {},
   "outputs": [],
   "source": [
    "#df_test = pd.read_csv('optdigits.tes.csv', header=None)"
   ]
  },
  {
   "cell_type": "code",
   "execution_count": 15,
   "id": "5e3e2b1f",
   "metadata": {},
   "outputs": [],
   "source": [
    "#X_test = df_test.values[:, :-1] / 16\n",
    "#y_test = df_test.values[:, -1]"
   ]
  },
  {
   "cell_type": "code",
   "execution_count": 16,
   "id": "8ab26da3",
   "metadata": {},
   "outputs": [
    {
     "data": {
      "text/plain": [
       "(2805, 136)"
      ]
     },
     "execution_count": 16,
     "metadata": {},
     "output_type": "execute_result"
    }
   ],
   "source": [
    "X_test.shape"
   ]
  },
  {
   "cell_type": "code",
   "execution_count": 17,
   "id": "800cb4f5",
   "metadata": {},
   "outputs": [
    {
     "data": {
      "text/plain": [
       "(2805,)"
      ]
     },
     "execution_count": 17,
     "metadata": {},
     "output_type": "execute_result"
    }
   ],
   "source": [
    "y_test.shape"
   ]
  },
  {
   "cell_type": "markdown",
   "id": "68955204",
   "metadata": {},
   "source": [
    "## Decision Tree"
   ]
  },
  {
   "cell_type": "code",
   "execution_count": 18,
   "id": "0fb8cbfb",
   "metadata": {},
   "outputs": [],
   "source": [
    "from sklearn.tree import DecisionTreeClassifier"
   ]
  },
  {
   "cell_type": "markdown",
   "id": "58d50da7",
   "metadata": {},
   "source": [
    "### Finding Best Parameter"
   ]
  },
  {
   "cell_type": "code",
   "execution_count": 19,
   "id": "9f59b00a",
   "metadata": {},
   "outputs": [
    {
     "data": {
      "text/plain": [
       "{'max_depth': array([ 5,  6,  7,  8,  9, 10, 11, 12, 13, 14, 15, 16, 17, 18, 19, 20, 21,\n",
       "        22, 23, 24, 25, 26, 27, 28, 29, 30]),\n",
       " 'criterion': ['gini', 'entropy']}"
      ]
     },
     "execution_count": 19,
     "metadata": {},
     "output_type": "execute_result"
    }
   ],
   "source": [
    "depth_range = np.arange(5, 31)\n",
    "criterion_range = ['gini', 'entropy']\n",
    "dt_grid = {'max_depth': depth_range, 'criterion': criterion_range}\n",
    "dt_grid"
   ]
  },
  {
   "cell_type": "code",
   "execution_count": 20,
   "id": "f764bff3",
   "metadata": {},
   "outputs": [],
   "source": [
    "from sklearn.model_selection import GridSearchCV"
   ]
  },
  {
   "cell_type": "code",
   "execution_count": 21,
   "id": "36152235",
   "metadata": {},
   "outputs": [],
   "source": [
    "dt_gs = GridSearchCV(estimator=DecisionTreeClassifier(), \n",
    "                  param_grid=dt_grid, \n",
    "                  scoring='accuracy', \n",
    "                  refit=True,\n",
    "                  cv=5,\n",
    "                  n_jobs=-1)"
   ]
  },
  {
   "cell_type": "code",
   "execution_count": 22,
   "id": "2d7ab7cb",
   "metadata": {},
   "outputs": [],
   "source": [
    "current_time = time.time()\n",
    "dt_gs.fit(X_train, y_train)\n",
    "dt_gs_fit_time = time.time() - current_time"
   ]
  },
  {
   "cell_type": "code",
   "execution_count": 23,
   "id": "7daf71e4",
   "metadata": {},
   "outputs": [
    {
     "data": {
      "text/plain": [
       "{'criterion': 'gini', 'max_depth': 5}"
      ]
     },
     "execution_count": 23,
     "metadata": {},
     "output_type": "execute_result"
    }
   ],
   "source": [
    "dt_gs.best_params_"
   ]
  },
  {
   "cell_type": "code",
   "execution_count": 24,
   "id": "98c86c1c",
   "metadata": {},
   "outputs": [
    {
     "data": {
      "text/plain": [
       "0.3336394941629696"
      ]
     },
     "execution_count": 24,
     "metadata": {},
     "output_type": "execute_result"
    }
   ],
   "source": [
    "dt_gs.best_score_"
   ]
  },
  {
   "cell_type": "code",
   "execution_count": 25,
   "id": "678958bc",
   "metadata": {},
   "outputs": [
    {
     "data": {
      "text/html": [
       "<style>#sk-container-id-1 {color: black;background-color: white;}#sk-container-id-1 pre{padding: 0;}#sk-container-id-1 div.sk-toggleable {background-color: white;}#sk-container-id-1 label.sk-toggleable__label {cursor: pointer;display: block;width: 100%;margin-bottom: 0;padding: 0.3em;box-sizing: border-box;text-align: center;}#sk-container-id-1 label.sk-toggleable__label-arrow:before {content: \"▸\";float: left;margin-right: 0.25em;color: #696969;}#sk-container-id-1 label.sk-toggleable__label-arrow:hover:before {color: black;}#sk-container-id-1 div.sk-estimator:hover label.sk-toggleable__label-arrow:before {color: black;}#sk-container-id-1 div.sk-toggleable__content {max-height: 0;max-width: 0;overflow: hidden;text-align: left;background-color: #f0f8ff;}#sk-container-id-1 div.sk-toggleable__content pre {margin: 0.2em;color: black;border-radius: 0.25em;background-color: #f0f8ff;}#sk-container-id-1 input.sk-toggleable__control:checked~div.sk-toggleable__content {max-height: 200px;max-width: 100%;overflow: auto;}#sk-container-id-1 input.sk-toggleable__control:checked~label.sk-toggleable__label-arrow:before {content: \"▾\";}#sk-container-id-1 div.sk-estimator input.sk-toggleable__control:checked~label.sk-toggleable__label {background-color: #d4ebff;}#sk-container-id-1 div.sk-label input.sk-toggleable__control:checked~label.sk-toggleable__label {background-color: #d4ebff;}#sk-container-id-1 input.sk-hidden--visually {border: 0;clip: rect(1px 1px 1px 1px);clip: rect(1px, 1px, 1px, 1px);height: 1px;margin: -1px;overflow: hidden;padding: 0;position: absolute;width: 1px;}#sk-container-id-1 div.sk-estimator {font-family: monospace;background-color: #f0f8ff;border: 1px dotted black;border-radius: 0.25em;box-sizing: border-box;margin-bottom: 0.5em;}#sk-container-id-1 div.sk-estimator:hover {background-color: #d4ebff;}#sk-container-id-1 div.sk-parallel-item::after {content: \"\";width: 100%;border-bottom: 1px solid gray;flex-grow: 1;}#sk-container-id-1 div.sk-label:hover label.sk-toggleable__label {background-color: #d4ebff;}#sk-container-id-1 div.sk-serial::before {content: \"\";position: absolute;border-left: 1px solid gray;box-sizing: border-box;top: 0;bottom: 0;left: 50%;z-index: 0;}#sk-container-id-1 div.sk-serial {display: flex;flex-direction: column;align-items: center;background-color: white;padding-right: 0.2em;padding-left: 0.2em;position: relative;}#sk-container-id-1 div.sk-item {position: relative;z-index: 1;}#sk-container-id-1 div.sk-parallel {display: flex;align-items: stretch;justify-content: center;background-color: white;position: relative;}#sk-container-id-1 div.sk-item::before, #sk-container-id-1 div.sk-parallel-item::before {content: \"\";position: absolute;border-left: 1px solid gray;box-sizing: border-box;top: 0;bottom: 0;left: 50%;z-index: -1;}#sk-container-id-1 div.sk-parallel-item {display: flex;flex-direction: column;z-index: 1;position: relative;background-color: white;}#sk-container-id-1 div.sk-parallel-item:first-child::after {align-self: flex-end;width: 50%;}#sk-container-id-1 div.sk-parallel-item:last-child::after {align-self: flex-start;width: 50%;}#sk-container-id-1 div.sk-parallel-item:only-child::after {width: 0;}#sk-container-id-1 div.sk-dashed-wrapped {border: 1px dashed gray;margin: 0 0.4em 0.5em 0.4em;box-sizing: border-box;padding-bottom: 0.4em;background-color: white;}#sk-container-id-1 div.sk-label label {font-family: monospace;font-weight: bold;display: inline-block;line-height: 1.2em;}#sk-container-id-1 div.sk-label-container {text-align: center;}#sk-container-id-1 div.sk-container {/* jupyter's `normalize.less` sets `[hidden] { display: none; }` but bootstrap.min.css set `[hidden] { display: none !important; }` so we also need the `!important` here to be able to override the default hidden behavior on the sphinx rendered scikit-learn.org. See: https://github.com/scikit-learn/scikit-learn/issues/21755 */display: inline-block !important;position: relative;}#sk-container-id-1 div.sk-text-repr-fallback {display: none;}</style><div id=\"sk-container-id-1\" class=\"sk-top-container\"><div class=\"sk-text-repr-fallback\"><pre>DecisionTreeClassifier(max_depth=5)</pre><b>In a Jupyter environment, please rerun this cell to show the HTML representation or trust the notebook. <br />On GitHub, the HTML representation is unable to render, please try loading this page with nbviewer.org.</b></div><div class=\"sk-container\" hidden><div class=\"sk-item\"><div class=\"sk-estimator sk-toggleable\"><input class=\"sk-toggleable__control sk-hidden--visually\" id=\"sk-estimator-id-1\" type=\"checkbox\" checked><label for=\"sk-estimator-id-1\" class=\"sk-toggleable__label sk-toggleable__label-arrow\">DecisionTreeClassifier</label><div class=\"sk-toggleable__content\"><pre>DecisionTreeClassifier(max_depth=5)</pre></div></div></div></div></div>"
      ],
      "text/plain": [
       "DecisionTreeClassifier(max_depth=5)"
      ]
     },
     "execution_count": 25,
     "metadata": {},
     "output_type": "execute_result"
    }
   ],
   "source": [
    "best_dt = dt_gs.best_estimator_\n",
    "best_dt"
   ]
  },
  {
   "cell_type": "code",
   "execution_count": 26,
   "id": "65520e11",
   "metadata": {},
   "outputs": [
    {
     "data": {
      "text/plain": [
       "0.3403637475164298"
      ]
     },
     "execution_count": 26,
     "metadata": {},
     "output_type": "execute_result"
    }
   ],
   "source": [
    "current_time = time.time()\n",
    "y_train_predict_dt_gs = dt_gs.predict(X_train)\n",
    "dt_gs_train_time = time.time() - current_time\n",
    "dt_gs_train = accuracy_score(y_train, y_train_predict_dt_gs)\n",
    "dt_gs_train"
   ]
  },
  {
   "cell_type": "code",
   "execution_count": 27,
   "id": "24c77404",
   "metadata": {},
   "outputs": [
    {
     "data": {
      "text/plain": [
       "0.3226381461675579"
      ]
     },
     "execution_count": 27,
     "metadata": {},
     "output_type": "execute_result"
    }
   ],
   "source": [
    "current_time = time.time()\n",
    "y_test_predict_dt_gs = dt_gs.predict(X_test)\n",
    "dt_gs_test_time = time.time() - current_time\n",
    "dt_gs_test = accuracy_score(y_test, y_test_predict_dt_gs)\n",
    "dt_gs_test"
   ]
  },
  {
   "cell_type": "markdown",
   "id": "0792401b",
   "metadata": {},
   "source": [
    "### Fitting, Training, Testing with Best Params"
   ]
  },
  {
   "cell_type": "code",
   "execution_count": 28,
   "id": "e483969f",
   "metadata": {},
   "outputs": [],
   "source": [
    "stump = DecisionTreeClassifier(criterion= 'gini', max_depth=dt_gs.best_params_[\"max_depth\"])"
   ]
  },
  {
   "cell_type": "code",
   "execution_count": 29,
   "id": "06c3631b",
   "metadata": {},
   "outputs": [],
   "source": [
    "current_time = time.time()\n",
    "stump.fit(X_train, y_train)\n",
    "stump_fit_time = time.time() - current_time"
   ]
  },
  {
   "cell_type": "code",
   "execution_count": 30,
   "id": "30236fee",
   "metadata": {},
   "outputs": [
    {
     "data": {
      "text/plain": [
       "0.3403637475164298"
      ]
     },
     "execution_count": 30,
     "metadata": {},
     "output_type": "execute_result"
    }
   ],
   "source": [
    "current_time = time.time()\n",
    "y_train_predict_stump = stump.predict(X_train)\n",
    "stump_train_time = time.time() - current_time\n",
    "stump_train = accuracy_score(y_train, y_train_predict_stump)\n",
    "stump_train"
   ]
  },
  {
   "cell_type": "code",
   "execution_count": 31,
   "id": "af4529ec",
   "metadata": {},
   "outputs": [
    {
     "data": {
      "text/plain": [
       "0.3233511586452763"
      ]
     },
     "execution_count": 31,
     "metadata": {},
     "output_type": "execute_result"
    }
   ],
   "source": [
    "current_time = time.time()\n",
    "y_test_predict_stump = stump.predict(X_test)\n",
    "stump_test_time = time.time() - current_time\n",
    "stump_test = accuracy_score(y_test, y_test_predict_stump)\n",
    "stump_test"
   ]
  },
  {
   "cell_type": "markdown",
   "id": "918ca288",
   "metadata": {},
   "source": [
    "# Random Forest"
   ]
  },
  {
   "cell_type": "code",
   "execution_count": 32,
   "id": "dbb67cc5",
   "metadata": {},
   "outputs": [],
   "source": [
    "from sklearn.ensemble import RandomForestClassifier"
   ]
  },
  {
   "cell_type": "code",
   "execution_count": 33,
   "id": "2badaa69",
   "metadata": {},
   "outputs": [
    {
     "data": {
      "text/plain": [
       "{'max_depth': array([ 5,  6,  7,  8,  9, 10, 11, 12, 13, 14, 15, 16, 17, 18, 19, 20, 21,\n",
       "        22, 23, 24, 25, 26, 27, 28, 29, 30]),\n",
       " 'n_estimators': array([ 30,  40,  50,  60,  70,  80,  90, 100, 110, 120, 130, 140, 150,\n",
       "        160, 170, 180, 190, 200])}"
      ]
     },
     "execution_count": 33,
     "metadata": {},
     "output_type": "execute_result"
    }
   ],
   "source": [
    "depth_range = np.arange(5, 31)\n",
    "n_trees_range = np.arange(30, 210, 10)\n",
    "rf_grid = {'max_depth': depth_range, 'n_estimators': n_trees_range}\n",
    "rf_grid"
   ]
  },
  {
   "cell_type": "code",
   "execution_count": 34,
   "id": "f35412b7",
   "metadata": {},
   "outputs": [],
   "source": [
    "rf_gs = GridSearchCV(estimator=RandomForestClassifier(), \n",
    "                  param_grid=rf_grid, \n",
    "                  scoring='accuracy', \n",
    "                  refit=True,\n",
    "                  cv=5,\n",
    "                  n_jobs=-1)"
   ]
  },
  {
   "cell_type": "code",
   "execution_count": 35,
   "id": "2ea64fd6",
   "metadata": {},
   "outputs": [],
   "source": [
    "current_time = time.time()\n",
    "rf_gs.fit(X_train, y_train)\n",
    "rf_gs_fit_time = time.time() - current_time"
   ]
  },
  {
   "cell_type": "code",
   "execution_count": 36,
   "id": "bd1889cd",
   "metadata": {},
   "outputs": [
    {
     "data": {
      "text/plain": [
       "{'max_depth': 30, 'n_estimators': 200}"
      ]
     },
     "execution_count": 36,
     "metadata": {},
     "output_type": "execute_result"
    }
   ],
   "source": [
    "rf_gs.best_params_"
   ]
  },
  {
   "cell_type": "code",
   "execution_count": 37,
   "id": "3278425e",
   "metadata": {},
   "outputs": [
    {
     "data": {
      "text/plain": [
       "0.3937044876332518"
      ]
     },
     "execution_count": 37,
     "metadata": {},
     "output_type": "execute_result"
    }
   ],
   "source": [
    "rf_gs.best_score_"
   ]
  },
  {
   "cell_type": "code",
   "execution_count": 38,
   "id": "076c5669",
   "metadata": {},
   "outputs": [
    {
     "data": {
      "text/html": [
       "<style>#sk-container-id-2 {color: black;background-color: white;}#sk-container-id-2 pre{padding: 0;}#sk-container-id-2 div.sk-toggleable {background-color: white;}#sk-container-id-2 label.sk-toggleable__label {cursor: pointer;display: block;width: 100%;margin-bottom: 0;padding: 0.3em;box-sizing: border-box;text-align: center;}#sk-container-id-2 label.sk-toggleable__label-arrow:before {content: \"▸\";float: left;margin-right: 0.25em;color: #696969;}#sk-container-id-2 label.sk-toggleable__label-arrow:hover:before {color: black;}#sk-container-id-2 div.sk-estimator:hover label.sk-toggleable__label-arrow:before {color: black;}#sk-container-id-2 div.sk-toggleable__content {max-height: 0;max-width: 0;overflow: hidden;text-align: left;background-color: #f0f8ff;}#sk-container-id-2 div.sk-toggleable__content pre {margin: 0.2em;color: black;border-radius: 0.25em;background-color: #f0f8ff;}#sk-container-id-2 input.sk-toggleable__control:checked~div.sk-toggleable__content {max-height: 200px;max-width: 100%;overflow: auto;}#sk-container-id-2 input.sk-toggleable__control:checked~label.sk-toggleable__label-arrow:before {content: \"▾\";}#sk-container-id-2 div.sk-estimator input.sk-toggleable__control:checked~label.sk-toggleable__label {background-color: #d4ebff;}#sk-container-id-2 div.sk-label input.sk-toggleable__control:checked~label.sk-toggleable__label {background-color: #d4ebff;}#sk-container-id-2 input.sk-hidden--visually {border: 0;clip: rect(1px 1px 1px 1px);clip: rect(1px, 1px, 1px, 1px);height: 1px;margin: -1px;overflow: hidden;padding: 0;position: absolute;width: 1px;}#sk-container-id-2 div.sk-estimator {font-family: monospace;background-color: #f0f8ff;border: 1px dotted black;border-radius: 0.25em;box-sizing: border-box;margin-bottom: 0.5em;}#sk-container-id-2 div.sk-estimator:hover {background-color: #d4ebff;}#sk-container-id-2 div.sk-parallel-item::after {content: \"\";width: 100%;border-bottom: 1px solid gray;flex-grow: 1;}#sk-container-id-2 div.sk-label:hover label.sk-toggleable__label {background-color: #d4ebff;}#sk-container-id-2 div.sk-serial::before {content: \"\";position: absolute;border-left: 1px solid gray;box-sizing: border-box;top: 0;bottom: 0;left: 50%;z-index: 0;}#sk-container-id-2 div.sk-serial {display: flex;flex-direction: column;align-items: center;background-color: white;padding-right: 0.2em;padding-left: 0.2em;position: relative;}#sk-container-id-2 div.sk-item {position: relative;z-index: 1;}#sk-container-id-2 div.sk-parallel {display: flex;align-items: stretch;justify-content: center;background-color: white;position: relative;}#sk-container-id-2 div.sk-item::before, #sk-container-id-2 div.sk-parallel-item::before {content: \"\";position: absolute;border-left: 1px solid gray;box-sizing: border-box;top: 0;bottom: 0;left: 50%;z-index: -1;}#sk-container-id-2 div.sk-parallel-item {display: flex;flex-direction: column;z-index: 1;position: relative;background-color: white;}#sk-container-id-2 div.sk-parallel-item:first-child::after {align-self: flex-end;width: 50%;}#sk-container-id-2 div.sk-parallel-item:last-child::after {align-self: flex-start;width: 50%;}#sk-container-id-2 div.sk-parallel-item:only-child::after {width: 0;}#sk-container-id-2 div.sk-dashed-wrapped {border: 1px dashed gray;margin: 0 0.4em 0.5em 0.4em;box-sizing: border-box;padding-bottom: 0.4em;background-color: white;}#sk-container-id-2 div.sk-label label {font-family: monospace;font-weight: bold;display: inline-block;line-height: 1.2em;}#sk-container-id-2 div.sk-label-container {text-align: center;}#sk-container-id-2 div.sk-container {/* jupyter's `normalize.less` sets `[hidden] { display: none; }` but bootstrap.min.css set `[hidden] { display: none !important; }` so we also need the `!important` here to be able to override the default hidden behavior on the sphinx rendered scikit-learn.org. See: https://github.com/scikit-learn/scikit-learn/issues/21755 */display: inline-block !important;position: relative;}#sk-container-id-2 div.sk-text-repr-fallback {display: none;}</style><div id=\"sk-container-id-2\" class=\"sk-top-container\"><div class=\"sk-text-repr-fallback\"><pre>RandomForestClassifier(max_depth=30, n_estimators=200)</pre><b>In a Jupyter environment, please rerun this cell to show the HTML representation or trust the notebook. <br />On GitHub, the HTML representation is unable to render, please try loading this page with nbviewer.org.</b></div><div class=\"sk-container\" hidden><div class=\"sk-item\"><div class=\"sk-estimator sk-toggleable\"><input class=\"sk-toggleable__control sk-hidden--visually\" id=\"sk-estimator-id-2\" type=\"checkbox\" checked><label for=\"sk-estimator-id-2\" class=\"sk-toggleable__label sk-toggleable__label-arrow\">RandomForestClassifier</label><div class=\"sk-toggleable__content\"><pre>RandomForestClassifier(max_depth=30, n_estimators=200)</pre></div></div></div></div></div>"
      ],
      "text/plain": [
       "RandomForestClassifier(max_depth=30, n_estimators=200)"
      ]
     },
     "execution_count": 38,
     "metadata": {},
     "output_type": "execute_result"
    }
   ],
   "source": [
    "best_rf = rf_gs.best_estimator_\n",
    "best_rf"
   ]
  },
  {
   "cell_type": "code",
   "execution_count": 39,
   "id": "5bbf9ce9",
   "metadata": {},
   "outputs": [
    {
     "data": {
      "text/plain": [
       "0.9996943298181262"
      ]
     },
     "execution_count": 39,
     "metadata": {},
     "output_type": "execute_result"
    }
   ],
   "source": [
    "current_time = time.time()\n",
    "y_train_predict_rf_gs = rf_gs.predict(X_train)\n",
    "rf_gs_train_time = time.time() - current_time\n",
    "rf_gs_train = accuracy_score(y_train, y_train_predict_rf_gs)\n",
    "rf_gs_train"
   ]
  },
  {
   "cell_type": "code",
   "execution_count": 40,
   "id": "6b1e60e4",
   "metadata": {},
   "outputs": [
    {
     "data": {
      "text/plain": [
       "0.40035650623885916"
      ]
     },
     "execution_count": 40,
     "metadata": {},
     "output_type": "execute_result"
    }
   ],
   "source": [
    "current_time = time.time()\n",
    "y_test_predict_rf_gs = rf_gs.predict(X_test)\n",
    "rf_gs_test_time = time.time() - current_time\n",
    "rf_gs_test = accuracy_score(y_test, y_test_predict_rf_gs)\n",
    "rf_gs_test"
   ]
  },
  {
   "cell_type": "markdown",
   "id": "eba910ee",
   "metadata": {},
   "source": [
    "### Fitting, Training, Testing with Best Params"
   ]
  },
  {
   "cell_type": "code",
   "execution_count": 41,
   "id": "649d1dc5",
   "metadata": {},
   "outputs": [],
   "source": [
    "rf = RandomForestClassifier(criterion= 'gini', n_estimators=rf_gs.best_params_['n_estimators'], max_depth=rf_gs.best_params_['max_depth'])"
   ]
  },
  {
   "cell_type": "code",
   "execution_count": 42,
   "id": "e58057c8",
   "metadata": {},
   "outputs": [],
   "source": [
    "current_time = time.time()\n",
    "rf.fit(X_train, y_train)\n",
    "rf_fit_time = time.time() - current_time"
   ]
  },
  {
   "cell_type": "code",
   "execution_count": 43,
   "id": "b22c094a",
   "metadata": {},
   "outputs": [
    {
     "data": {
      "text/plain": [
       "0.9996943298181262"
      ]
     },
     "execution_count": 43,
     "metadata": {},
     "output_type": "execute_result"
    }
   ],
   "source": [
    "current_time = time.time()\n",
    "y_train_pred_rf = rf.predict(X_train)\n",
    "rf_train_time = time.time() - current_time\n",
    "RF_train = accuracy_score(y_train, y_train_pred_rf)\n",
    "RF_train"
   ]
  },
  {
   "cell_type": "code",
   "execution_count": 44,
   "id": "15014306",
   "metadata": {},
   "outputs": [
    {
     "data": {
      "text/plain": [
       "0.3932263814616756"
      ]
     },
     "execution_count": 44,
     "metadata": {},
     "output_type": "execute_result"
    }
   ],
   "source": [
    "current_time = time.time()\n",
    "y_test_pred_rf = rf.predict(X_test)\n",
    "rf_test_time = time.time() - current_time\n",
    "RF_test = accuracy_score(y_test, y_test_pred_rf)\n",
    "RF_test"
   ]
  },
  {
   "cell_type": "markdown",
   "id": "3b9be8f9",
   "metadata": {},
   "source": [
    "# Logistic Regression"
   ]
  },
  {
   "cell_type": "code",
   "execution_count": 45,
   "id": "46c63e28",
   "metadata": {},
   "outputs": [],
   "source": [
    "# I dont know what parameters to tune"
   ]
  },
  {
   "cell_type": "markdown",
   "id": "c2d36304",
   "metadata": {},
   "source": [
    "# Linear SVM"
   ]
  },
  {
   "cell_type": "code",
   "execution_count": 46,
   "id": "695a5168",
   "metadata": {},
   "outputs": [],
   "source": [
    "from sklearn.svm import LinearSVC"
   ]
  },
  {
   "cell_type": "markdown",
   "id": "650d5ae6",
   "metadata": {},
   "source": [
    "### Finding best params"
   ]
  },
  {
   "cell_type": "code",
   "execution_count": 47,
   "id": "92b9e237",
   "metadata": {},
   "outputs": [
    {
     "data": {
      "text/plain": [
       "{'C': array([ 5.,  6.,  7.,  8.,  9., 10., 11., 12., 13., 14., 15., 16., 17.,\n",
       "        18., 19., 20., 21., 22., 23., 24., 25., 26., 27., 28., 29., 30.])}"
      ]
     },
     "execution_count": 47,
     "metadata": {},
     "output_type": "execute_result"
    }
   ],
   "source": [
    "c_range = np.arange(5.0, 31.0)\n",
    "lSVM_grid = {'C': c_range}\n",
    "lSVM_grid"
   ]
  },
  {
   "cell_type": "code",
   "execution_count": 48,
   "id": "4ed99546",
   "metadata": {},
   "outputs": [],
   "source": [
    "lSVM_gs = GridSearchCV(estimator=LinearSVC(max_iter=250), \n",
    "                  param_grid=lSVM_grid, \n",
    "                  scoring='accuracy', \n",
    "                  refit=True,\n",
    "                  cv=5,\n",
    "                  n_jobs=-1)"
   ]
  },
  {
   "cell_type": "code",
   "execution_count": 49,
   "id": "59070718",
   "metadata": {},
   "outputs": [],
   "source": [
    "current_time = time.time()\n",
    "lSVM_gs.fit(X_train, y_train)\n",
    "lSVM_gs_fit_time = time.time() - current_time"
   ]
  },
  {
   "cell_type": "code",
   "execution_count": 50,
   "id": "00febec0",
   "metadata": {},
   "outputs": [
    {
     "data": {
      "text/plain": [
       "{'C': 5.0}"
      ]
     },
     "execution_count": 50,
     "metadata": {},
     "output_type": "execute_result"
    }
   ],
   "source": [
    "lSVM_gs.best_params_"
   ]
  },
  {
   "cell_type": "code",
   "execution_count": 51,
   "id": "d9c2f126",
   "metadata": {},
   "outputs": [
    {
     "data": {
      "text/plain": [
       "0.33241632278771205"
      ]
     },
     "execution_count": 51,
     "metadata": {},
     "output_type": "execute_result"
    }
   ],
   "source": [
    "current_time = time.time()\n",
    "y_pred_train_lSVM_gs = lSVM_gs.predict(X_train)\n",
    "lSVM_gs_train_time = time.time() - current_time\n",
    "lSVM_gs_train = accuracy_score(y_train, y_pred_train_lSVM_gs)\n",
    "lSVM_gs_train"
   ]
  },
  {
   "cell_type": "code",
   "execution_count": 52,
   "id": "f81ea48f",
   "metadata": {},
   "outputs": [
    {
     "data": {
      "text/plain": [
       "0.33475935828877007"
      ]
     },
     "execution_count": 52,
     "metadata": {},
     "output_type": "execute_result"
    }
   ],
   "source": [
    "current_time = time.time()\n",
    "y_pred_test_lSVM_gs = lSVM_gs.predict(X_test)\n",
    "lSVM_gs_test_time = time.time() - current_time\n",
    "lSVM_gs_test = accuracy_score(y_test, y_pred_test_lSVM_gs)\n",
    "lSVM_gs_test"
   ]
  },
  {
   "cell_type": "markdown",
   "id": "6842c1d7",
   "metadata": {},
   "source": [
    "### Fitting, Training, Testing with Best Params"
   ]
  },
  {
   "cell_type": "code",
   "execution_count": 53,
   "id": "89ea576f",
   "metadata": {},
   "outputs": [],
   "source": [
    "clf = LinearSVC(max_iter = 250, C = lSVM_gs.best_params_['C'])"
   ]
  },
  {
   "cell_type": "code",
   "execution_count": 54,
   "id": "1e09d654",
   "metadata": {},
   "outputs": [],
   "source": [
    "current_time = time.time()\n",
    "clf.fit(X_train, y_train)\n",
    "clf_fit_time = time.time() - current_time"
   ]
  },
  {
   "cell_type": "code",
   "execution_count": 55,
   "id": "113d0312",
   "metadata": {},
   "outputs": [
    {
     "data": {
      "text/plain": [
       "0.33241632278771205"
      ]
     },
     "execution_count": 55,
     "metadata": {},
     "output_type": "execute_result"
    }
   ],
   "source": [
    "current_time = time.time()\n",
    "y_pred_train_svm_lin = clf.predict(X_train)\n",
    "clf_train_time = time.time() - current_time\n",
    "LinearSVM_train = accuracy_score(y_train, y_pred_train_svm_lin)\n",
    "LinearSVM_train"
   ]
  },
  {
   "cell_type": "code",
   "execution_count": 56,
   "id": "7cb70f9a",
   "metadata": {},
   "outputs": [
    {
     "data": {
      "text/plain": [
       "0.33475935828877007"
      ]
     },
     "execution_count": 56,
     "metadata": {},
     "output_type": "execute_result"
    }
   ],
   "source": [
    "current_time = time.time()\n",
    "y_pred_test_svm_lin = clf.predict(X_test)\n",
    "clf_test_time = time.time() - current_time\n",
    "LinearSVM_test = accuracy_score(y_test, y_pred_test_svm_lin)\n",
    "LinearSVM_test"
   ]
  },
  {
   "cell_type": "markdown",
   "id": "7f5a660c",
   "metadata": {},
   "source": [
    "# Gaussian SVM"
   ]
  },
  {
   "cell_type": "code",
   "execution_count": 57,
   "id": "0f6d4ee1",
   "metadata": {},
   "outputs": [],
   "source": [
    "from sklearn.svm import SVC"
   ]
  },
  {
   "cell_type": "markdown",
   "id": "a4003d5a",
   "metadata": {},
   "source": [
    "### Finding Best Params"
   ]
  },
  {
   "cell_type": "code",
   "execution_count": 58,
   "id": "80ef2f62",
   "metadata": {},
   "outputs": [
    {
     "data": {
      "text/plain": [
       "{'C': array([ 5.,  6.,  7.,  8.,  9., 10., 11., 12., 13., 14., 15., 16., 17.,\n",
       "        18., 19., 20., 21., 22., 23., 24., 25., 26., 27., 28., 29., 30.]),\n",
       " 'gamma': array([1.e-09, 1.e-08, 1.e-07, 1.e-06, 1.e-05, 1.e-04, 1.e-03, 1.e-02,\n",
       "        1.e-01, 1.e+00, 1.e+01, 1.e+02, 1.e+03])}"
      ]
     },
     "execution_count": 58,
     "metadata": {},
     "output_type": "execute_result"
    }
   ],
   "source": [
    "c_range = np.arange(5.0, 31.0)\n",
    "gamma_range = np.logspace(-9, 3, 13)\n",
    "gaus_grid = {'C': c_range, 'gamma': gamma_range}\n",
    "gaus_grid"
   ]
  },
  {
   "cell_type": "code",
   "execution_count": 59,
   "id": "82f5e3fc",
   "metadata": {},
   "outputs": [],
   "source": [
    "gaus_gs = GridSearchCV(estimator= SVC(max_iter=250, kernel = 'rbf'), \n",
    "                  param_grid=gaus_grid, \n",
    "                  scoring='accuracy', \n",
    "                  refit=True,\n",
    "                  cv=5,\n",
    "                  n_jobs=-1)"
   ]
  },
  {
   "cell_type": "code",
   "execution_count": 60,
   "id": "2b109401",
   "metadata": {},
   "outputs": [
    {
     "name": "stderr",
     "output_type": "stream",
     "text": [
      "D:\\MiniConda\\envs\\ai_env\\lib\\site-packages\\sklearn\\svm\\_base.py:301: ConvergenceWarning: Solver terminated early (max_iter=250).  Consider pre-processing your data with StandardScaler or MinMaxScaler.\n",
      "  warnings.warn(\n"
     ]
    }
   ],
   "source": [
    "current_time = time.time()\n",
    "gaus_gs.fit(X_train, y_train)\n",
    "gaus_gs_fit_time = time.time() - current_time"
   ]
  },
  {
   "cell_type": "code",
   "execution_count": 61,
   "id": "57164a6c",
   "metadata": {},
   "outputs": [
    {
     "data": {
      "text/plain": [
       "{'C': 5.0, 'gamma': 100.0}"
      ]
     },
     "execution_count": 61,
     "metadata": {},
     "output_type": "execute_result"
    }
   ],
   "source": [
    "gaus_gs.best_params_"
   ]
  },
  {
   "cell_type": "code",
   "execution_count": 62,
   "id": "96a703a1",
   "metadata": {},
   "outputs": [
    {
     "data": {
      "text/plain": [
       "0.18676448112486627"
      ]
     },
     "execution_count": 62,
     "metadata": {},
     "output_type": "execute_result"
    }
   ],
   "source": [
    "current_time = time.time()\n",
    "y_pred_train_gaus_gs = gaus_gs.predict(X_train)\n",
    "gaus_gs_train_time = time.time() - current_time\n",
    "gaus_gs_train = accuracy_score(y_train, y_pred_train_gaus_gs)\n",
    "gaus_gs_train"
   ]
  },
  {
   "cell_type": "code",
   "execution_count": 63,
   "id": "555e2dbb",
   "metadata": {},
   "outputs": [
    {
     "data": {
      "text/plain": [
       "0.15543672014260249"
      ]
     },
     "execution_count": 63,
     "metadata": {},
     "output_type": "execute_result"
    }
   ],
   "source": [
    "current_time = time.time()\n",
    "y_pred_test_gaus_gs = gaus_gs.predict(X_test)\n",
    "gaus_gs_test_time = time.time() - current_time\n",
    "gaus_gs_test = accuracy_score(y_test, y_pred_test_gaus_gs)\n",
    "gaus_gs_test"
   ]
  },
  {
   "cell_type": "markdown",
   "id": "a2e9aed8",
   "metadata": {},
   "source": [
    "### Fitting, Training, Testing with Best Params"
   ]
  },
  {
   "cell_type": "code",
   "execution_count": 64,
   "id": "13ac49b8",
   "metadata": {},
   "outputs": [],
   "source": [
    "svm_gaussian = SVC(kernel='rbf', max_iter = 250, C= gaus_gs.best_params_['C'], gamma = gaus_gs.best_params_['gamma'])"
   ]
  },
  {
   "cell_type": "code",
   "execution_count": 65,
   "id": "63bbe9b1",
   "metadata": {},
   "outputs": [
    {
     "name": "stderr",
     "output_type": "stream",
     "text": [
      "D:\\MiniConda\\envs\\ai_env\\lib\\site-packages\\sklearn\\svm\\_base.py:301: ConvergenceWarning: Solver terminated early (max_iter=250).  Consider pre-processing your data with StandardScaler or MinMaxScaler.\n",
      "  warnings.warn(\n"
     ]
    }
   ],
   "source": [
    "current_time = time.time()\n",
    "svm_gaussian.fit(X_train, y_train)\n",
    "gaus_fit_time = time.time() - current_time"
   ]
  },
  {
   "cell_type": "code",
   "execution_count": 66,
   "id": "daa2f16c",
   "metadata": {},
   "outputs": [
    {
     "data": {
      "text/plain": [
       "0.18676448112486627"
      ]
     },
     "execution_count": 66,
     "metadata": {},
     "output_type": "execute_result"
    }
   ],
   "source": [
    "current_time = time.time()\n",
    "y_pred_gaussian_svm = svm_gaussian.predict(X_train)\n",
    "gaus_train_time = time.time() - current_time\n",
    "GaussianSVM_train = accuracy_score(y_train, y_pred_gaussian_svm)\n",
    "GaussianSVM_train"
   ]
  },
  {
   "cell_type": "code",
   "execution_count": 67,
   "id": "1dac901c",
   "metadata": {},
   "outputs": [
    {
     "data": {
      "text/plain": [
       "0.15543672014260249"
      ]
     },
     "execution_count": 67,
     "metadata": {},
     "output_type": "execute_result"
    }
   ],
   "source": [
    "current_time = time.time()\n",
    "y_test_gaussian_svm = svm_gaussian.predict(X_test)\n",
    "gaus_test_time = time.time() - current_time\n",
    "GaussianSVM_test = accuracy_score(y_test, y_test_gaussian_svm)\n",
    "GaussianSVM_test"
   ]
  },
  {
   "cell_type": "markdown",
   "id": "ac67d7b2",
   "metadata": {},
   "source": [
    "# K Nearest Neighbors"
   ]
  },
  {
   "cell_type": "code",
   "execution_count": 68,
   "id": "2d7742b0",
   "metadata": {},
   "outputs": [],
   "source": [
    "from sklearn.neighbors import KNeighborsClassifier"
   ]
  },
  {
   "cell_type": "markdown",
   "id": "bd4db452",
   "metadata": {},
   "source": [
    "### Finding Best Params"
   ]
  },
  {
   "cell_type": "code",
   "execution_count": 69,
   "id": "ba93eb0b",
   "metadata": {},
   "outputs": [
    {
     "data": {
      "text/plain": [
       "{'n_neighbors': array([ 1,  2,  3,  4,  5,  6,  7,  8,  9, 10, 11, 12, 13, 14]),\n",
       " 'weights': ['uniform', 'distance']}"
      ]
     },
     "execution_count": 69,
     "metadata": {},
     "output_type": "execute_result"
    }
   ],
   "source": [
    "n_neighbors_range = np.arange(1, 15)\n",
    "weights_range = ['uniform', 'distance']\n",
    "knn_grid = {'n_neighbors': n_neighbors_range, 'weights': weights_range}\n",
    "knn_grid"
   ]
  },
  {
   "cell_type": "code",
   "execution_count": 70,
   "id": "06c770f0",
   "metadata": {},
   "outputs": [],
   "source": [
    "knn_gs = GridSearchCV(estimator= KNeighborsClassifier(), \n",
    "                  param_grid=knn_grid, \n",
    "                  scoring='accuracy', \n",
    "                  refit=True,\n",
    "                  cv=5,\n",
    "                  n_jobs=-1)"
   ]
  },
  {
   "cell_type": "code",
   "execution_count": 71,
   "id": "6936fcf5",
   "metadata": {},
   "outputs": [],
   "source": [
    "current_time = time.time()\n",
    "knn_gs.fit(X_train, y_train)\n",
    "knn_gs_fit_time = time.time() - current_time"
   ]
  },
  {
   "cell_type": "code",
   "execution_count": 72,
   "id": "1ee621e3",
   "metadata": {},
   "outputs": [
    {
     "data": {
      "text/plain": [
       "{'n_neighbors': 9, 'weights': 'distance'}"
      ]
     },
     "execution_count": 72,
     "metadata": {},
     "output_type": "execute_result"
    }
   ],
   "source": [
    "knn_gs.best_params_"
   ]
  },
  {
   "cell_type": "code",
   "execution_count": 73,
   "id": "d858c829",
   "metadata": {},
   "outputs": [
    {
     "data": {
      "text/plain": [
       "0.9996943298181262"
      ]
     },
     "execution_count": 73,
     "metadata": {},
     "output_type": "execute_result"
    }
   ],
   "source": [
    "current_time = time.time()\n",
    "y_pred_train_knn_gs = knn_gs.predict(X_train)\n",
    "knn_gs_train_time = time.time() - current_time\n",
    "knn_gs_train = accuracy_score(y_train, y_pred_train_knn_gs)\n",
    "knn_gs_train"
   ]
  },
  {
   "cell_type": "code",
   "execution_count": 74,
   "id": "08dda2c3",
   "metadata": {},
   "outputs": [
    {
     "data": {
      "text/plain": [
       "0.2516934046345811"
      ]
     },
     "execution_count": 74,
     "metadata": {},
     "output_type": "execute_result"
    }
   ],
   "source": [
    "current_time = time.time()\n",
    "y_pred_test_knn_gs = knn_gs.predict(X_test)\n",
    "knn_gs_test_time = time.time() - current_time\n",
    "knn_gs_test = accuracy_score(y_test, y_pred_test_knn_gs)\n",
    "knn_gs_test"
   ]
  },
  {
   "cell_type": "markdown",
   "id": "396705d8",
   "metadata": {},
   "source": [
    "### Fitting, Training, Testing with Best Params"
   ]
  },
  {
   "cell_type": "code",
   "execution_count": 75,
   "id": "58e1a08c",
   "metadata": {},
   "outputs": [],
   "source": [
    "knn = KNeighborsClassifier(n_neighbors= knn_gs.best_params_['n_neighbors'], weights= knn_gs.best_params_['weights'])"
   ]
  },
  {
   "cell_type": "code",
   "execution_count": 76,
   "id": "36bee870",
   "metadata": {},
   "outputs": [],
   "source": [
    "current_time = time.time()\n",
    "knn.fit(X_train, y_train)\n",
    "KNN_fit_time = time.time() - current_time"
   ]
  },
  {
   "cell_type": "code",
   "execution_count": 77,
   "id": "aceec06a",
   "metadata": {},
   "outputs": [
    {
     "data": {
      "text/plain": [
       "0.9996943298181262"
      ]
     },
     "execution_count": 77,
     "metadata": {},
     "output_type": "execute_result"
    }
   ],
   "source": [
    "current_time = time.time()\n",
    "y_pred_train_knn = knn.predict(X_train)\n",
    "KNN_train_time = time.time() - current_time\n",
    "KNearest_train = accuracy_score(y_train, y_pred_train_knn)\n",
    "KNearest_train"
   ]
  },
  {
   "cell_type": "code",
   "execution_count": 78,
   "id": "898f353b",
   "metadata": {},
   "outputs": [
    {
     "data": {
      "text/plain": [
       "0.2516934046345811"
      ]
     },
     "execution_count": 78,
     "metadata": {},
     "output_type": "execute_result"
    }
   ],
   "source": [
    "current_time = time.time()\n",
    "y_pred_test_knn = knn.predict(X_test)\n",
    "KNN_test_time = time.time() - current_time\n",
    "KNearest_test = accuracy_score(y_test, y_pred_test_knn)\n",
    "KNearest_test"
   ]
  },
  {
   "cell_type": "markdown",
   "id": "1a248be0",
   "metadata": {},
   "source": [
    "# Adaboost"
   ]
  },
  {
   "cell_type": "code",
   "execution_count": 79,
   "id": "14fa31dc",
   "metadata": {},
   "outputs": [],
   "source": [
    "from sklearn.ensemble import AdaBoostClassifier"
   ]
  },
  {
   "cell_type": "markdown",
   "id": "f6f676d5",
   "metadata": {},
   "source": [
    "### Finding Best Params"
   ]
  },
  {
   "cell_type": "code",
   "execution_count": 80,
   "id": "a0bd66ea",
   "metadata": {},
   "outputs": [
    {
     "data": {
      "text/plain": [
       "{'n_estimators': array([40, 41, 42, 43, 44, 45, 46, 47, 48, 49, 50, 51, 52, 53, 54, 55, 56,\n",
       "        57, 58, 59])}"
      ]
     },
     "execution_count": 80,
     "metadata": {},
     "output_type": "execute_result"
    }
   ],
   "source": [
    "n_estimators_range = np.arange(40,60)\n",
    "#max_depth_range = np.arange(1,7)\n",
    "ada_grid = {'n_estimators': n_estimators_range}\n",
    "ada_grid\n",
    "#, 'max_depth': max_depth_range"
   ]
  },
  {
   "cell_type": "code",
   "execution_count": 81,
   "id": "7bee4958",
   "metadata": {},
   "outputs": [
    {
     "data": {
      "text/plain": [
       "{'max_depth': array([1, 2, 3, 4, 5, 6])}"
      ]
     },
     "execution_count": 81,
     "metadata": {},
     "output_type": "execute_result"
    }
   ],
   "source": [
    "max_depth_range = np.arange(1,7)\n",
    "dt_ada_grid = {'max_depth': max_depth_range}\n",
    "dt_ada_grid\n",
    "#, 'max_depth': max_depth_range"
   ]
  },
  {
   "cell_type": "code",
   "execution_count": 82,
   "id": "85e2181a",
   "metadata": {},
   "outputs": [],
   "source": [
    "model_est = GridSearchCV(estimator= DecisionTreeClassifier(), \n",
    "                  param_grid=dt_ada_grid, \n",
    "                  scoring='accuracy', \n",
    "                  refit=True,\n",
    "                  cv=5,\n",
    "                  n_jobs=-1)"
   ]
  },
  {
   "cell_type": "code",
   "execution_count": 83,
   "id": "44ddfeb9",
   "metadata": {},
   "outputs": [
    {
     "data": {
      "text/html": [
       "<style>#sk-container-id-3 {color: black;background-color: white;}#sk-container-id-3 pre{padding: 0;}#sk-container-id-3 div.sk-toggleable {background-color: white;}#sk-container-id-3 label.sk-toggleable__label {cursor: pointer;display: block;width: 100%;margin-bottom: 0;padding: 0.3em;box-sizing: border-box;text-align: center;}#sk-container-id-3 label.sk-toggleable__label-arrow:before {content: \"▸\";float: left;margin-right: 0.25em;color: #696969;}#sk-container-id-3 label.sk-toggleable__label-arrow:hover:before {color: black;}#sk-container-id-3 div.sk-estimator:hover label.sk-toggleable__label-arrow:before {color: black;}#sk-container-id-3 div.sk-toggleable__content {max-height: 0;max-width: 0;overflow: hidden;text-align: left;background-color: #f0f8ff;}#sk-container-id-3 div.sk-toggleable__content pre {margin: 0.2em;color: black;border-radius: 0.25em;background-color: #f0f8ff;}#sk-container-id-3 input.sk-toggleable__control:checked~div.sk-toggleable__content {max-height: 200px;max-width: 100%;overflow: auto;}#sk-container-id-3 input.sk-toggleable__control:checked~label.sk-toggleable__label-arrow:before {content: \"▾\";}#sk-container-id-3 div.sk-estimator input.sk-toggleable__control:checked~label.sk-toggleable__label {background-color: #d4ebff;}#sk-container-id-3 div.sk-label input.sk-toggleable__control:checked~label.sk-toggleable__label {background-color: #d4ebff;}#sk-container-id-3 input.sk-hidden--visually {border: 0;clip: rect(1px 1px 1px 1px);clip: rect(1px, 1px, 1px, 1px);height: 1px;margin: -1px;overflow: hidden;padding: 0;position: absolute;width: 1px;}#sk-container-id-3 div.sk-estimator {font-family: monospace;background-color: #f0f8ff;border: 1px dotted black;border-radius: 0.25em;box-sizing: border-box;margin-bottom: 0.5em;}#sk-container-id-3 div.sk-estimator:hover {background-color: #d4ebff;}#sk-container-id-3 div.sk-parallel-item::after {content: \"\";width: 100%;border-bottom: 1px solid gray;flex-grow: 1;}#sk-container-id-3 div.sk-label:hover label.sk-toggleable__label {background-color: #d4ebff;}#sk-container-id-3 div.sk-serial::before {content: \"\";position: absolute;border-left: 1px solid gray;box-sizing: border-box;top: 0;bottom: 0;left: 50%;z-index: 0;}#sk-container-id-3 div.sk-serial {display: flex;flex-direction: column;align-items: center;background-color: white;padding-right: 0.2em;padding-left: 0.2em;position: relative;}#sk-container-id-3 div.sk-item {position: relative;z-index: 1;}#sk-container-id-3 div.sk-parallel {display: flex;align-items: stretch;justify-content: center;background-color: white;position: relative;}#sk-container-id-3 div.sk-item::before, #sk-container-id-3 div.sk-parallel-item::before {content: \"\";position: absolute;border-left: 1px solid gray;box-sizing: border-box;top: 0;bottom: 0;left: 50%;z-index: -1;}#sk-container-id-3 div.sk-parallel-item {display: flex;flex-direction: column;z-index: 1;position: relative;background-color: white;}#sk-container-id-3 div.sk-parallel-item:first-child::after {align-self: flex-end;width: 50%;}#sk-container-id-3 div.sk-parallel-item:last-child::after {align-self: flex-start;width: 50%;}#sk-container-id-3 div.sk-parallel-item:only-child::after {width: 0;}#sk-container-id-3 div.sk-dashed-wrapped {border: 1px dashed gray;margin: 0 0.4em 0.5em 0.4em;box-sizing: border-box;padding-bottom: 0.4em;background-color: white;}#sk-container-id-3 div.sk-label label {font-family: monospace;font-weight: bold;display: inline-block;line-height: 1.2em;}#sk-container-id-3 div.sk-label-container {text-align: center;}#sk-container-id-3 div.sk-container {/* jupyter's `normalize.less` sets `[hidden] { display: none; }` but bootstrap.min.css set `[hidden] { display: none !important; }` so we also need the `!important` here to be able to override the default hidden behavior on the sphinx rendered scikit-learn.org. See: https://github.com/scikit-learn/scikit-learn/issues/21755 */display: inline-block !important;position: relative;}#sk-container-id-3 div.sk-text-repr-fallback {display: none;}</style><div id=\"sk-container-id-3\" class=\"sk-top-container\"><div class=\"sk-text-repr-fallback\"><pre>GridSearchCV(cv=5, estimator=DecisionTreeClassifier(), n_jobs=-1,\n",
       "             param_grid={&#x27;max_depth&#x27;: array([1, 2, 3, 4, 5, 6])},\n",
       "             scoring=&#x27;accuracy&#x27;)</pre><b>In a Jupyter environment, please rerun this cell to show the HTML representation or trust the notebook. <br />On GitHub, the HTML representation is unable to render, please try loading this page with nbviewer.org.</b></div><div class=\"sk-container\" hidden><div class=\"sk-item sk-dashed-wrapped\"><div class=\"sk-label-container\"><div class=\"sk-label sk-toggleable\"><input class=\"sk-toggleable__control sk-hidden--visually\" id=\"sk-estimator-id-3\" type=\"checkbox\" ><label for=\"sk-estimator-id-3\" class=\"sk-toggleable__label sk-toggleable__label-arrow\">GridSearchCV</label><div class=\"sk-toggleable__content\"><pre>GridSearchCV(cv=5, estimator=DecisionTreeClassifier(), n_jobs=-1,\n",
       "             param_grid={&#x27;max_depth&#x27;: array([1, 2, 3, 4, 5, 6])},\n",
       "             scoring=&#x27;accuracy&#x27;)</pre></div></div></div><div class=\"sk-parallel\"><div class=\"sk-parallel-item\"><div class=\"sk-item\"><div class=\"sk-label-container\"><div class=\"sk-label sk-toggleable\"><input class=\"sk-toggleable__control sk-hidden--visually\" id=\"sk-estimator-id-4\" type=\"checkbox\" ><label for=\"sk-estimator-id-4\" class=\"sk-toggleable__label sk-toggleable__label-arrow\">estimator: DecisionTreeClassifier</label><div class=\"sk-toggleable__content\"><pre>DecisionTreeClassifier()</pre></div></div></div><div class=\"sk-serial\"><div class=\"sk-item\"><div class=\"sk-estimator sk-toggleable\"><input class=\"sk-toggleable__control sk-hidden--visually\" id=\"sk-estimator-id-5\" type=\"checkbox\" ><label for=\"sk-estimator-id-5\" class=\"sk-toggleable__label sk-toggleable__label-arrow\">DecisionTreeClassifier</label><div class=\"sk-toggleable__content\"><pre>DecisionTreeClassifier()</pre></div></div></div></div></div></div></div></div></div></div>"
      ],
      "text/plain": [
       "GridSearchCV(cv=5, estimator=DecisionTreeClassifier(), n_jobs=-1,\n",
       "             param_grid={'max_depth': array([1, 2, 3, 4, 5, 6])},\n",
       "             scoring='accuracy')"
      ]
     },
     "execution_count": 83,
     "metadata": {},
     "output_type": "execute_result"
    }
   ],
   "source": [
    "model_est.fit(X_train, y_train)"
   ]
  },
  {
   "cell_type": "code",
   "execution_count": 84,
   "id": "d75fbb67",
   "metadata": {},
   "outputs": [
    {
     "data": {
      "text/plain": [
       "{'max_depth': 5}"
      ]
     },
     "execution_count": 84,
     "metadata": {},
     "output_type": "execute_result"
    }
   ],
   "source": [
    "model_est.best_params_"
   ]
  },
  {
   "cell_type": "code",
   "execution_count": 85,
   "id": "668a802b",
   "metadata": {},
   "outputs": [],
   "source": [
    "ada_gs = GridSearchCV(estimator= AdaBoostClassifier(base_estimator = DecisionTreeClassifier(max_depth = model_est.best_params_['max_depth'])), \n",
    "                  param_grid=ada_grid, \n",
    "                  scoring='accuracy', \n",
    "                  refit=True,\n",
    "                  cv=5,\n",
    "                  n_jobs=-1)"
   ]
  },
  {
   "cell_type": "code",
   "execution_count": 86,
   "id": "54550881",
   "metadata": {},
   "outputs": [],
   "source": [
    "current_time = time.time()\n",
    "ada_gs.fit(X_train, y_train)\n",
    "ada_gs_fit_time = time.time() - current_time"
   ]
  },
  {
   "cell_type": "code",
   "execution_count": 87,
   "id": "7b20b79c",
   "metadata": {},
   "outputs": [
    {
     "data": {
      "text/plain": [
       "{'n_estimators': 44}"
      ]
     },
     "execution_count": 87,
     "metadata": {},
     "output_type": "execute_result"
    }
   ],
   "source": [
    "ada_gs.best_params_"
   ]
  },
  {
   "cell_type": "code",
   "execution_count": 88,
   "id": "56304f6a",
   "metadata": {},
   "outputs": [
    {
     "data": {
      "text/plain": [
       "0.39828824698150694"
      ]
     },
     "execution_count": 88,
     "metadata": {},
     "output_type": "execute_result"
    }
   ],
   "source": [
    "current_time = time.time()\n",
    "y_pred_train_ada_gs = ada_gs.predict(X_train)\n",
    "ada_gs_train_time = time.time() - current_time\n",
    "ada_gs_train = accuracy_score(y_train, y_pred_train_ada_gs)\n",
    "ada_gs_train"
   ]
  },
  {
   "cell_type": "code",
   "execution_count": 89,
   "id": "085526d7",
   "metadata": {},
   "outputs": [
    {
     "data": {
      "text/plain": [
       "0.26773618538324423"
      ]
     },
     "execution_count": 89,
     "metadata": {},
     "output_type": "execute_result"
    }
   ],
   "source": [
    "current_time = time.time()\n",
    "y_pred_test_ada_gs = ada_gs.predict(X_test)\n",
    "ada_gs_test_time = time.time() - current_time\n",
    "ada_gs_test = accuracy_score(y_test, y_pred_test_ada_gs)\n",
    "ada_gs_test"
   ]
  },
  {
   "cell_type": "markdown",
   "id": "cf881506",
   "metadata": {},
   "source": [
    "### Fitting, Training, Testing with Best Params"
   ]
  },
  {
   "cell_type": "code",
   "execution_count": 90,
   "id": "b2cd23c9",
   "metadata": {},
   "outputs": [],
   "source": [
    "adaB = AdaBoostClassifier(DecisionTreeClassifier(max_depth = model_est.best_params_['max_depth']), n_estimators = ada_gs.best_params_['n_estimators'])"
   ]
  },
  {
   "cell_type": "code",
   "execution_count": 91,
   "id": "a4cb1890",
   "metadata": {},
   "outputs": [],
   "source": [
    "current_time = time.time()\n",
    "adaB.fit(X_train, y_train)\n",
    "adaB_fit_time = time.time() - current_time"
   ]
  },
  {
   "cell_type": "code",
   "execution_count": 92,
   "id": "af3e469c",
   "metadata": {},
   "outputs": [
    {
     "data": {
      "text/plain": [
       "0.38453308879718784"
      ]
     },
     "execution_count": 92,
     "metadata": {},
     "output_type": "execute_result"
    }
   ],
   "source": [
    "current_time = time.time()\n",
    "y_pred_train_adaB = adaB.predict(X_train)\n",
    "adaB_train_time = time.time() - current_time\n",
    "adaB_train = accuracy_score(y_train, y_pred_train_adaB)\n",
    "adaB_train"
   ]
  },
  {
   "cell_type": "code",
   "execution_count": 93,
   "id": "f771d6b2",
   "metadata": {},
   "outputs": [
    {
     "data": {
      "text/plain": [
       "0.25775401069518716"
      ]
     },
     "execution_count": 93,
     "metadata": {},
     "output_type": "execute_result"
    }
   ],
   "source": [
    "current_time = time.time()\n",
    "y_pred_test_adaB = adaB.predict(X_test)\n",
    "adaB_test_time = time.time() - current_time\n",
    "adaB_test = accuracy_score(y_test, y_pred_test_adaB)\n",
    "adaB_test"
   ]
  },
  {
   "cell_type": "markdown",
   "id": "9df9d75d",
   "metadata": {},
   "source": [
    "# Results"
   ]
  },
  {
   "cell_type": "markdown",
   "id": "571370e1",
   "metadata": {},
   "source": [
    "### Accuracy of each model while finding the best parameter:"
   ]
  },
  {
   "cell_type": "code",
   "execution_count": 94,
   "id": "102ad2a5",
   "metadata": {},
   "outputs": [
    {
     "name": "stdout",
     "output_type": "stream",
     "text": [
      "The accuracy of Decision Tree for the training during hyperameter tuning:   0.3403637475164298\n",
      "The accuracy of Decision Tree for the test during hyperameter tuning:   0.3226381461675579 \n",
      "\n",
      "The accuracy of Linear SVM for the training during hyperameter tuning:   0.33241632278771205\n",
      "The accuracy of Linear SVM for the test during hyperameter tuning:   0.33475935828877007 \n",
      "\n",
      "The accuracy of Gaussian SVM for the training during hyperameter tuning:   0.18676448112486627\n",
      "The accuracy of Gaussian SVM for the test during hyperameter tuning:   0.18676448112486627 \n",
      "\n",
      "The accuracy of K Nearest Neighboors for the training during hyperameter tuning:   0.9996943298181262\n",
      "The accuracy of K Nearest Neighboors for the test during hyperameter tuning:   0.2516934046345811 \n",
      "\n",
      "The accuracy of Random Forest for the training during hyperameter tuning:   0.9996943298181262\n",
      "The accuracy of Random Forest for the test during hyperameter tuning:   0.40035650623885916 \n",
      "\n",
      "The accuracy of Adaboost for the training during hyperameter tuning:   0.39828824698150694\n",
      "The accuracy of Adaboost for the test during hyperameter tuning:   0.26773618538324423 \n",
      "\n"
     ]
    }
   ],
   "source": [
    "print(\"The accuracy of Decision Tree for the training during hyperameter tuning:  \" , dt_gs_train)\n",
    "print(\"The accuracy of Decision Tree for the test during hyperameter tuning:  \" , dt_gs_test, \"\\n\")\n",
    "\n",
    "print(\"The accuracy of Linear SVM for the training during hyperameter tuning:  \" , lSVM_gs_train)\n",
    "print(\"The accuracy of Linear SVM for the test during hyperameter tuning:  \" , lSVM_gs_test, \"\\n\")\n",
    "\n",
    "print(\"The accuracy of Gaussian SVM for the training during hyperameter tuning:  \" , gaus_gs_train)\n",
    "print(\"The accuracy of Gaussian SVM for the test during hyperameter tuning:  \" , gaus_gs_train, \"\\n\")\n",
    "\n",
    "print(\"The accuracy of K Nearest Neighboors for the training during hyperameter tuning:  \" , knn_gs_train)\n",
    "print(\"The accuracy of K Nearest Neighboors for the test during hyperameter tuning:  \" , knn_gs_test, \"\\n\")\n",
    "\n",
    "print(\"The accuracy of Random Forest for the training during hyperameter tuning:  \" , rf_gs_train)\n",
    "print(\"The accuracy of Random Forest for the test during hyperameter tuning:  \" , rf_gs_test, \"\\n\")\n",
    "\n",
    "print(\"The accuracy of Adaboost for the training during hyperameter tuning:  \" , ada_gs_train)\n",
    "print(\"The accuracy of Adaboost for the test during hyperameter tuning:  \" , ada_gs_test, \"\\n\")"
   ]
  },
  {
   "cell_type": "markdown",
   "id": "376eed8a",
   "metadata": {},
   "source": [
    "### Time taken for each model during hyperameter tuning:"
   ]
  },
  {
   "cell_type": "code",
   "execution_count": 95,
   "id": "3697a3a5",
   "metadata": {},
   "outputs": [
    {
     "name": "stdout",
     "output_type": "stream",
     "text": [
      "The number of seconds for fitting in Decision Tree during hyperameter tuning:   50.258026361465454\n",
      "The number of seconds for testing the train data in Decision Tree during hyperameter tuning:   0.00498652458190918\n",
      "The number of seconds for testing the test data in Decision Tree during hyperameter tuning:   0.002991914749145508 \n",
      "\n",
      "The number of seconds for fitting in Linear SVM during hyperameter tuning:   203.024094581604\n",
      "The number of seconds for testing the train data in Linear SVM during hyperameter tuning:   0.0059854984283447266\n",
      "The number of seconds for testing the test data in Linear SVM during hyperameter tuning:   0.0029931068420410156 \n",
      "\n",
      "The number of seconds for fitting in Gaussian SVM during hyperameter tuning:   1602.1033318042755\n",
      "The number of seconds for testing the train data in Gaussian SVM during hyperameter tuning:   6.32808518409729\n",
      "The number of seconds for testing the test data in Gaussian SVM during hyperameter tuning:   2.7656500339508057 \n",
      "\n",
      "The number of seconds for fitting in K Nearest Neighboors during hyperameter tuning:   3.791757345199585\n",
      "The number of seconds for testing the train data in K Nearest Neighboors during hyperameter tuning:   0.36900806427001953\n",
      "The number of seconds for testing the test data in K Nearest Neighboors during hyperameter tuning:   0.10870790481567383 \n",
      "\n",
      "The number of seconds for fitting in Random Forest during hyperameter tuning:   1735.3888993263245\n",
      "The number of seconds for testing the train data in Random Forest during hyperameter tuning:   0.32216596603393555\n",
      "The number of seconds for testing the test data in Random Forest during hyperameter tuning:   0.14962458610534668 \n",
      "\n",
      "The number of seconds for fitting in Adaboost during hyperameter tuning:   228.25433826446533\n",
      "The number of seconds for testing the train data in Adaboost during hyperameter tuning:   0.17853760719299316\n",
      "The number of seconds for testing the test data in Adaboost during hyperameter tuning:   0.08377456665039062\n"
     ]
    }
   ],
   "source": [
    "print(\"The number of seconds for fitting in Decision Tree during hyperameter tuning:  \" , dt_gs_fit_time)\n",
    "print(\"The number of seconds for testing the train data in Decision Tree during hyperameter tuning:  \" , dt_gs_train_time)\n",
    "print(\"The number of seconds for testing the test data in Decision Tree during hyperameter tuning:  \" , dt_gs_test_time, \"\\n\")\n",
    "\n",
    "print(\"The number of seconds for fitting in Linear SVM during hyperameter tuning:  \" , lSVM_gs_fit_time)\n",
    "print(\"The number of seconds for testing the train data in Linear SVM during hyperameter tuning:  \" , lSVM_gs_train_time)\n",
    "print(\"The number of seconds for testing the test data in Linear SVM during hyperameter tuning:  \" , lSVM_gs_test_time, \"\\n\")\n",
    "\n",
    "print(\"The number of seconds for fitting in Gaussian SVM during hyperameter tuning:  \" , gaus_gs_fit_time)\n",
    "print(\"The number of seconds for testing the train data in Gaussian SVM during hyperameter tuning:  \" , gaus_gs_train_time)\n",
    "print(\"The number of seconds for testing the test data in Gaussian SVM during hyperameter tuning:  \" , gaus_gs_test_time, \"\\n\")\n",
    "\n",
    "print(\"The number of seconds for fitting in K Nearest Neighboors during hyperameter tuning:  \" , knn_gs_fit_time)\n",
    "print(\"The number of seconds for testing the train data in K Nearest Neighboors during hyperameter tuning:  \" , knn_gs_train_time)\n",
    "print(\"The number of seconds for testing the test data in K Nearest Neighboors during hyperameter tuning:  \" , knn_gs_test_time, \"\\n\")\n",
    "\n",
    "print(\"The number of seconds for fitting in Random Forest during hyperameter tuning:  \" , rf_gs_fit_time)\n",
    "print(\"The number of seconds for testing the train data in Random Forest during hyperameter tuning:  \" , rf_gs_train_time)\n",
    "print(\"The number of seconds for testing the test data in Random Forest during hyperameter tuning:  \" , rf_gs_test_time, \"\\n\")\n",
    "\n",
    "print(\"The number of seconds for fitting in Adaboost during hyperameter tuning:  \" , ada_gs_fit_time)\n",
    "print(\"The number of seconds for testing the train data in Adaboost during hyperameter tuning:  \" , ada_gs_train_time)\n",
    "print(\"The number of seconds for testing the test data in Adaboost during hyperameter tuning:  \" , ada_gs_test_time)"
   ]
  },
  {
   "cell_type": "markdown",
   "id": "e709c4ad",
   "metadata": {},
   "source": [
    "### Accuracy of the models with the best parameters:"
   ]
  },
  {
   "cell_type": "code",
   "execution_count": 96,
   "id": "5351bd4c",
   "metadata": {},
   "outputs": [
    {
     "name": "stdout",
     "output_type": "stream",
     "text": [
      "The accuracy of Decision Tree for the training with the best parameters:   0.3403637475164298\n",
      "The accuracy of Decision Tree for the test with the best parameters:   0.3233511586452763 \n",
      "\n",
      "The accuracy of Linear SVM for the training with the best parameters:   0.33241632278771205\n",
      "The accuracy of Linear SVM for the test with the best parameters:   0.33475935828877007 \n",
      "\n",
      "The accuracy of Gaussian SVM for the training with the best parameters:   0.18676448112486627\n",
      "The accuracy of Gaussian SVM for the test with the best parameters:   0.18676448112486627 \n",
      "\n",
      "The accuracy of K Nearest Neighboors for the training with the best parameters:   0.9996943298181262\n",
      "The accuracy of K Nearest Neighboors for the test with the best parameters:   0.2516934046345811 \n",
      "\n",
      "The accuracy of Random Forest for the training with the best parameters:   0.9996943298181262\n",
      "The accuracy of Random Forest for the test with the best parameters:   0.3932263814616756 \n",
      "\n",
      "The accuracy of Adaboost for the training with the best parameters:   0.38453308879718784\n",
      "The accuracy of Adaboost for the test with the best parameters:   0.25775401069518716 \n",
      "\n"
     ]
    }
   ],
   "source": [
    "print(\"The accuracy of Decision Tree for the training with the best parameters:  \" , stump_train)\n",
    "print(\"The accuracy of Decision Tree for the test with the best parameters:  \" , stump_test, \"\\n\")\n",
    "\n",
    "print(\"The accuracy of Linear SVM for the training with the best parameters:  \" , LinearSVM_train)\n",
    "print(\"The accuracy of Linear SVM for the test with the best parameters:  \" , LinearSVM_test, \"\\n\")\n",
    "\n",
    "print(\"The accuracy of Gaussian SVM for the training with the best parameters:  \" , GaussianSVM_train)\n",
    "print(\"The accuracy of Gaussian SVM for the test with the best parameters:  \" , GaussianSVM_train, \"\\n\")\n",
    "\n",
    "print(\"The accuracy of K Nearest Neighboors for the training with the best parameters:  \" , KNearest_train)\n",
    "print(\"The accuracy of K Nearest Neighboors for the test with the best parameters:  \" , KNearest_test, \"\\n\")\n",
    "\n",
    "print(\"The accuracy of Random Forest for the training with the best parameters:  \" , RF_train)\n",
    "print(\"The accuracy of Random Forest for the test with the best parameters:  \" , RF_test, \"\\n\")\n",
    "\n",
    "print(\"The accuracy of Adaboost for the training with the best parameters:  \" , adaB_train)\n",
    "print(\"The accuracy of Adaboost for the test with the best parameters:  \" , adaB_test, \"\\n\")"
   ]
  },
  {
   "cell_type": "markdown",
   "id": "af92d930",
   "metadata": {},
   "source": [
    "### Time taken for each model with the best parameters"
   ]
  },
  {
   "cell_type": "code",
   "execution_count": 97,
   "id": "cb097507",
   "metadata": {},
   "outputs": [
    {
     "name": "stdout",
     "output_type": "stream",
     "text": [
      "The number of seconds for fitting in Decision Tree with the best parameters:   0.2493593692779541\n",
      "The number of seconds for testing the train data in Decision Tree with the best parameters:   0.00598907470703125\n",
      "The number of seconds for testing the test data in Decision Tree with the best parameters:   0.0029871463775634766 \n",
      "\n",
      "The number of seconds for fitting in Linear SVM with the best parameters:   2.833442449569702\n",
      "The number of seconds for testing the train data in Linear SVM with the best parameters:   0.003988504409790039\n",
      "The number of seconds for testing the test data in Linear SVM with the best parameters:   0.003002643585205078 \n",
      "\n",
      "The number of seconds for fitting in Gaussian SVM with the best parameters:   2.2385144233703613\n",
      "The number of seconds for testing the train data in Gaussian SVM with the best parameters:   5.9361186027526855\n",
      "The number of seconds for testing the test data in Gaussian SVM with the best parameters:   2.5731446743011475 \n",
      "\n",
      "The number of seconds for fitting in K Nearest Neighboors with the best parameters:   0.014959096908569336\n",
      "The number of seconds for testing the train data in K Nearest Neighboors with the best parameters:   0.19248533248901367\n",
      "The number of seconds for testing the test data in K Nearest Neighboors with the best parameters:   0.0857689380645752 \n",
      "\n",
      "The number of seconds for fitting in Random Forest with the best parameters:   10.132982015609741\n",
      "The number of seconds for testing the train data in Random Forest with the best parameters:   0.3211686611175537\n",
      "The number of seconds for testing the test data in Random Forest with the best parameters:   0.15461277961730957 \n",
      "\n",
      "The number of seconds for fitting in Adaboost with the best parameters:   11.120278596878052\n",
      "The number of seconds for testing the train data in Adaboost with the best parameters:   0.18752479553222656\n",
      "The number of seconds for testing the test data in Adaboost with the best parameters:   0.08978462219238281\n"
     ]
    }
   ],
   "source": [
    "print(\"The number of seconds for fitting in Decision Tree with the best parameters:  \" , stump_fit_time)\n",
    "print(\"The number of seconds for testing the train data in Decision Tree with the best parameters:  \" , stump_train_time)\n",
    "print(\"The number of seconds for testing the test data in Decision Tree with the best parameters:  \" , stump_test_time, \"\\n\")\n",
    "\n",
    "print(\"The number of seconds for fitting in Linear SVM with the best parameters:  \" , clf_fit_time)\n",
    "print(\"The number of seconds for testing the train data in Linear SVM with the best parameters:  \" , clf_train_time)\n",
    "print(\"The number of seconds for testing the test data in Linear SVM with the best parameters:  \" , clf_test_time, \"\\n\")\n",
    "\n",
    "print(\"The number of seconds for fitting in Gaussian SVM with the best parameters:  \" , gaus_fit_time)\n",
    "print(\"The number of seconds for testing the train data in Gaussian SVM with the best parameters:  \" , gaus_train_time)\n",
    "print(\"The number of seconds for testing the test data in Gaussian SVM with the best parameters:  \" , gaus_test_time, \"\\n\")\n",
    "\n",
    "print(\"The number of seconds for fitting in K Nearest Neighboors with the best parameters:  \" , KNN_fit_time)\n",
    "print(\"The number of seconds for testing the train data in K Nearest Neighboors with the best parameters:  \" , KNN_train_time)\n",
    "print(\"The number of seconds for testing the test data in K Nearest Neighboors with the best parameters:  \" , KNN_test_time, \"\\n\")\n",
    "\n",
    "print(\"The number of seconds for fitting in Random Forest with the best parameters:  \" , rf_fit_time)\n",
    "print(\"The number of seconds for testing the train data in Random Forest with the best parameters:  \" , rf_train_time)\n",
    "print(\"The number of seconds for testing the test data in Random Forest with the best parameters:  \" , rf_test_time, \"\\n\")\n",
    "\n",
    "print(\"The number of seconds for fitting in Adaboost with the best parameters:  \" , adaB_fit_time)\n",
    "print(\"The number of seconds for testing the train data in Adaboost with the best parameters:  \" , adaB_train_time)\n",
    "print(\"The number of seconds for testing the test data in Adaboost with the best parameters:  \" , adaB_test_time)"
   ]
  },
  {
   "cell_type": "markdown",
   "id": "a8e12094",
   "metadata": {},
   "source": [
    "# Conclusions:"
   ]
  },
  {
   "cell_type": "markdown",
   "id": "ab81dee3",
   "metadata": {},
   "source": [
    "# Observation\n",
    "\n",
    "\n",
    "# Conclusion\n"
   ]
  },
  {
   "cell_type": "code",
   "execution_count": 98,
   "id": "9c53b114",
   "metadata": {},
   "outputs": [
    {
     "data": {
      "text/html": [
       "<div>\n",
       "<style scoped>\n",
       "    .dataframe tbody tr th:only-of-type {\n",
       "        vertical-align: middle;\n",
       "    }\n",
       "\n",
       "    .dataframe tbody tr th {\n",
       "        vertical-align: top;\n",
       "    }\n",
       "\n",
       "    .dataframe thead th {\n",
       "        text-align: right;\n",
       "    }\n",
       "</style>\n",
       "<table border=\"1\" class=\"dataframe\">\n",
       "  <thead>\n",
       "    <tr style=\"text-align: right;\">\n",
       "      <th></th>\n",
       "      <th>0</th>\n",
       "    </tr>\n",
       "  </thead>\n",
       "  <tbody>\n",
       "    <tr>\n",
       "      <th>Adaboost</th>\n",
       "      <td>0.384533</td>\n",
       "    </tr>\n",
       "    <tr>\n",
       "      <th>Decision Tree</th>\n",
       "      <td>0.340364</td>\n",
       "    </tr>\n",
       "    <tr>\n",
       "      <th>Linear SVM</th>\n",
       "      <td>0.332416</td>\n",
       "    </tr>\n",
       "    <tr>\n",
       "      <th>Gaussian SVM</th>\n",
       "      <td>0.186764</td>\n",
       "    </tr>\n",
       "    <tr>\n",
       "      <th>K Nearest</th>\n",
       "      <td>0.999694</td>\n",
       "    </tr>\n",
       "    <tr>\n",
       "      <th>Random Forest</th>\n",
       "      <td>0.999694</td>\n",
       "    </tr>\n",
       "  </tbody>\n",
       "</table>\n",
       "</div>"
      ],
      "text/plain": [
       "                      0\n",
       "Adaboost       0.384533\n",
       "Decision Tree  0.340364\n",
       "Linear SVM     0.332416\n",
       "Gaussian SVM   0.186764\n",
       "K Nearest      0.999694\n",
       "Random Forest  0.999694"
      ]
     },
     "execution_count": 98,
     "metadata": {},
     "output_type": "execute_result"
    }
   ],
   "source": [
    "resultsTrain = pd.DataFrame.from_dict({\"Adaboost\": adaB_train, \"Decision Tree\" : stump_train, \"Linear SVM\" : LinearSVM_train, \"Gaussian SVM\" : GaussianSVM_train, \"K Nearest\" : KNearest_train, \"Random Forest\" : RF_train}, orient= 'index')\n",
    "resultsTrain"
   ]
  },
  {
   "cell_type": "code",
   "execution_count": 99,
   "id": "275df2bf",
   "metadata": {},
   "outputs": [
    {
     "data": {
      "text/html": [
       "<div>\n",
       "<style scoped>\n",
       "    .dataframe tbody tr th:only-of-type {\n",
       "        vertical-align: middle;\n",
       "    }\n",
       "\n",
       "    .dataframe tbody tr th {\n",
       "        vertical-align: top;\n",
       "    }\n",
       "\n",
       "    .dataframe thead th {\n",
       "        text-align: right;\n",
       "    }\n",
       "</style>\n",
       "<table border=\"1\" class=\"dataframe\">\n",
       "  <thead>\n",
       "    <tr style=\"text-align: right;\">\n",
       "      <th></th>\n",
       "      <th>0</th>\n",
       "    </tr>\n",
       "  </thead>\n",
       "  <tbody>\n",
       "    <tr>\n",
       "      <th>Adaboost</th>\n",
       "      <td>0.267736</td>\n",
       "    </tr>\n",
       "    <tr>\n",
       "      <th>Decision Tree</th>\n",
       "      <td>0.323351</td>\n",
       "    </tr>\n",
       "    <tr>\n",
       "      <th>Linear SVM</th>\n",
       "      <td>0.334759</td>\n",
       "    </tr>\n",
       "    <tr>\n",
       "      <th>Gaussian SVM</th>\n",
       "      <td>0.155437</td>\n",
       "    </tr>\n",
       "    <tr>\n",
       "      <th>K Nearest</th>\n",
       "      <td>0.251693</td>\n",
       "    </tr>\n",
       "    <tr>\n",
       "      <th>Random Forest</th>\n",
       "      <td>0.393226</td>\n",
       "    </tr>\n",
       "  </tbody>\n",
       "</table>\n",
       "</div>"
      ],
      "text/plain": [
       "                      0\n",
       "Adaboost       0.267736\n",
       "Decision Tree  0.323351\n",
       "Linear SVM     0.334759\n",
       "Gaussian SVM   0.155437\n",
       "K Nearest      0.251693\n",
       "Random Forest  0.393226"
      ]
     },
     "execution_count": 99,
     "metadata": {},
     "output_type": "execute_result"
    }
   ],
   "source": [
    "resultsTest = pd.DataFrame.from_dict({\"Adaboost\": ada_gs_test, \"Decision Tree\" : stump_test, \"Linear SVM\" : LinearSVM_test, \"Gaussian SVM\" : GaussianSVM_test, \"K Nearest\" : KNearest_test, \"Random Forest\" : RF_test}, orient= 'index')\n",
    "resultsTest"
   ]
  },
  {
   "cell_type": "code",
   "execution_count": 100,
   "id": "8fb629be",
   "metadata": {},
   "outputs": [],
   "source": [
    "resultsTrain.to_csv(\"C:\\\\Users\\\\samue\\\\Desktop\\\\AI_Proj\\\\bigHyperTuningTrain.csv\")\n",
    "resultsTest.to_csv(\"C:\\\\Users\\\\samue\\\\Desktop\\\\AI_Proj\\\\bigHyperTuningTest.csv\")"
   ]
  },
  {
   "cell_type": "code",
   "execution_count": null,
   "id": "fdddcf93",
   "metadata": {},
   "outputs": [],
   "source": []
  }
 ],
 "metadata": {
  "kernelspec": {
   "display_name": "Python 3 (ipykernel)",
   "language": "python",
   "name": "python3"
  },
  "language_info": {
   "codemirror_mode": {
    "name": "ipython",
    "version": 3
   },
   "file_extension": ".py",
   "mimetype": "text/x-python",
   "name": "python",
   "nbconvert_exporter": "python",
   "pygments_lexer": "ipython3",
   "version": "3.10.4"
  }
 },
 "nbformat": 4,
 "nbformat_minor": 5
}
