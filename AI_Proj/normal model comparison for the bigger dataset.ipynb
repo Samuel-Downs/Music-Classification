{
 "cells": [
  {
   "cell_type": "markdown",
   "id": "induced-planner",
   "metadata": {},
   "source": [
    "# Using the different models for the music data"
   ]
  },
  {
   "cell_type": "markdown",
   "id": "cooperative-evidence",
   "metadata": {},
   "source": [
    "## Import packages"
   ]
  },
  {
   "cell_type": "code",
   "execution_count": 1,
   "id": "140e71c8",
   "metadata": {},
   "outputs": [],
   "source": [
    "import time\n",
    "import pandas as pd"
   ]
  },
  {
   "cell_type": "markdown",
   "id": "liquid-respect",
   "metadata": {},
   "source": [
    "## Load and Prepare Data"
   ]
  },
  {
   "cell_type": "code",
   "execution_count": 2,
   "id": "indonesian-oklahoma",
   "metadata": {},
   "outputs": [
    {
     "data": {
      "text/html": [
       "<div>\n",
       "<style scoped>\n",
       "    .dataframe tbody tr th:only-of-type {\n",
       "        vertical-align: middle;\n",
       "    }\n",
       "\n",
       "    .dataframe tbody tr th {\n",
       "        vertical-align: top;\n",
       "    }\n",
       "\n",
       "    .dataframe thead th {\n",
       "        text-align: right;\n",
       "    }\n",
       "</style>\n",
       "<table border=\"1\" class=\"dataframe\">\n",
       "  <thead>\n",
       "    <tr style=\"text-align: right;\">\n",
       "      <th></th>\n",
       "      <th>Unnamed: 0</th>\n",
       "      <th>zcr_mean</th>\n",
       "      <th>energy_mean</th>\n",
       "      <th>energy_entropy_mean</th>\n",
       "      <th>spectral_centroid_mean</th>\n",
       "      <th>spectral_spread_mean</th>\n",
       "      <th>spectral_entropy_mean</th>\n",
       "      <th>spectral_flux_mean</th>\n",
       "      <th>spectral_rolloff_mean</th>\n",
       "      <th>mfcc_1_mean</th>\n",
       "      <th>...</th>\n",
       "      <th>delta chroma_7_std</th>\n",
       "      <th>delta chroma_8_std</th>\n",
       "      <th>delta chroma_9_std</th>\n",
       "      <th>delta chroma_10_std</th>\n",
       "      <th>delta chroma_11_std</th>\n",
       "      <th>delta chroma_12_std</th>\n",
       "      <th>delta chroma_std_std</th>\n",
       "      <th>Row_Index</th>\n",
       "      <th>Genre</th>\n",
       "      <th>GenreID</th>\n",
       "    </tr>\n",
       "  </thead>\n",
       "  <tbody>\n",
       "    <tr>\n",
       "      <th>0</th>\n",
       "      <td>0</td>\n",
       "      <td>0.040872</td>\n",
       "      <td>0.020890</td>\n",
       "      <td>0.013624</td>\n",
       "      <td>0.009991</td>\n",
       "      <td>0.013624</td>\n",
       "      <td>0.026340</td>\n",
       "      <td>0.057221</td>\n",
       "      <td>0.177112</td>\n",
       "      <td>0.189827</td>\n",
       "      <td>...</td>\n",
       "      <td>0.008174</td>\n",
       "      <td>0.012716</td>\n",
       "      <td>0.050863</td>\n",
       "      <td>0.057221</td>\n",
       "      <td>0.029973</td>\n",
       "      <td>0.020890</td>\n",
       "      <td>0.009991</td>\n",
       "      <td>0.0</td>\n",
       "      <td>AmbientElectronic10</td>\n",
       "      <td>0.0</td>\n",
       "    </tr>\n",
       "    <tr>\n",
       "      <th>1</th>\n",
       "      <td>1</td>\n",
       "      <td>0.039055</td>\n",
       "      <td>0.060854</td>\n",
       "      <td>0.059037</td>\n",
       "      <td>0.041780</td>\n",
       "      <td>0.032698</td>\n",
       "      <td>0.037239</td>\n",
       "      <td>0.033606</td>\n",
       "      <td>0.029973</td>\n",
       "      <td>0.023615</td>\n",
       "      <td>...</td>\n",
       "      <td>0.079927</td>\n",
       "      <td>0.086285</td>\n",
       "      <td>0.073569</td>\n",
       "      <td>0.089010</td>\n",
       "      <td>0.102634</td>\n",
       "      <td>0.087193</td>\n",
       "      <td>0.082652</td>\n",
       "      <td>1.0</td>\n",
       "      <td>AmbientElectronic10</td>\n",
       "      <td>1.0</td>\n",
       "    </tr>\n",
       "    <tr>\n",
       "      <th>2</th>\n",
       "      <td>2</td>\n",
       "      <td>0.080836</td>\n",
       "      <td>0.071753</td>\n",
       "      <td>0.068120</td>\n",
       "      <td>0.064487</td>\n",
       "      <td>0.048138</td>\n",
       "      <td>0.041780</td>\n",
       "      <td>0.026340</td>\n",
       "      <td>0.019074</td>\n",
       "      <td>0.022707</td>\n",
       "      <td>...</td>\n",
       "      <td>0.037239</td>\n",
       "      <td>0.028156</td>\n",
       "      <td>0.024523</td>\n",
       "      <td>0.015441</td>\n",
       "      <td>0.009991</td>\n",
       "      <td>0.017257</td>\n",
       "      <td>0.040872</td>\n",
       "      <td>2.0</td>\n",
       "      <td>AmbientElectronic10</td>\n",
       "      <td>2.0</td>\n",
       "    </tr>\n",
       "    <tr>\n",
       "      <th>3</th>\n",
       "      <td>3</td>\n",
       "      <td>0.020890</td>\n",
       "      <td>0.015441</td>\n",
       "      <td>0.016349</td>\n",
       "      <td>0.019982</td>\n",
       "      <td>0.013624</td>\n",
       "      <td>0.008174</td>\n",
       "      <td>0.009083</td>\n",
       "      <td>0.009083</td>\n",
       "      <td>0.009083</td>\n",
       "      <td>...</td>\n",
       "      <td>0.018165</td>\n",
       "      <td>0.016349</td>\n",
       "      <td>0.022707</td>\n",
       "      <td>0.037239</td>\n",
       "      <td>0.031789</td>\n",
       "      <td>0.021798</td>\n",
       "      <td>0.019982</td>\n",
       "      <td>3.0</td>\n",
       "      <td>AmbientElectronic10</td>\n",
       "      <td>3.0</td>\n",
       "    </tr>\n",
       "    <tr>\n",
       "      <th>4</th>\n",
       "      <td>4</td>\n",
       "      <td>0.011807</td>\n",
       "      <td>0.018165</td>\n",
       "      <td>0.045413</td>\n",
       "      <td>0.073569</td>\n",
       "      <td>0.073569</td>\n",
       "      <td>0.070845</td>\n",
       "      <td>0.064487</td>\n",
       "      <td>0.066303</td>\n",
       "      <td>0.087193</td>\n",
       "      <td>...</td>\n",
       "      <td>0.013624</td>\n",
       "      <td>0.005450</td>\n",
       "      <td>0.007266</td>\n",
       "      <td>0.009991</td>\n",
       "      <td>0.007266</td>\n",
       "      <td>0.021798</td>\n",
       "      <td>0.025431</td>\n",
       "      <td>4.0</td>\n",
       "      <td>AmbientElectronic10</td>\n",
       "      <td>4.0</td>\n",
       "    </tr>\n",
       "    <tr>\n",
       "      <th>...</th>\n",
       "      <td>...</td>\n",
       "      <td>...</td>\n",
       "      <td>...</td>\n",
       "      <td>...</td>\n",
       "      <td>...</td>\n",
       "      <td>...</td>\n",
       "      <td>...</td>\n",
       "      <td>...</td>\n",
       "      <td>...</td>\n",
       "      <td>...</td>\n",
       "      <td>...</td>\n",
       "      <td>...</td>\n",
       "      <td>...</td>\n",
       "      <td>...</td>\n",
       "      <td>...</td>\n",
       "      <td>...</td>\n",
       "      <td>...</td>\n",
       "      <td>...</td>\n",
       "      <td>...</td>\n",
       "      <td>...</td>\n",
       "      <td>...</td>\n",
       "    </tr>\n",
       "    <tr>\n",
       "      <th>9343</th>\n",
       "      <td>9343</td>\n",
       "      <td>0.106267</td>\n",
       "      <td>0.116258</td>\n",
       "      <td>0.113533</td>\n",
       "      <td>0.113533</td>\n",
       "      <td>0.089918</td>\n",
       "      <td>0.091735</td>\n",
       "      <td>0.096276</td>\n",
       "      <td>0.092643</td>\n",
       "      <td>0.084469</td>\n",
       "      <td>...</td>\n",
       "      <td>0.138965</td>\n",
       "      <td>0.129882</td>\n",
       "      <td>0.130790</td>\n",
       "      <td>0.126249</td>\n",
       "      <td>0.108992</td>\n",
       "      <td>0.107175</td>\n",
       "      <td>0.110808</td>\n",
       "      <td>9298.0</td>\n",
       "      <td>Hip-Hop4</td>\n",
       "      <td>9298.0</td>\n",
       "    </tr>\n",
       "    <tr>\n",
       "      <th>9344</th>\n",
       "      <td>9344</td>\n",
       "      <td>0.053588</td>\n",
       "      <td>0.060854</td>\n",
       "      <td>0.040872</td>\n",
       "      <td>0.037239</td>\n",
       "      <td>0.046322</td>\n",
       "      <td>0.049046</td>\n",
       "      <td>0.037239</td>\n",
       "      <td>0.031789</td>\n",
       "      <td>0.032698</td>\n",
       "      <td>...</td>\n",
       "      <td>0.087193</td>\n",
       "      <td>0.081744</td>\n",
       "      <td>0.098093</td>\n",
       "      <td>0.131698</td>\n",
       "      <td>0.138056</td>\n",
       "      <td>0.114441</td>\n",
       "      <td>0.084469</td>\n",
       "      <td>9299.0</td>\n",
       "      <td>Hip-Hop4</td>\n",
       "      <td>9299.0</td>\n",
       "    </tr>\n",
       "    <tr>\n",
       "      <th>9345</th>\n",
       "      <td>9345</td>\n",
       "      <td>0.087193</td>\n",
       "      <td>0.093551</td>\n",
       "      <td>0.124432</td>\n",
       "      <td>0.128065</td>\n",
       "      <td>0.133515</td>\n",
       "      <td>0.111717</td>\n",
       "      <td>0.093551</td>\n",
       "      <td>0.080836</td>\n",
       "      <td>0.087193</td>\n",
       "      <td>...</td>\n",
       "      <td>0.099001</td>\n",
       "      <td>0.095368</td>\n",
       "      <td>0.066303</td>\n",
       "      <td>0.071753</td>\n",
       "      <td>0.084469</td>\n",
       "      <td>0.079927</td>\n",
       "      <td>0.078111</td>\n",
       "      <td>9300.0</td>\n",
       "      <td>Hip-Hop4</td>\n",
       "      <td>9300.0</td>\n",
       "    </tr>\n",
       "    <tr>\n",
       "      <th>9346</th>\n",
       "      <td>9346</td>\n",
       "      <td>0.078111</td>\n",
       "      <td>0.055404</td>\n",
       "      <td>0.051771</td>\n",
       "      <td>0.059946</td>\n",
       "      <td>0.061762</td>\n",
       "      <td>0.043597</td>\n",
       "      <td>0.038147</td>\n",
       "      <td>0.082652</td>\n",
       "      <td>0.128065</td>\n",
       "      <td>...</td>\n",
       "      <td>0.122616</td>\n",
       "      <td>0.092643</td>\n",
       "      <td>0.067212</td>\n",
       "      <td>0.080836</td>\n",
       "      <td>0.095368</td>\n",
       "      <td>0.103542</td>\n",
       "      <td>0.110808</td>\n",
       "      <td>9301.0</td>\n",
       "      <td>Hip-Hop4</td>\n",
       "      <td>9301.0</td>\n",
       "    </tr>\n",
       "    <tr>\n",
       "      <th>9347</th>\n",
       "      <td>9347</td>\n",
       "      <td>0.018165</td>\n",
       "      <td>0.019074</td>\n",
       "      <td>0.027248</td>\n",
       "      <td>0.063579</td>\n",
       "      <td>0.051771</td>\n",
       "      <td>0.019074</td>\n",
       "      <td>0.021798</td>\n",
       "      <td>0.020890</td>\n",
       "      <td>0.022707</td>\n",
       "      <td>...</td>\n",
       "      <td>0.068120</td>\n",
       "      <td>0.040872</td>\n",
       "      <td>0.021798</td>\n",
       "      <td>0.036331</td>\n",
       "      <td>0.054496</td>\n",
       "      <td>0.055404</td>\n",
       "      <td>0.044505</td>\n",
       "      <td>9302.0</td>\n",
       "      <td>Hip-Hop4</td>\n",
       "      <td>9302.0</td>\n",
       "    </tr>\n",
       "  </tbody>\n",
       "</table>\n",
       "<p>9348 rows × 140 columns</p>\n",
       "</div>"
      ],
      "text/plain": [
       "      Unnamed: 0  zcr_mean  energy_mean  energy_entropy_mean  \\\n",
       "0              0  0.040872     0.020890             0.013624   \n",
       "1              1  0.039055     0.060854             0.059037   \n",
       "2              2  0.080836     0.071753             0.068120   \n",
       "3              3  0.020890     0.015441             0.016349   \n",
       "4              4  0.011807     0.018165             0.045413   \n",
       "...          ...       ...          ...                  ...   \n",
       "9343        9343  0.106267     0.116258             0.113533   \n",
       "9344        9344  0.053588     0.060854             0.040872   \n",
       "9345        9345  0.087193     0.093551             0.124432   \n",
       "9346        9346  0.078111     0.055404             0.051771   \n",
       "9347        9347  0.018165     0.019074             0.027248   \n",
       "\n",
       "      spectral_centroid_mean  spectral_spread_mean  spectral_entropy_mean  \\\n",
       "0                   0.009991              0.013624               0.026340   \n",
       "1                   0.041780              0.032698               0.037239   \n",
       "2                   0.064487              0.048138               0.041780   \n",
       "3                   0.019982              0.013624               0.008174   \n",
       "4                   0.073569              0.073569               0.070845   \n",
       "...                      ...                   ...                    ...   \n",
       "9343                0.113533              0.089918               0.091735   \n",
       "9344                0.037239              0.046322               0.049046   \n",
       "9345                0.128065              0.133515               0.111717   \n",
       "9346                0.059946              0.061762               0.043597   \n",
       "9347                0.063579              0.051771               0.019074   \n",
       "\n",
       "      spectral_flux_mean  spectral_rolloff_mean  mfcc_1_mean  ...  \\\n",
       "0               0.057221               0.177112     0.189827  ...   \n",
       "1               0.033606               0.029973     0.023615  ...   \n",
       "2               0.026340               0.019074     0.022707  ...   \n",
       "3               0.009083               0.009083     0.009083  ...   \n",
       "4               0.064487               0.066303     0.087193  ...   \n",
       "...                  ...                    ...          ...  ...   \n",
       "9343            0.096276               0.092643     0.084469  ...   \n",
       "9344            0.037239               0.031789     0.032698  ...   \n",
       "9345            0.093551               0.080836     0.087193  ...   \n",
       "9346            0.038147               0.082652     0.128065  ...   \n",
       "9347            0.021798               0.020890     0.022707  ...   \n",
       "\n",
       "      delta chroma_7_std  delta chroma_8_std  delta chroma_9_std  \\\n",
       "0               0.008174            0.012716            0.050863   \n",
       "1               0.079927            0.086285            0.073569   \n",
       "2               0.037239            0.028156            0.024523   \n",
       "3               0.018165            0.016349            0.022707   \n",
       "4               0.013624            0.005450            0.007266   \n",
       "...                  ...                 ...                 ...   \n",
       "9343            0.138965            0.129882            0.130790   \n",
       "9344            0.087193            0.081744            0.098093   \n",
       "9345            0.099001            0.095368            0.066303   \n",
       "9346            0.122616            0.092643            0.067212   \n",
       "9347            0.068120            0.040872            0.021798   \n",
       "\n",
       "      delta chroma_10_std  delta chroma_11_std  delta chroma_12_std  \\\n",
       "0                0.057221             0.029973             0.020890   \n",
       "1                0.089010             0.102634             0.087193   \n",
       "2                0.015441             0.009991             0.017257   \n",
       "3                0.037239             0.031789             0.021798   \n",
       "4                0.009991             0.007266             0.021798   \n",
       "...                   ...                  ...                  ...   \n",
       "9343             0.126249             0.108992             0.107175   \n",
       "9344             0.131698             0.138056             0.114441   \n",
       "9345             0.071753             0.084469             0.079927   \n",
       "9346             0.080836             0.095368             0.103542   \n",
       "9347             0.036331             0.054496             0.055404   \n",
       "\n",
       "      delta chroma_std_std  Row_Index                Genre  GenreID  \n",
       "0                 0.009991        0.0  AmbientElectronic10      0.0  \n",
       "1                 0.082652        1.0  AmbientElectronic10      1.0  \n",
       "2                 0.040872        2.0  AmbientElectronic10      2.0  \n",
       "3                 0.019982        3.0  AmbientElectronic10      3.0  \n",
       "4                 0.025431        4.0  AmbientElectronic10      4.0  \n",
       "...                    ...        ...                  ...      ...  \n",
       "9343              0.110808     9298.0             Hip-Hop4   9298.0  \n",
       "9344              0.084469     9299.0             Hip-Hop4   9299.0  \n",
       "9345              0.078111     9300.0             Hip-Hop4   9300.0  \n",
       "9346              0.110808     9301.0             Hip-Hop4   9301.0  \n",
       "9347              0.044505     9302.0             Hip-Hop4   9302.0  \n",
       "\n",
       "[9348 rows x 140 columns]"
      ]
     },
     "execution_count": 2,
     "metadata": {},
     "output_type": "execute_result"
    }
   ],
   "source": [
    "df = pd.read_csv(\"biggerFileMusicInfo.csv\")\n",
    "df"
   ]
  },
  {
   "cell_type": "code",
   "execution_count": 3,
   "id": "0d64e0d2",
   "metadata": {},
   "outputs": [
    {
     "data": {
      "text/plain": [
       "array([[0.04087193, 0.0208901 , 0.01362398, ..., 0.02997275, 0.0208901 ,\n",
       "        0.00999092],\n",
       "       [0.0390554 , 0.06085377, 0.05903724, ..., 0.10263397, 0.08719346,\n",
       "        0.08265213],\n",
       "       [0.0808356 , 0.07175295, 0.06811989, ..., 0.00999092, 0.01725704,\n",
       "        0.04087193],\n",
       "       ...,\n",
       "       [0.08719346, 0.09355132, 0.12443233, ..., 0.08446866, 0.07992734,\n",
       "        0.07811081],\n",
       "       [0.07811081, 0.05540418, 0.05177112, ..., 0.09536785, 0.10354223,\n",
       "        0.11080836],\n",
       "       [0.0181653 , 0.01907357, 0.02724796, ..., 0.05449591, 0.05540418,\n",
       "        0.044505  ]])"
      ]
     },
     "execution_count": 3,
     "metadata": {},
     "output_type": "execute_result"
    }
   ],
   "source": [
    "data = (df.copy()).iloc[:, 1:-3].values\n",
    "data"
   ]
  },
  {
   "cell_type": "code",
   "execution_count": 4,
   "id": "0ef55d79",
   "metadata": {},
   "outputs": [
    {
     "data": {
      "text/plain": [
       "array(['AmbientElectronic10', 'AmbientElectronic10',\n",
       "       'AmbientElectronic10', ..., 'Hip-Hop4', 'Hip-Hop4', 'Hip-Hop4'],\n",
       "      dtype=object)"
      ]
     },
     "execution_count": 4,
     "metadata": {},
     "output_type": "execute_result"
    }
   ],
   "source": [
    "target = (df.copy()).iloc[:, -2].values\n",
    "target"
   ]
  },
  {
   "cell_type": "code",
   "execution_count": 5,
   "id": "888d1c5d",
   "metadata": {},
   "outputs": [
    {
     "data": {
      "text/plain": [
       "array([[0.04087193, 0.0208901 , 0.01362398, ..., 0.02997275, 0.0208901 ,\n",
       "        0.00999092],\n",
       "       [0.0390554 , 0.06085377, 0.05903724, ..., 0.10263397, 0.08719346,\n",
       "        0.08265213],\n",
       "       [0.0808356 , 0.07175295, 0.06811989, ..., 0.00999092, 0.01725704,\n",
       "        0.04087193],\n",
       "       ...,\n",
       "       [0.08719346, 0.09355132, 0.12443233, ..., 0.08446866, 0.07992734,\n",
       "        0.07811081],\n",
       "       [0.07811081, 0.05540418, 0.05177112, ..., 0.09536785, 0.10354223,\n",
       "        0.11080836],\n",
       "       [0.0181653 , 0.01907357, 0.02724796, ..., 0.05449591, 0.05540418,\n",
       "        0.044505  ]])"
      ]
     },
     "execution_count": 5,
     "metadata": {},
     "output_type": "execute_result"
    }
   ],
   "source": [
    "X, y = data, target\n",
    "X"
   ]
  },
  {
   "cell_type": "code",
   "execution_count": 6,
   "id": "906fb362",
   "metadata": {},
   "outputs": [
    {
     "data": {
      "text/plain": [
       "array(['AmbientElectronic10', 'AmbientElectronic10',\n",
       "       'AmbientElectronic10', ..., 'Hip-Hop4', 'Hip-Hop4', 'Hip-Hop4'],\n",
       "      dtype=object)"
      ]
     },
     "execution_count": 6,
     "metadata": {},
     "output_type": "execute_result"
    }
   ],
   "source": [
    "target"
   ]
  },
  {
   "cell_type": "markdown",
   "id": "searching-appraisal",
   "metadata": {},
   "source": [
    "## Multi-Class Logistic Regression (Softmax Regression) "
   ]
  },
  {
   "cell_type": "code",
   "execution_count": 7,
   "id": "robust-young",
   "metadata": {},
   "outputs": [],
   "source": [
    "from sklearn.model_selection import train_test_split\n",
    "\n",
    "X_train, X_test, y_train, y_test = train_test_split(X, y, test_size = 0.3, stratify = y)"
   ]
  },
  {
   "cell_type": "code",
   "execution_count": 8,
   "id": "d72bf6bf",
   "metadata": {},
   "outputs": [],
   "source": [
    "from sklearn.linear_model import LogisticRegression\n",
    "lr = LogisticRegression(multi_class='multinomial')"
   ]
  },
  {
   "cell_type": "code",
   "execution_count": 9,
   "id": "73dc0d0a",
   "metadata": {},
   "outputs": [
    {
     "name": "stderr",
     "output_type": "stream",
     "text": [
      "D:\\MiniConda\\envs\\ai_env\\lib\\site-packages\\sklearn\\linear_model\\_logistic.py:444: ConvergenceWarning: lbfgs failed to converge (status=1):\n",
      "STOP: TOTAL NO. of ITERATIONS REACHED LIMIT.\n",
      "\n",
      "Increase the number of iterations (max_iter) or scale the data as shown in:\n",
      "    https://scikit-learn.org/stable/modules/preprocessing.html\n",
      "Please also refer to the documentation for alternative solver options:\n",
      "    https://scikit-learn.org/stable/modules/linear_model.html#logistic-regression\n",
      "  n_iter_i = _check_optimize_result(\n"
     ]
    }
   ],
   "source": [
    "current_time = time.time()\n",
    "lr.fit(X_train, y_train)\n",
    "lr_fit_time = time.time() - current_time"
   ]
  },
  {
   "cell_type": "code",
   "execution_count": 10,
   "id": "0a24683a",
   "metadata": {},
   "outputs": [
    {
     "data": {
      "text/plain": [
       "0.33639003515207094"
      ]
     },
     "execution_count": 10,
     "metadata": {},
     "output_type": "execute_result"
    }
   ],
   "source": [
    "from sklearn.metrics import accuracy_score\n",
    "current_time = time.time()\n",
    "y_train_predict_lr = lr.predict(X_train)\n",
    "lr_train_time = time.time() - current_time\n",
    "LR_train = accuracy_score(y_train, y_train_predict_lr)\n",
    "LR_train"
   ]
  },
  {
   "cell_type": "code",
   "execution_count": 11,
   "id": "1b448e6f",
   "metadata": {},
   "outputs": [
    {
     "data": {
      "text/plain": [
       "0.3244206773618538"
      ]
     },
     "execution_count": 11,
     "metadata": {},
     "output_type": "execute_result"
    }
   ],
   "source": [
    "current_time = time.time()\n",
    "y_test_pred_lr = lr.predict(X_test)\n",
    "lr_test_time = time.time() - current_time\n",
    "LR_test = accuracy_score(y_test,y_test_pred_lr)\n",
    "LR_test"
   ]
  },
  {
   "cell_type": "markdown",
   "id": "9949d377",
   "metadata": {},
   "source": [
    "# Decision Tree"
   ]
  },
  {
   "cell_type": "code",
   "execution_count": 12,
   "id": "7c0163d3",
   "metadata": {},
   "outputs": [],
   "source": [
    "from sklearn.tree import DecisionTreeClassifier\n",
    "stump = DecisionTreeClassifier(criterion= 'gini', max_depth=10)"
   ]
  },
  {
   "cell_type": "code",
   "execution_count": 13,
   "id": "6f83a024",
   "metadata": {},
   "outputs": [],
   "source": [
    "current_time = time.time()\n",
    "stump.fit(X_train, y_train)\n",
    "DT_fit_time = time.time() - current_time"
   ]
  },
  {
   "cell_type": "code",
   "execution_count": 14,
   "id": "ddbcf0aa",
   "metadata": {},
   "outputs": [
    {
     "data": {
      "text/plain": [
       "0.47302460644964084"
      ]
     },
     "execution_count": 14,
     "metadata": {},
     "output_type": "execute_result"
    }
   ],
   "source": [
    "current_time = time.time()\n",
    "y_train_predict_stump = stump.predict(X_train)\n",
    "DT_train_time = time.time() - current_time\n",
    "DT_train = accuracy_score(y_train, y_train_predict_stump)\n",
    "DT_train"
   ]
  },
  {
   "cell_type": "code",
   "execution_count": 15,
   "id": "7249f392",
   "metadata": {},
   "outputs": [
    {
     "data": {
      "text/plain": [
       "0.279144385026738"
      ]
     },
     "execution_count": 15,
     "metadata": {},
     "output_type": "execute_result"
    }
   ],
   "source": [
    "current_time = time.time()\n",
    "y_test_predict_stump = stump.predict(X_test)\n",
    "DT_test_time = time.time() - current_time\n",
    "DT_test = accuracy_score(y_test, y_test_predict_stump)\n",
    "DT_test"
   ]
  },
  {
   "cell_type": "markdown",
   "id": "3bbcf170",
   "metadata": {},
   "source": [
    "# Linear SVM"
   ]
  },
  {
   "cell_type": "code",
   "execution_count": 16,
   "id": "077bdd82",
   "metadata": {},
   "outputs": [],
   "source": [
    "from sklearn.svm import LinearSVC\n",
    "from sklearn.pipeline import make_pipeline\n",
    "from sklearn.preprocessing import StandardScaler\n",
    "from sklearn.datasets import make_classification\n",
    "clf = LinearSVC(max_iter = 1000)"
   ]
  },
  {
   "cell_type": "code",
   "execution_count": 17,
   "id": "541cf1fd",
   "metadata": {},
   "outputs": [
    {
     "name": "stderr",
     "output_type": "stream",
     "text": [
      "D:\\MiniConda\\envs\\ai_env\\lib\\site-packages\\sklearn\\svm\\_base.py:1225: ConvergenceWarning: Liblinear failed to converge, increase the number of iterations.\n",
      "  warnings.warn(\n"
     ]
    }
   ],
   "source": [
    "current_time = time.time()\n",
    "clf.fit(X_train, y_train)\n",
    "clf_fit_time = time.time() - current_time"
   ]
  },
  {
   "cell_type": "code",
   "execution_count": 18,
   "id": "484e8f06",
   "metadata": {},
   "outputs": [
    {
     "data": {
      "text/plain": [
       "0.33639003515207094"
      ]
     },
     "execution_count": 18,
     "metadata": {},
     "output_type": "execute_result"
    }
   ],
   "source": [
    "current_time = time.time()\n",
    "y_pred_train_svm_lin = clf.predict(X_train)\n",
    "clf_train_time = time.time() - current_time\n",
    "LinearSVM_train = accuracy_score(y_train, y_pred_train_svm_lin)\n",
    "LinearSVM_train"
   ]
  },
  {
   "cell_type": "code",
   "execution_count": 19,
   "id": "85cb1b81",
   "metadata": {},
   "outputs": [
    {
     "data": {
      "text/plain": [
       "0.3151515151515151"
      ]
     },
     "execution_count": 19,
     "metadata": {},
     "output_type": "execute_result"
    }
   ],
   "source": [
    "current_time = time.time()\n",
    "y_pred_test_svm_lin = clf.predict(X_test)\n",
    "clf_test_time = time.time() - current_time\n",
    "LinearSVM_test = accuracy_score(y_test, y_pred_test_svm_lin)\n",
    "LinearSVM_test"
   ]
  },
  {
   "cell_type": "markdown",
   "id": "1cba8775",
   "metadata": {},
   "source": [
    "# Gaussian SVM"
   ]
  },
  {
   "cell_type": "code",
   "execution_count": 20,
   "id": "0042ffc4",
   "metadata": {},
   "outputs": [],
   "source": [
    "from sklearn.svm import SVC\n",
    "svm_gaussian = SVC(kernel='rbf', max_iter = 5000)"
   ]
  },
  {
   "cell_type": "code",
   "execution_count": 21,
   "id": "b429f383",
   "metadata": {},
   "outputs": [
    {
     "name": "stderr",
     "output_type": "stream",
     "text": [
      "D:\\MiniConda\\envs\\ai_env\\lib\\site-packages\\sklearn\\svm\\_base.py:301: ConvergenceWarning: Solver terminated early (max_iter=5000).  Consider pre-processing your data with StandardScaler or MinMaxScaler.\n",
      "  warnings.warn(\n"
     ]
    }
   ],
   "source": [
    "current_time = time.time()\n",
    "svm_gaussian.fit(X_train, y_train)\n",
    "gaus_fit_time = time.time() - current_time"
   ]
  },
  {
   "cell_type": "code",
   "execution_count": 22,
   "id": "30c23269",
   "metadata": {},
   "outputs": [
    {
     "data": {
      "text/plain": [
       "0.40440165061898214"
      ]
     },
     "execution_count": 22,
     "metadata": {},
     "output_type": "execute_result"
    }
   ],
   "source": [
    "current_time = time.time()\n",
    "y_pred_gaussian_svm = svm_gaussian.predict(X_train)\n",
    "gaus_train_time = time.time() - current_time\n",
    "GaussianSVM_train = accuracy_score(y_train, y_pred_gaussian_svm)\n",
    "GaussianSVM_train"
   ]
  },
  {
   "cell_type": "code",
   "execution_count": 23,
   "id": "416894fa",
   "metadata": {},
   "outputs": [
    {
     "data": {
      "text/plain": [
       "0.3429590017825312"
      ]
     },
     "execution_count": 23,
     "metadata": {},
     "output_type": "execute_result"
    }
   ],
   "source": [
    "current_time = time.time()\n",
    "y_test_gaussian_svm = svm_gaussian.predict(X_test)\n",
    "gaus_test_time = time.time() - current_time\n",
    "GaussianSVM_test = accuracy_score(y_test, y_test_gaussian_svm)\n",
    "GaussianSVM_test"
   ]
  },
  {
   "cell_type": "markdown",
   "id": "7f02ad6c",
   "metadata": {},
   "source": [
    "# K Nearest Neighbors"
   ]
  },
  {
   "cell_type": "code",
   "execution_count": 24,
   "id": "f2ce0ff1",
   "metadata": {},
   "outputs": [],
   "source": [
    "from sklearn.neighbors import KNeighborsClassifier\n",
    "knn = KNeighborsClassifier(n_neighbors=50, p=2, metric='minkowski')"
   ]
  },
  {
   "cell_type": "code",
   "execution_count": 25,
   "id": "5de426d4",
   "metadata": {},
   "outputs": [],
   "source": [
    "current_time = time.time()\n",
    "knn.fit(X_train, y_train)\n",
    "KNN_fit_time = time.time() - current_time"
   ]
  },
  {
   "cell_type": "code",
   "execution_count": 26,
   "id": "0f17296f",
   "metadata": {},
   "outputs": [
    {
     "data": {
      "text/plain": [
       "0.2537062509552193"
      ]
     },
     "execution_count": 26,
     "metadata": {},
     "output_type": "execute_result"
    }
   ],
   "source": [
    "current_time = time.time()\n",
    "y_pred_train_knn = knn.predict(X_train)\n",
    "KNN_train_time = time.time() - current_time\n",
    "KNearest_train = accuracy_score(y_train, y_pred_train_knn)\n",
    "KNearest_train"
   ]
  },
  {
   "cell_type": "code",
   "execution_count": 27,
   "id": "d7d786fa",
   "metadata": {},
   "outputs": [
    {
     "data": {
      "text/plain": [
       "0.22745098039215686"
      ]
     },
     "execution_count": 27,
     "metadata": {},
     "output_type": "execute_result"
    }
   ],
   "source": [
    "current_time = time.time()\n",
    "y_pred_test_knn = knn.predict(X_test)\n",
    "KNN_test_time = time.time() - current_time\n",
    "KNearest_test = accuracy_score(y_test, y_pred_test_knn)\n",
    "KNearest_test"
   ]
  },
  {
   "cell_type": "markdown",
   "id": "f9823d8c",
   "metadata": {},
   "source": [
    "# Random Forest "
   ]
  },
  {
   "cell_type": "code",
   "execution_count": 28,
   "id": "9af58151",
   "metadata": {},
   "outputs": [],
   "source": [
    "from sklearn.ensemble import RandomForestClassifier\n",
    "rf = RandomForestClassifier(criterion= 'gini',n_estimators=25, n_jobs=8)"
   ]
  },
  {
   "cell_type": "code",
   "execution_count": 29,
   "id": "a30af38f",
   "metadata": {},
   "outputs": [],
   "source": [
    "current_time = time.time()\n",
    "rf.fit(X_train, y_train)\n",
    "rf_fit_time = time.time() - current_time"
   ]
  },
  {
   "cell_type": "code",
   "execution_count": 30,
   "id": "e655116c",
   "metadata": {},
   "outputs": [
    {
     "data": {
      "text/plain": [
       "0.9993886596362525"
      ]
     },
     "execution_count": 30,
     "metadata": {},
     "output_type": "execute_result"
    }
   ],
   "source": [
    "current_time = time.time()\n",
    "y_train_pred_rf = rf.predict(X_train)\n",
    "rf_train_time = time.time() - current_time\n",
    "RF_train = accuracy_score(y_train, y_train_pred_rf)\n",
    "RF_train"
   ]
  },
  {
   "cell_type": "code",
   "execution_count": 31,
   "id": "7f2f5b9b",
   "metadata": {},
   "outputs": [
    {
     "data": {
      "text/plain": [
       "0.35614973262032085"
      ]
     },
     "execution_count": 31,
     "metadata": {},
     "output_type": "execute_result"
    }
   ],
   "source": [
    "current_time = time.time()\n",
    "y_test_pred_rf = rf.predict(X_test)\n",
    "rf_test_time = time.time() - current_time\n",
    "RF_test = accuracy_score(y_test, y_test_pred_rf)\n",
    "RF_test"
   ]
  },
  {
   "cell_type": "markdown",
   "id": "e46ff9a6",
   "metadata": {},
   "source": [
    "# Results"
   ]
  },
  {
   "cell_type": "code",
   "execution_count": 32,
   "id": "503fba4a",
   "metadata": {},
   "outputs": [
    {
     "name": "stdout",
     "output_type": "stream",
     "text": [
      "The accuracy of Logistic Regression for the training:  0.33639003515207094\n",
      "The accuracy of Logistic Regression for the test:  0.3244206773618538 \n",
      "\n",
      "The accuracy of Decision Tree for the training:  0.47302460644964084\n",
      "The accuracy of Decision Tree for the test:  0.279144385026738 \n",
      "\n",
      "The accuracy of Linear SVM for the training:  0.33639003515207094\n",
      "The accuracy of Linear SVM for the test:  0.3151515151515151 \n",
      "\n",
      "The accuracy of Gaussian SVM for the training:  0.40440165061898214\n",
      "The accuracy of Gaussian SVM for the test:  0.40440165061898214 \n",
      "\n",
      "The accuracy of K Nearest Neighboors for the training:  0.2537062509552193\n",
      "The accuracy of K Nearest Neighboors for the test:  0.22745098039215686 \n",
      "\n",
      "The accuracy of Random Forest for the training:  0.9993886596362525\n",
      "The accuracy of Random Forest for the test:  0.35614973262032085 \n",
      "\n"
     ]
    }
   ],
   "source": [
    "print(\"The accuracy of Logistic Regression for the training: \" , LR_train)\n",
    "print(\"The accuracy of Logistic Regression for the test: \" , LR_test, \"\\n\")\n",
    "\n",
    "print(\"The accuracy of Decision Tree for the training: \" , DT_train)\n",
    "print(\"The accuracy of Decision Tree for the test: \" , DT_test, \"\\n\")\n",
    "\n",
    "print(\"The accuracy of Linear SVM for the training: \" , LinearSVM_train)\n",
    "print(\"The accuracy of Linear SVM for the test: \" , LinearSVM_test, \"\\n\")\n",
    "\n",
    "print(\"The accuracy of Gaussian SVM for the training: \" , GaussianSVM_train)\n",
    "print(\"The accuracy of Gaussian SVM for the test: \" , GaussianSVM_train, \"\\n\")\n",
    "\n",
    "print(\"The accuracy of K Nearest Neighboors for the training: \" , KNearest_train)\n",
    "print(\"The accuracy of K Nearest Neighboors for the test: \" , KNearest_test, \"\\n\")\n",
    "\n",
    "print(\"The accuracy of Random Forest for the training: \" , RF_train)\n",
    "print(\"The accuracy of Random Forest for the test: \" , RF_test, \"\\n\")"
   ]
  },
  {
   "cell_type": "code",
   "execution_count": 33,
   "id": "2709d82b",
   "metadata": {},
   "outputs": [
    {
     "name": "stdout",
     "output_type": "stream",
     "text": [
      "The number of seconds for fitting in Logistic Regression:  0.5281450748443604\n",
      "The number of seconds for testing the train data in Logistic Regression:  0.005980253219604492\n",
      "The number of seconds for testing the test data in Logistic Regression:  0.001995563507080078 \n",
      "\n",
      "The number of seconds for fitting in Decision Tree:  0.4887259006500244\n",
      "The number of seconds for testing the train data in Decision Tree:  0.005988597869873047\n",
      "The number of seconds for testing the test data in Decision Tree:  0.0029931068420410156 \n",
      "\n",
      "The number of seconds for fitting in Linear SVM:  19.315672636032104\n",
      "The number of seconds for testing the train data in Linear SVM:  0.0049896240234375\n",
      "The number of seconds for testing the test data in Linear SVM:  0.002992391586303711 \n",
      "\n",
      "The number of seconds for fitting in Gaussian SVM:  7.15486478805542\n",
      "The number of seconds for testing the train data in Gaussian SVM:  8.426459550857544\n",
      "The number of seconds for testing the test data in Gaussian SVM:  3.5634922981262207 \n",
      "\n",
      "The number of seconds for fitting in K Nearest Neighboors:  0.006980180740356445\n",
      "The number of seconds for testing the train data in K Nearest Neighboors:  0.7088911533355713\n",
      "The number of seconds for testing the test data in K Nearest Neighboors:  0.2513267993927002 \n",
      "\n",
      "The number of seconds for fitting in Random Forest:  0.3555295467376709\n",
      "The number of seconds for testing the train data in Random Forest:  0.02651834487915039\n",
      "The number of seconds for testing the test data in Random Forest:  0.01994609832763672\n"
     ]
    }
   ],
   "source": [
    "print(\"The number of seconds for fitting in Logistic Regression: \" , lr_fit_time)\n",
    "print(\"The number of seconds for testing the train data in Logistic Regression: \" , lr_train_time)\n",
    "print(\"The number of seconds for testing the test data in Logistic Regression: \" , lr_test_time, \"\\n\")\n",
    "\n",
    "print(\"The number of seconds for fitting in Decision Tree: \" , DT_fit_time)\n",
    "print(\"The number of seconds for testing the train data in Decision Tree: \" , DT_train_time)\n",
    "print(\"The number of seconds for testing the test data in Decision Tree: \" , DT_test_time, \"\\n\")\n",
    "\n",
    "print(\"The number of seconds for fitting in Linear SVM: \" , clf_fit_time)\n",
    "print(\"The number of seconds for testing the train data in Linear SVM: \" , clf_train_time)\n",
    "print(\"The number of seconds for testing the test data in Linear SVM: \" , clf_test_time, \"\\n\")\n",
    "\n",
    "print(\"The number of seconds for fitting in Gaussian SVM: \" , gaus_fit_time)\n",
    "print(\"The number of seconds for testing the train data in Gaussian SVM: \" , gaus_train_time)\n",
    "print(\"The number of seconds for testing the test data in Gaussian SVM: \" , gaus_test_time, \"\\n\")\n",
    "\n",
    "print(\"The number of seconds for fitting in K Nearest Neighboors: \" , KNN_fit_time)\n",
    "print(\"The number of seconds for testing the train data in K Nearest Neighboors: \" , KNN_train_time)\n",
    "print(\"The number of seconds for testing the test data in K Nearest Neighboors: \" , KNN_test_time, \"\\n\")\n",
    "\n",
    "print(\"The number of seconds for fitting in Random Forest: \" , rf_fit_time)\n",
    "print(\"The number of seconds for testing the train data in Random Forest: \" , rf_train_time)\n",
    "print(\"The number of seconds for testing the test data in Random Forest: \" , rf_test_time)"
   ]
  },
  {
   "cell_type": "markdown",
   "id": "27937e42",
   "metadata": {},
   "source": [
    "# Observations/Conclusions"
   ]
  },
  {
   "cell_type": "markdown",
   "id": "508ed503",
   "metadata": {},
   "source": [
    "## Observation\n",
    "\n",
    "\n",
    "\n",
    "## Conclusion\n"
   ]
  },
  {
   "cell_type": "markdown",
   "id": "430ca482",
   "metadata": {},
   "source": [
    "# Saving results as csv"
   ]
  },
  {
   "cell_type": "code",
   "execution_count": 34,
   "id": "ee74203f",
   "metadata": {},
   "outputs": [
    {
     "data": {
      "text/html": [
       "<div>\n",
       "<style scoped>\n",
       "    .dataframe tbody tr th:only-of-type {\n",
       "        vertical-align: middle;\n",
       "    }\n",
       "\n",
       "    .dataframe tbody tr th {\n",
       "        vertical-align: top;\n",
       "    }\n",
       "\n",
       "    .dataframe thead th {\n",
       "        text-align: right;\n",
       "    }\n",
       "</style>\n",
       "<table border=\"1\" class=\"dataframe\">\n",
       "  <thead>\n",
       "    <tr style=\"text-align: right;\">\n",
       "      <th></th>\n",
       "      <th>0</th>\n",
       "    </tr>\n",
       "  </thead>\n",
       "  <tbody>\n",
       "    <tr>\n",
       "      <th>Logistic Regression</th>\n",
       "      <td>0.336390</td>\n",
       "    </tr>\n",
       "    <tr>\n",
       "      <th>Decision Tree</th>\n",
       "      <td>0.473025</td>\n",
       "    </tr>\n",
       "    <tr>\n",
       "      <th>Linear SVM</th>\n",
       "      <td>0.336390</td>\n",
       "    </tr>\n",
       "    <tr>\n",
       "      <th>Gaussian SVM</th>\n",
       "      <td>0.404402</td>\n",
       "    </tr>\n",
       "    <tr>\n",
       "      <th>K Nearest</th>\n",
       "      <td>0.253706</td>\n",
       "    </tr>\n",
       "    <tr>\n",
       "      <th>Random Forest</th>\n",
       "      <td>0.999389</td>\n",
       "    </tr>\n",
       "  </tbody>\n",
       "</table>\n",
       "</div>"
      ],
      "text/plain": [
       "                            0\n",
       "Logistic Regression  0.336390\n",
       "Decision Tree        0.473025\n",
       "Linear SVM           0.336390\n",
       "Gaussian SVM         0.404402\n",
       "K Nearest            0.253706\n",
       "Random Forest        0.999389"
      ]
     },
     "execution_count": 34,
     "metadata": {},
     "output_type": "execute_result"
    }
   ],
   "source": [
    "resultsTrain = pd.DataFrame.from_dict({\"Logistic Regression\": LR_train, \"Decision Tree\" : DT_train, \"Linear SVM\" : LinearSVM_train, \"Gaussian SVM\" : GaussianSVM_train, \"K Nearest\" : KNearest_train, \"Random Forest\" : RF_train}, orient= 'index')\n",
    "resultsTrain"
   ]
  },
  {
   "cell_type": "code",
   "execution_count": 35,
   "id": "678d1beb",
   "metadata": {},
   "outputs": [
    {
     "data": {
      "text/html": [
       "<div>\n",
       "<style scoped>\n",
       "    .dataframe tbody tr th:only-of-type {\n",
       "        vertical-align: middle;\n",
       "    }\n",
       "\n",
       "    .dataframe tbody tr th {\n",
       "        vertical-align: top;\n",
       "    }\n",
       "\n",
       "    .dataframe thead th {\n",
       "        text-align: right;\n",
       "    }\n",
       "</style>\n",
       "<table border=\"1\" class=\"dataframe\">\n",
       "  <thead>\n",
       "    <tr style=\"text-align: right;\">\n",
       "      <th></th>\n",
       "      <th>0</th>\n",
       "    </tr>\n",
       "  </thead>\n",
       "  <tbody>\n",
       "    <tr>\n",
       "      <th>Logistic Regression</th>\n",
       "      <td>0.324421</td>\n",
       "    </tr>\n",
       "    <tr>\n",
       "      <th>Decision Tree</th>\n",
       "      <td>0.279144</td>\n",
       "    </tr>\n",
       "    <tr>\n",
       "      <th>Linear SVM</th>\n",
       "      <td>0.315152</td>\n",
       "    </tr>\n",
       "    <tr>\n",
       "      <th>Gaussian SVM</th>\n",
       "      <td>0.342959</td>\n",
       "    </tr>\n",
       "    <tr>\n",
       "      <th>K Nearest</th>\n",
       "      <td>0.227451</td>\n",
       "    </tr>\n",
       "    <tr>\n",
       "      <th>Random Forest</th>\n",
       "      <td>0.356150</td>\n",
       "    </tr>\n",
       "  </tbody>\n",
       "</table>\n",
       "</div>"
      ],
      "text/plain": [
       "                            0\n",
       "Logistic Regression  0.324421\n",
       "Decision Tree        0.279144\n",
       "Linear SVM           0.315152\n",
       "Gaussian SVM         0.342959\n",
       "K Nearest            0.227451\n",
       "Random Forest        0.356150"
      ]
     },
     "execution_count": 35,
     "metadata": {},
     "output_type": "execute_result"
    }
   ],
   "source": [
    "resultsTest = pd.DataFrame.from_dict({\"Logistic Regression\": LR_test, \"Decision Tree\" : DT_test, \"Linear SVM\" : LinearSVM_test, \"Gaussian SVM\" : GaussianSVM_test, \"K Nearest\" : KNearest_test, \"Random Forest\" : RF_test}, orient= 'index')\n",
    "resultsTest"
   ]
  },
  {
   "cell_type": "code",
   "execution_count": 36,
   "id": "6e0d427b",
   "metadata": {},
   "outputs": [],
   "source": [
    "resultsTrain.to_csv(\"C:\\\\Users\\\\samue\\\\Desktop\\\\AI_Proj\\\\bigModelCompTrain.csv\")\n",
    "resultsTest.to_csv(\"C:\\\\Users\\\\samue\\\\Desktop\\\\AI_Proj\\\\bigModelCompTest.csv\")"
   ]
  },
  {
   "cell_type": "code",
   "execution_count": null,
   "id": "6f88c088",
   "metadata": {},
   "outputs": [],
   "source": []
  }
 ],
 "metadata": {
  "kernelspec": {
   "display_name": "Python 3 (ipykernel)",
   "language": "python",
   "name": "python3"
  },
  "language_info": {
   "codemirror_mode": {
    "name": "ipython",
    "version": 3
   },
   "file_extension": ".py",
   "mimetype": "text/x-python",
   "name": "python",
   "nbconvert_exporter": "python",
   "pygments_lexer": "ipython3",
   "version": "3.10.4"
  }
 },
 "nbformat": 4,
 "nbformat_minor": 5
}
