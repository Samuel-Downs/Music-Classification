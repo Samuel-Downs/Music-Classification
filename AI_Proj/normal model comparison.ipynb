{
 "cells": [
  {
   "cell_type": "markdown",
   "id": "induced-planner",
   "metadata": {},
   "source": [
    "# Using the different models for the music data"
   ]
  },
  {
   "cell_type": "markdown",
   "id": "cooperative-evidence",
   "metadata": {},
   "source": [
    "## Import packages"
   ]
  },
  {
   "cell_type": "code",
   "execution_count": 47,
   "id": "140e71c8",
   "metadata": {},
   "outputs": [],
   "source": [
    "import time\n",
    "import pandas as pd"
   ]
  },
  {
   "cell_type": "markdown",
   "id": "liquid-respect",
   "metadata": {},
   "source": [
    "## GTZAN Dataset "
   ]
  },
  {
   "cell_type": "code",
   "execution_count": 5,
   "id": "indonesian-oklahoma",
   "metadata": {},
   "outputs": [
    {
     "data": {
      "text/html": [
       "<div>\n",
       "<style scoped>\n",
       "    .dataframe tbody tr th:only-of-type {\n",
       "        vertical-align: middle;\n",
       "    }\n",
       "\n",
       "    .dataframe tbody tr th {\n",
       "        vertical-align: top;\n",
       "    }\n",
       "\n",
       "    .dataframe thead th {\n",
       "        text-align: right;\n",
       "    }\n",
       "</style>\n",
       "<table border=\"1\" class=\"dataframe\">\n",
       "  <thead>\n",
       "    <tr style=\"text-align: right;\">\n",
       "      <th></th>\n",
       "      <th>Unnamed: 0</th>\n",
       "      <th>zcr_mean</th>\n",
       "      <th>energy_mean</th>\n",
       "      <th>energy_entropy_mean</th>\n",
       "      <th>spectral_centroid_mean</th>\n",
       "      <th>spectral_spread_mean</th>\n",
       "      <th>spectral_entropy_mean</th>\n",
       "      <th>spectral_flux_mean</th>\n",
       "      <th>spectral_rolloff_mean</th>\n",
       "      <th>mfcc_1_mean</th>\n",
       "      <th>...</th>\n",
       "      <th>delta chroma_7_std</th>\n",
       "      <th>delta chroma_8_std</th>\n",
       "      <th>delta chroma_9_std</th>\n",
       "      <th>delta chroma_10_std</th>\n",
       "      <th>delta chroma_11_std</th>\n",
       "      <th>delta chroma_12_std</th>\n",
       "      <th>delta chroma_std_std</th>\n",
       "      <th>Row_Index</th>\n",
       "      <th>Genre</th>\n",
       "      <th>GenreID</th>\n",
       "    </tr>\n",
       "  </thead>\n",
       "  <tbody>\n",
       "    <tr>\n",
       "      <th>0</th>\n",
       "      <td>0</td>\n",
       "      <td>0.126249</td>\n",
       "      <td>0.096276</td>\n",
       "      <td>0.092643</td>\n",
       "      <td>0.108992</td>\n",
       "      <td>0.087193</td>\n",
       "      <td>0.075386</td>\n",
       "      <td>0.082652</td>\n",
       "      <td>0.096276</td>\n",
       "      <td>0.089918</td>\n",
       "      <td>...</td>\n",
       "      <td>0.062670</td>\n",
       "      <td>0.063579</td>\n",
       "      <td>0.066303</td>\n",
       "      <td>0.081744</td>\n",
       "      <td>0.096276</td>\n",
       "      <td>0.099909</td>\n",
       "      <td>0.088102</td>\n",
       "      <td>0.0</td>\n",
       "      <td>blues</td>\n",
       "      <td>0</td>\n",
       "    </tr>\n",
       "    <tr>\n",
       "      <th>1</th>\n",
       "      <td>1</td>\n",
       "      <td>0.029973</td>\n",
       "      <td>0.019982</td>\n",
       "      <td>0.010899</td>\n",
       "      <td>0.017257</td>\n",
       "      <td>0.019074</td>\n",
       "      <td>0.010899</td>\n",
       "      <td>0.014532</td>\n",
       "      <td>0.021798</td>\n",
       "      <td>0.015441</td>\n",
       "      <td>...</td>\n",
       "      <td>0.051771</td>\n",
       "      <td>0.043597</td>\n",
       "      <td>0.049955</td>\n",
       "      <td>0.069936</td>\n",
       "      <td>0.069936</td>\n",
       "      <td>0.055404</td>\n",
       "      <td>0.053588</td>\n",
       "      <td>1.0</td>\n",
       "      <td>blues</td>\n",
       "      <td>1</td>\n",
       "    </tr>\n",
       "    <tr>\n",
       "      <th>2</th>\n",
       "      <td>2</td>\n",
       "      <td>0.089918</td>\n",
       "      <td>0.079927</td>\n",
       "      <td>0.082652</td>\n",
       "      <td>0.079927</td>\n",
       "      <td>0.066303</td>\n",
       "      <td>0.065395</td>\n",
       "      <td>0.069028</td>\n",
       "      <td>0.075386</td>\n",
       "      <td>0.074478</td>\n",
       "      <td>...</td>\n",
       "      <td>0.059946</td>\n",
       "      <td>0.051771</td>\n",
       "      <td>0.044505</td>\n",
       "      <td>0.044505</td>\n",
       "      <td>0.050863</td>\n",
       "      <td>0.051771</td>\n",
       "      <td>0.042688</td>\n",
       "      <td>2.0</td>\n",
       "      <td>blues</td>\n",
       "      <td>2</td>\n",
       "    </tr>\n",
       "    <tr>\n",
       "      <th>3</th>\n",
       "      <td>3</td>\n",
       "      <td>0.019982</td>\n",
       "      <td>0.020890</td>\n",
       "      <td>0.020890</td>\n",
       "      <td>0.016349</td>\n",
       "      <td>0.012716</td>\n",
       "      <td>0.011807</td>\n",
       "      <td>0.008174</td>\n",
       "      <td>0.006358</td>\n",
       "      <td>0.008174</td>\n",
       "      <td>...</td>\n",
       "      <td>0.034514</td>\n",
       "      <td>0.036331</td>\n",
       "      <td>0.029973</td>\n",
       "      <td>0.022707</td>\n",
       "      <td>0.025431</td>\n",
       "      <td>0.034514</td>\n",
       "      <td>0.030881</td>\n",
       "      <td>3.0</td>\n",
       "      <td>blues</td>\n",
       "      <td>3</td>\n",
       "    </tr>\n",
       "    <tr>\n",
       "      <th>4</th>\n",
       "      <td>4</td>\n",
       "      <td>0.080836</td>\n",
       "      <td>0.098093</td>\n",
       "      <td>0.099909</td>\n",
       "      <td>0.100817</td>\n",
       "      <td>0.099001</td>\n",
       "      <td>0.080836</td>\n",
       "      <td>0.060854</td>\n",
       "      <td>0.057221</td>\n",
       "      <td>0.063579</td>\n",
       "      <td>...</td>\n",
       "      <td>0.181653</td>\n",
       "      <td>0.219800</td>\n",
       "      <td>0.259764</td>\n",
       "      <td>0.290645</td>\n",
       "      <td>0.281562</td>\n",
       "      <td>0.296094</td>\n",
       "      <td>0.324251</td>\n",
       "      <td>4.0</td>\n",
       "      <td>blues</td>\n",
       "      <td>4</td>\n",
       "    </tr>\n",
       "    <tr>\n",
       "      <th>...</th>\n",
       "      <td>...</td>\n",
       "      <td>...</td>\n",
       "      <td>...</td>\n",
       "      <td>...</td>\n",
       "      <td>...</td>\n",
       "      <td>...</td>\n",
       "      <td>...</td>\n",
       "      <td>...</td>\n",
       "      <td>...</td>\n",
       "      <td>...</td>\n",
       "      <td>...</td>\n",
       "      <td>...</td>\n",
       "      <td>...</td>\n",
       "      <td>...</td>\n",
       "      <td>...</td>\n",
       "      <td>...</td>\n",
       "      <td>...</td>\n",
       "      <td>...</td>\n",
       "      <td>...</td>\n",
       "      <td>...</td>\n",
       "      <td>...</td>\n",
       "    </tr>\n",
       "    <tr>\n",
       "      <th>994</th>\n",
       "      <td>994</td>\n",
       "      <td>0.069028</td>\n",
       "      <td>0.070845</td>\n",
       "      <td>0.069028</td>\n",
       "      <td>0.074478</td>\n",
       "      <td>0.080836</td>\n",
       "      <td>0.075386</td>\n",
       "      <td>0.074478</td>\n",
       "      <td>0.065395</td>\n",
       "      <td>0.069936</td>\n",
       "      <td>...</td>\n",
       "      <td>0.076294</td>\n",
       "      <td>0.079019</td>\n",
       "      <td>0.078111</td>\n",
       "      <td>0.083560</td>\n",
       "      <td>0.087193</td>\n",
       "      <td>0.066303</td>\n",
       "      <td>0.066303</td>\n",
       "      <td>994.0</td>\n",
       "      <td>rock</td>\n",
       "      <td>95</td>\n",
       "    </tr>\n",
       "    <tr>\n",
       "      <th>995</th>\n",
       "      <td>995</td>\n",
       "      <td>0.114441</td>\n",
       "      <td>0.107175</td>\n",
       "      <td>0.099909</td>\n",
       "      <td>0.111717</td>\n",
       "      <td>0.125341</td>\n",
       "      <td>0.111717</td>\n",
       "      <td>0.105359</td>\n",
       "      <td>0.108084</td>\n",
       "      <td>0.095368</td>\n",
       "      <td>...</td>\n",
       "      <td>0.117166</td>\n",
       "      <td>0.099001</td>\n",
       "      <td>0.092643</td>\n",
       "      <td>0.098093</td>\n",
       "      <td>0.104450</td>\n",
       "      <td>0.180745</td>\n",
       "      <td>0.219800</td>\n",
       "      <td>995.0</td>\n",
       "      <td>rock</td>\n",
       "      <td>96</td>\n",
       "    </tr>\n",
       "    <tr>\n",
       "      <th>996</th>\n",
       "      <td>996</td>\n",
       "      <td>0.087193</td>\n",
       "      <td>0.073569</td>\n",
       "      <td>0.061762</td>\n",
       "      <td>0.055404</td>\n",
       "      <td>0.064487</td>\n",
       "      <td>0.080836</td>\n",
       "      <td>0.078111</td>\n",
       "      <td>0.066303</td>\n",
       "      <td>0.072661</td>\n",
       "      <td>...</td>\n",
       "      <td>0.065395</td>\n",
       "      <td>0.063579</td>\n",
       "      <td>0.077203</td>\n",
       "      <td>0.079019</td>\n",
       "      <td>0.081744</td>\n",
       "      <td>0.087193</td>\n",
       "      <td>0.092643</td>\n",
       "      <td>996.0</td>\n",
       "      <td>rock</td>\n",
       "      <td>97</td>\n",
       "    </tr>\n",
       "    <tr>\n",
       "      <th>997</th>\n",
       "      <td>997</td>\n",
       "      <td>0.016349</td>\n",
       "      <td>0.016349</td>\n",
       "      <td>0.020890</td>\n",
       "      <td>0.022707</td>\n",
       "      <td>0.019982</td>\n",
       "      <td>0.019074</td>\n",
       "      <td>0.018165</td>\n",
       "      <td>0.017257</td>\n",
       "      <td>0.019074</td>\n",
       "      <td>...</td>\n",
       "      <td>0.039964</td>\n",
       "      <td>0.041780</td>\n",
       "      <td>0.032698</td>\n",
       "      <td>0.029064</td>\n",
       "      <td>0.032698</td>\n",
       "      <td>0.040872</td>\n",
       "      <td>0.039055</td>\n",
       "      <td>997.0</td>\n",
       "      <td>rock</td>\n",
       "      <td>98</td>\n",
       "    </tr>\n",
       "    <tr>\n",
       "      <th>998</th>\n",
       "      <td>998</td>\n",
       "      <td>0.046322</td>\n",
       "      <td>0.039964</td>\n",
       "      <td>0.039964</td>\n",
       "      <td>0.067212</td>\n",
       "      <td>0.082652</td>\n",
       "      <td>0.060854</td>\n",
       "      <td>0.061762</td>\n",
       "      <td>0.081744</td>\n",
       "      <td>0.084469</td>\n",
       "      <td>...</td>\n",
       "      <td>0.098093</td>\n",
       "      <td>0.089010</td>\n",
       "      <td>0.068120</td>\n",
       "      <td>0.069936</td>\n",
       "      <td>0.068120</td>\n",
       "      <td>0.062670</td>\n",
       "      <td>0.063579</td>\n",
       "      <td>998.0</td>\n",
       "      <td>rock</td>\n",
       "      <td>99</td>\n",
       "    </tr>\n",
       "  </tbody>\n",
       "</table>\n",
       "<p>999 rows × 140 columns</p>\n",
       "</div>"
      ],
      "text/plain": [
       "     Unnamed: 0  zcr_mean  energy_mean  energy_entropy_mean  \\\n",
       "0             0  0.126249     0.096276             0.092643   \n",
       "1             1  0.029973     0.019982             0.010899   \n",
       "2             2  0.089918     0.079927             0.082652   \n",
       "3             3  0.019982     0.020890             0.020890   \n",
       "4             4  0.080836     0.098093             0.099909   \n",
       "..          ...       ...          ...                  ...   \n",
       "994         994  0.069028     0.070845             0.069028   \n",
       "995         995  0.114441     0.107175             0.099909   \n",
       "996         996  0.087193     0.073569             0.061762   \n",
       "997         997  0.016349     0.016349             0.020890   \n",
       "998         998  0.046322     0.039964             0.039964   \n",
       "\n",
       "     spectral_centroid_mean  spectral_spread_mean  spectral_entropy_mean  \\\n",
       "0                  0.108992              0.087193               0.075386   \n",
       "1                  0.017257              0.019074               0.010899   \n",
       "2                  0.079927              0.066303               0.065395   \n",
       "3                  0.016349              0.012716               0.011807   \n",
       "4                  0.100817              0.099001               0.080836   \n",
       "..                      ...                   ...                    ...   \n",
       "994                0.074478              0.080836               0.075386   \n",
       "995                0.111717              0.125341               0.111717   \n",
       "996                0.055404              0.064487               0.080836   \n",
       "997                0.022707              0.019982               0.019074   \n",
       "998                0.067212              0.082652               0.060854   \n",
       "\n",
       "     spectral_flux_mean  spectral_rolloff_mean  mfcc_1_mean  ...  \\\n",
       "0              0.082652               0.096276     0.089918  ...   \n",
       "1              0.014532               0.021798     0.015441  ...   \n",
       "2              0.069028               0.075386     0.074478  ...   \n",
       "3              0.008174               0.006358     0.008174  ...   \n",
       "4              0.060854               0.057221     0.063579  ...   \n",
       "..                  ...                    ...          ...  ...   \n",
       "994            0.074478               0.065395     0.069936  ...   \n",
       "995            0.105359               0.108084     0.095368  ...   \n",
       "996            0.078111               0.066303     0.072661  ...   \n",
       "997            0.018165               0.017257     0.019074  ...   \n",
       "998            0.061762               0.081744     0.084469  ...   \n",
       "\n",
       "     delta chroma_7_std  delta chroma_8_std  delta chroma_9_std  \\\n",
       "0              0.062670            0.063579            0.066303   \n",
       "1              0.051771            0.043597            0.049955   \n",
       "2              0.059946            0.051771            0.044505   \n",
       "3              0.034514            0.036331            0.029973   \n",
       "4              0.181653            0.219800            0.259764   \n",
       "..                  ...                 ...                 ...   \n",
       "994            0.076294            0.079019            0.078111   \n",
       "995            0.117166            0.099001            0.092643   \n",
       "996            0.065395            0.063579            0.077203   \n",
       "997            0.039964            0.041780            0.032698   \n",
       "998            0.098093            0.089010            0.068120   \n",
       "\n",
       "     delta chroma_10_std  delta chroma_11_std  delta chroma_12_std  \\\n",
       "0               0.081744             0.096276             0.099909   \n",
       "1               0.069936             0.069936             0.055404   \n",
       "2               0.044505             0.050863             0.051771   \n",
       "3               0.022707             0.025431             0.034514   \n",
       "4               0.290645             0.281562             0.296094   \n",
       "..                   ...                  ...                  ...   \n",
       "994             0.083560             0.087193             0.066303   \n",
       "995             0.098093             0.104450             0.180745   \n",
       "996             0.079019             0.081744             0.087193   \n",
       "997             0.029064             0.032698             0.040872   \n",
       "998             0.069936             0.068120             0.062670   \n",
       "\n",
       "     delta chroma_std_std  Row_Index  Genre  GenreID  \n",
       "0                0.088102        0.0  blues        0  \n",
       "1                0.053588        1.0  blues        1  \n",
       "2                0.042688        2.0  blues        2  \n",
       "3                0.030881        3.0  blues        3  \n",
       "4                0.324251        4.0  blues        4  \n",
       "..                    ...        ...    ...      ...  \n",
       "994              0.066303      994.0   rock       95  \n",
       "995              0.219800      995.0   rock       96  \n",
       "996              0.092643      996.0   rock       97  \n",
       "997              0.039055      997.0   rock       98  \n",
       "998              0.063579      998.0   rock       99  \n",
       "\n",
       "[999 rows x 140 columns]"
      ]
     },
     "execution_count": 5,
     "metadata": {},
     "output_type": "execute_result"
    }
   ],
   "source": [
    "df = pd.read_csv(\"bigMusicInfo.csv\")\n",
    "df"
   ]
  },
  {
   "cell_type": "code",
   "execution_count": 6,
   "id": "0d64e0d2",
   "metadata": {},
   "outputs": [
    {
     "data": {
      "text/plain": [
       "array([[0.12624886, 0.09627611, 0.09264305, ..., 0.09627611, 0.09990917,\n",
       "        0.08810173],\n",
       "       [0.02997275, 0.01998183, 0.01089918, ..., 0.06993642, 0.05540418,\n",
       "        0.05358765],\n",
       "       [0.08991826, 0.07992734, 0.08265213, ..., 0.05086285, 0.05177112,\n",
       "        0.04268847],\n",
       "       ...,\n",
       "       [0.08719346, 0.07356948, 0.06176203, ..., 0.08174387, 0.08719346,\n",
       "        0.09264305],\n",
       "       [0.01634877, 0.01634877, 0.0208901 , ..., 0.03269755, 0.04087193,\n",
       "        0.0390554 ],\n",
       "       [0.04632153, 0.03996367, 0.03996367, ..., 0.06811989, 0.0626703 ,\n",
       "        0.06357856]])"
      ]
     },
     "execution_count": 6,
     "metadata": {},
     "output_type": "execute_result"
    }
   ],
   "source": [
    "data = (df.copy()).iloc[:, 1:-3].values\n",
    "data"
   ]
  },
  {
   "cell_type": "code",
   "execution_count": 7,
   "id": "0ef55d79",
   "metadata": {},
   "outputs": [
    {
     "data": {
      "text/plain": [
       "array(['blues', 'blues', 'blues', 'blues', 'blues', 'blues', 'blues',\n",
       "       'blues', 'blues', 'blues', 'blues', 'blues', 'blues', 'blues',\n",
       "       'blues', 'blues', 'blues', 'blues', 'blues', 'blues', 'blues',\n",
       "       'blues', 'blues', 'blues', 'blues', 'blues', 'blues', 'blues',\n",
       "       'blues', 'blues', 'blues', 'blues', 'blues', 'blues', 'blues',\n",
       "       'blues', 'blues', 'blues', 'blues', 'blues', 'blues', 'blues',\n",
       "       'blues', 'blues', 'blues', 'blues', 'blues', 'blues', 'blues',\n",
       "       'blues', 'blues', 'blues', 'blues', 'blues', 'blues', 'blues',\n",
       "       'blues', 'blues', 'blues', 'blues', 'blues', 'blues', 'blues',\n",
       "       'blues', 'blues', 'blues', 'blues', 'blues', 'blues', 'blues',\n",
       "       'blues', 'blues', 'blues', 'blues', 'blues', 'blues', 'blues',\n",
       "       'blues', 'blues', 'blues', 'blues', 'blues', 'blues', 'blues',\n",
       "       'blues', 'blues', 'blues', 'blues', 'blues', 'blues', 'blues',\n",
       "       'blues', 'blues', 'blues', 'blues', 'blues', 'blues', 'blues',\n",
       "       'blues', 'blues', 'classical', 'classical', 'classical',\n",
       "       'classical', 'classical', 'classical', 'classical', 'classical',\n",
       "       'classical', 'classical', 'classical', 'classical', 'classical',\n",
       "       'classical', 'classical', 'classical', 'classical', 'classical',\n",
       "       'classical', 'classical', 'classical', 'classical', 'classical',\n",
       "       'classical', 'classical', 'classical', 'classical', 'classical',\n",
       "       'classical', 'classical', 'classical', 'classical', 'classical',\n",
       "       'classical', 'classical', 'classical', 'classical', 'classical',\n",
       "       'classical', 'classical', 'classical', 'classical', 'classical',\n",
       "       'classical', 'classical', 'classical', 'classical', 'classical',\n",
       "       'classical', 'classical', 'classical', 'classical', 'classical',\n",
       "       'classical', 'classical', 'classical', 'classical', 'classical',\n",
       "       'classical', 'classical', 'classical', 'classical', 'classical',\n",
       "       'classical', 'classical', 'classical', 'classical', 'classical',\n",
       "       'classical', 'classical', 'classical', 'classical', 'classical',\n",
       "       'classical', 'classical', 'classical', 'classical', 'classical',\n",
       "       'classical', 'classical', 'classical', 'classical', 'classical',\n",
       "       'classical', 'classical', 'classical', 'classical', 'classical',\n",
       "       'classical', 'classical', 'classical', 'classical', 'classical',\n",
       "       'classical', 'classical', 'classical', 'classical', 'classical',\n",
       "       'classical', 'classical', 'country', 'country', 'country',\n",
       "       'country', 'country', 'country', 'country', 'country', 'country',\n",
       "       'country', 'country', 'country', 'country', 'country', 'country',\n",
       "       'country', 'country', 'country', 'country', 'country', 'country',\n",
       "       'country', 'country', 'country', 'country', 'country', 'country',\n",
       "       'country', 'country', 'country', 'country', 'country', 'country',\n",
       "       'country', 'country', 'country', 'country', 'country', 'country',\n",
       "       'country', 'country', 'country', 'country', 'country', 'country',\n",
       "       'country', 'country', 'country', 'country', 'country', 'country',\n",
       "       'country', 'country', 'country', 'country', 'country', 'country',\n",
       "       'country', 'country', 'country', 'country', 'country', 'country',\n",
       "       'country', 'country', 'country', 'country', 'country', 'country',\n",
       "       'country', 'country', 'country', 'country', 'country', 'country',\n",
       "       'country', 'country', 'country', 'country', 'country', 'country',\n",
       "       'country', 'country', 'country', 'country', 'country', 'country',\n",
       "       'country', 'country', 'country', 'country', 'country', 'country',\n",
       "       'country', 'country', 'country', 'country', 'country', 'country',\n",
       "       'country', 'disco', 'disco', 'disco', 'disco', 'disco', 'disco',\n",
       "       'disco', 'disco', 'disco', 'disco', 'disco', 'disco', 'disco',\n",
       "       'disco', 'disco', 'disco', 'disco', 'disco', 'disco', 'disco',\n",
       "       'disco', 'disco', 'disco', 'disco', 'disco', 'disco', 'disco',\n",
       "       'disco', 'disco', 'disco', 'disco', 'disco', 'disco', 'disco',\n",
       "       'disco', 'disco', 'disco', 'disco', 'disco', 'disco', 'disco',\n",
       "       'disco', 'disco', 'disco', 'disco', 'disco', 'disco', 'disco',\n",
       "       'disco', 'disco', 'disco', 'disco', 'disco', 'disco', 'disco',\n",
       "       'disco', 'disco', 'disco', 'disco', 'disco', 'disco', 'disco',\n",
       "       'disco', 'disco', 'disco', 'disco', 'disco', 'disco', 'disco',\n",
       "       'disco', 'disco', 'disco', 'disco', 'disco', 'disco', 'disco',\n",
       "       'disco', 'disco', 'disco', 'disco', 'disco', 'disco', 'disco',\n",
       "       'disco', 'disco', 'disco', 'disco', 'disco', 'disco', 'disco',\n",
       "       'disco', 'disco', 'disco', 'disco', 'disco', 'disco', 'disco',\n",
       "       'disco', 'disco', 'disco', 'hiphop', 'hiphop', 'hiphop', 'hiphop',\n",
       "       'hiphop', 'hiphop', 'hiphop', 'hiphop', 'hiphop', 'hiphop',\n",
       "       'hiphop', 'hiphop', 'hiphop', 'hiphop', 'hiphop', 'hiphop',\n",
       "       'hiphop', 'hiphop', 'hiphop', 'hiphop', 'hiphop', 'hiphop',\n",
       "       'hiphop', 'hiphop', 'hiphop', 'hiphop', 'hiphop', 'hiphop',\n",
       "       'hiphop', 'hiphop', 'hiphop', 'hiphop', 'hiphop', 'hiphop',\n",
       "       'hiphop', 'hiphop', 'hiphop', 'hiphop', 'hiphop', 'hiphop',\n",
       "       'hiphop', 'hiphop', 'hiphop', 'hiphop', 'hiphop', 'hiphop',\n",
       "       'hiphop', 'hiphop', 'hiphop', 'hiphop', 'hiphop', 'hiphop',\n",
       "       'hiphop', 'hiphop', 'hiphop', 'hiphop', 'hiphop', 'hiphop',\n",
       "       'hiphop', 'hiphop', 'hiphop', 'hiphop', 'hiphop', 'hiphop',\n",
       "       'hiphop', 'hiphop', 'hiphop', 'hiphop', 'hiphop', 'hiphop',\n",
       "       'hiphop', 'hiphop', 'hiphop', 'hiphop', 'hiphop', 'hiphop',\n",
       "       'hiphop', 'hiphop', 'hiphop', 'hiphop', 'hiphop', 'hiphop',\n",
       "       'hiphop', 'hiphop', 'hiphop', 'hiphop', 'hiphop', 'hiphop',\n",
       "       'hiphop', 'hiphop', 'hiphop', 'hiphop', 'hiphop', 'hiphop',\n",
       "       'hiphop', 'hiphop', 'hiphop', 'hiphop', 'hiphop', 'hiphop', 'jazz',\n",
       "       'jazz', 'jazz', 'jazz', 'jazz', 'jazz', 'jazz', 'jazz', 'jazz',\n",
       "       'jazz', 'jazz', 'jazz', 'jazz', 'jazz', 'jazz', 'jazz', 'jazz',\n",
       "       'jazz', 'jazz', 'jazz', 'jazz', 'jazz', 'jazz', 'jazz', 'jazz',\n",
       "       'jazz', 'jazz', 'jazz', 'jazz', 'jazz', 'jazz', 'jazz', 'jazz',\n",
       "       'jazz', 'jazz', 'jazz', 'jazz', 'jazz', 'jazz', 'jazz', 'jazz',\n",
       "       'jazz', 'jazz', 'jazz', 'jazz', 'jazz', 'jazz', 'jazz', 'jazz',\n",
       "       'jazz', 'jazz', 'jazz', 'jazz', 'jazz', 'jazz', 'jazz', 'jazz',\n",
       "       'jazz', 'jazz', 'jazz', 'jazz', 'jazz', 'jazz', 'jazz', 'jazz',\n",
       "       'jazz', 'jazz', 'jazz', 'jazz', 'jazz', 'jazz', 'jazz', 'jazz',\n",
       "       'jazz', 'jazz', 'jazz', 'jazz', 'jazz', 'jazz', 'jazz', 'jazz',\n",
       "       'jazz', 'jazz', 'jazz', 'jazz', 'jazz', 'jazz', 'jazz', 'jazz',\n",
       "       'jazz', 'jazz', 'jazz', 'jazz', 'jazz', 'jazz', 'jazz', 'jazz',\n",
       "       'jazz', 'jazz', 'metal', 'metal', 'metal', 'metal', 'metal',\n",
       "       'metal', 'metal', 'metal', 'metal', 'metal', 'metal', 'metal',\n",
       "       'metal', 'metal', 'metal', 'metal', 'metal', 'metal', 'metal',\n",
       "       'metal', 'metal', 'metal', 'metal', 'metal', 'metal', 'metal',\n",
       "       'metal', 'metal', 'metal', 'metal', 'metal', 'metal', 'metal',\n",
       "       'metal', 'metal', 'metal', 'metal', 'metal', 'metal', 'metal',\n",
       "       'metal', 'metal', 'metal', 'metal', 'metal', 'metal', 'metal',\n",
       "       'metal', 'metal', 'metal', 'metal', 'metal', 'metal', 'metal',\n",
       "       'metal', 'metal', 'metal', 'metal', 'metal', 'metal', 'metal',\n",
       "       'metal', 'metal', 'metal', 'metal', 'metal', 'metal', 'metal',\n",
       "       'metal', 'metal', 'metal', 'metal', 'metal', 'metal', 'metal',\n",
       "       'metal', 'metal', 'metal', 'metal', 'metal', 'metal', 'metal',\n",
       "       'metal', 'metal', 'metal', 'metal', 'metal', 'metal', 'metal',\n",
       "       'metal', 'metal', 'metal', 'metal', 'metal', 'metal', 'metal',\n",
       "       'metal', 'metal', 'metal', 'metal', 'pop', 'pop', 'pop', 'pop',\n",
       "       'pop', 'pop', 'pop', 'pop', 'pop', 'pop', 'pop', 'pop', 'pop',\n",
       "       'pop', 'pop', 'pop', 'pop', 'pop', 'pop', 'pop', 'pop', 'pop',\n",
       "       'pop', 'pop', 'pop', 'pop', 'pop', 'pop', 'pop', 'pop', 'pop',\n",
       "       'pop', 'pop', 'pop', 'pop', 'pop', 'pop', 'pop', 'pop', 'pop',\n",
       "       'pop', 'pop', 'pop', 'pop', 'pop', 'pop', 'pop', 'pop', 'pop',\n",
       "       'pop', 'pop', 'pop', 'pop', 'pop', 'pop', 'pop', 'pop', 'pop',\n",
       "       'pop', 'pop', 'pop', 'pop', 'pop', 'pop', 'pop', 'pop', 'pop',\n",
       "       'pop', 'pop', 'pop', 'pop', 'pop', 'pop', 'pop', 'pop', 'pop',\n",
       "       'pop', 'pop', 'pop', 'pop', 'pop', 'pop', 'pop', 'pop', 'pop',\n",
       "       'pop', 'pop', 'pop', 'pop', 'pop', 'pop', 'pop', 'pop', 'pop',\n",
       "       'pop', 'pop', 'pop', 'pop', 'pop', 'pop', 'reggae', 'reggae',\n",
       "       'reggae', 'reggae', 'reggae', 'reggae', 'reggae', 'reggae',\n",
       "       'reggae', 'reggae', 'reggae', 'reggae', 'reggae', 'reggae',\n",
       "       'reggae', 'reggae', 'reggae', 'reggae', 'reggae', 'reggae',\n",
       "       'reggae', 'reggae', 'reggae', 'reggae', 'reggae', 'reggae',\n",
       "       'reggae', 'reggae', 'reggae', 'reggae', 'reggae', 'reggae',\n",
       "       'reggae', 'reggae', 'reggae', 'reggae', 'reggae', 'reggae',\n",
       "       'reggae', 'reggae', 'reggae', 'reggae', 'reggae', 'reggae',\n",
       "       'reggae', 'reggae', 'reggae', 'reggae', 'reggae', 'reggae',\n",
       "       'reggae', 'reggae', 'reggae', 'reggae', 'reggae', 'reggae',\n",
       "       'reggae', 'reggae', 'reggae', 'reggae', 'reggae', 'reggae',\n",
       "       'reggae', 'reggae', 'reggae', 'reggae', 'reggae', 'reggae',\n",
       "       'reggae', 'reggae', 'reggae', 'reggae', 'reggae', 'reggae',\n",
       "       'reggae', 'reggae', 'reggae', 'reggae', 'reggae', 'reggae',\n",
       "       'reggae', 'reggae', 'reggae', 'reggae', 'reggae', 'reggae',\n",
       "       'reggae', 'reggae', 'reggae', 'reggae', 'reggae', 'reggae',\n",
       "       'reggae', 'reggae', 'reggae', 'reggae', 'reggae', 'reggae',\n",
       "       'reggae', 'reggae', 'rock', 'rock', 'rock', 'rock', 'rock', 'rock',\n",
       "       'rock', 'rock', 'rock', 'rock', 'rock', 'rock', 'rock', 'rock',\n",
       "       'rock', 'rock', 'rock', 'rock', 'rock', 'rock', 'rock', 'rock',\n",
       "       'rock', 'rock', 'rock', 'rock', 'rock', 'rock', 'rock', 'rock',\n",
       "       'rock', 'rock', 'rock', 'rock', 'rock', 'rock', 'rock', 'rock',\n",
       "       'rock', 'rock', 'rock', 'rock', 'rock', 'rock', 'rock', 'rock',\n",
       "       'rock', 'rock', 'rock', 'rock', 'rock', 'rock', 'rock', 'rock',\n",
       "       'rock', 'rock', 'rock', 'rock', 'rock', 'rock', 'rock', 'rock',\n",
       "       'rock', 'rock', 'rock', 'rock', 'rock', 'rock', 'rock', 'rock',\n",
       "       'rock', 'rock', 'rock', 'rock', 'rock', 'rock', 'rock', 'rock',\n",
       "       'rock', 'rock', 'rock', 'rock', 'rock', 'rock', 'rock', 'rock',\n",
       "       'rock', 'rock', 'rock', 'rock', 'rock', 'rock', 'rock', 'rock',\n",
       "       'rock', 'rock', 'rock', 'rock', 'rock', 'rock'], dtype=object)"
      ]
     },
     "execution_count": 7,
     "metadata": {},
     "output_type": "execute_result"
    }
   ],
   "source": [
    "target = (df.copy()).iloc[:, -2].values\n",
    "target"
   ]
  },
  {
   "cell_type": "code",
   "execution_count": 8,
   "id": "888d1c5d",
   "metadata": {},
   "outputs": [
    {
     "data": {
      "text/plain": [
       "array([[0.12624886, 0.09627611, 0.09264305, ..., 0.09627611, 0.09990917,\n",
       "        0.08810173],\n",
       "       [0.02997275, 0.01998183, 0.01089918, ..., 0.06993642, 0.05540418,\n",
       "        0.05358765],\n",
       "       [0.08991826, 0.07992734, 0.08265213, ..., 0.05086285, 0.05177112,\n",
       "        0.04268847],\n",
       "       ...,\n",
       "       [0.08719346, 0.07356948, 0.06176203, ..., 0.08174387, 0.08719346,\n",
       "        0.09264305],\n",
       "       [0.01634877, 0.01634877, 0.0208901 , ..., 0.03269755, 0.04087193,\n",
       "        0.0390554 ],\n",
       "       [0.04632153, 0.03996367, 0.03996367, ..., 0.06811989, 0.0626703 ,\n",
       "        0.06357856]])"
      ]
     },
     "execution_count": 8,
     "metadata": {},
     "output_type": "execute_result"
    }
   ],
   "source": [
    "X, y = data, target\n",
    "X"
   ]
  },
  {
   "cell_type": "code",
   "execution_count": 9,
   "id": "906fb362",
   "metadata": {},
   "outputs": [
    {
     "data": {
      "text/plain": [
       "array(['blues', 'blues', 'blues', 'blues', 'blues', 'blues', 'blues',\n",
       "       'blues', 'blues', 'blues', 'blues', 'blues', 'blues', 'blues',\n",
       "       'blues', 'blues', 'blues', 'blues', 'blues', 'blues', 'blues',\n",
       "       'blues', 'blues', 'blues', 'blues', 'blues', 'blues', 'blues',\n",
       "       'blues', 'blues', 'blues', 'blues', 'blues', 'blues', 'blues',\n",
       "       'blues', 'blues', 'blues', 'blues', 'blues', 'blues', 'blues',\n",
       "       'blues', 'blues', 'blues', 'blues', 'blues', 'blues', 'blues',\n",
       "       'blues', 'blues', 'blues', 'blues', 'blues', 'blues', 'blues',\n",
       "       'blues', 'blues', 'blues', 'blues', 'blues', 'blues', 'blues',\n",
       "       'blues', 'blues', 'blues', 'blues', 'blues', 'blues', 'blues',\n",
       "       'blues', 'blues', 'blues', 'blues', 'blues', 'blues', 'blues',\n",
       "       'blues', 'blues', 'blues', 'blues', 'blues', 'blues', 'blues',\n",
       "       'blues', 'blues', 'blues', 'blues', 'blues', 'blues', 'blues',\n",
       "       'blues', 'blues', 'blues', 'blues', 'blues', 'blues', 'blues',\n",
       "       'blues', 'blues', 'classical', 'classical', 'classical',\n",
       "       'classical', 'classical', 'classical', 'classical', 'classical',\n",
       "       'classical', 'classical', 'classical', 'classical', 'classical',\n",
       "       'classical', 'classical', 'classical', 'classical', 'classical',\n",
       "       'classical', 'classical', 'classical', 'classical', 'classical',\n",
       "       'classical', 'classical', 'classical', 'classical', 'classical',\n",
       "       'classical', 'classical', 'classical', 'classical', 'classical',\n",
       "       'classical', 'classical', 'classical', 'classical', 'classical',\n",
       "       'classical', 'classical', 'classical', 'classical', 'classical',\n",
       "       'classical', 'classical', 'classical', 'classical', 'classical',\n",
       "       'classical', 'classical', 'classical', 'classical', 'classical',\n",
       "       'classical', 'classical', 'classical', 'classical', 'classical',\n",
       "       'classical', 'classical', 'classical', 'classical', 'classical',\n",
       "       'classical', 'classical', 'classical', 'classical', 'classical',\n",
       "       'classical', 'classical', 'classical', 'classical', 'classical',\n",
       "       'classical', 'classical', 'classical', 'classical', 'classical',\n",
       "       'classical', 'classical', 'classical', 'classical', 'classical',\n",
       "       'classical', 'classical', 'classical', 'classical', 'classical',\n",
       "       'classical', 'classical', 'classical', 'classical', 'classical',\n",
       "       'classical', 'classical', 'classical', 'classical', 'classical',\n",
       "       'classical', 'classical', 'country', 'country', 'country',\n",
       "       'country', 'country', 'country', 'country', 'country', 'country',\n",
       "       'country', 'country', 'country', 'country', 'country', 'country',\n",
       "       'country', 'country', 'country', 'country', 'country', 'country',\n",
       "       'country', 'country', 'country', 'country', 'country', 'country',\n",
       "       'country', 'country', 'country', 'country', 'country', 'country',\n",
       "       'country', 'country', 'country', 'country', 'country', 'country',\n",
       "       'country', 'country', 'country', 'country', 'country', 'country',\n",
       "       'country', 'country', 'country', 'country', 'country', 'country',\n",
       "       'country', 'country', 'country', 'country', 'country', 'country',\n",
       "       'country', 'country', 'country', 'country', 'country', 'country',\n",
       "       'country', 'country', 'country', 'country', 'country', 'country',\n",
       "       'country', 'country', 'country', 'country', 'country', 'country',\n",
       "       'country', 'country', 'country', 'country', 'country', 'country',\n",
       "       'country', 'country', 'country', 'country', 'country', 'country',\n",
       "       'country', 'country', 'country', 'country', 'country', 'country',\n",
       "       'country', 'country', 'country', 'country', 'country', 'country',\n",
       "       'country', 'disco', 'disco', 'disco', 'disco', 'disco', 'disco',\n",
       "       'disco', 'disco', 'disco', 'disco', 'disco', 'disco', 'disco',\n",
       "       'disco', 'disco', 'disco', 'disco', 'disco', 'disco', 'disco',\n",
       "       'disco', 'disco', 'disco', 'disco', 'disco', 'disco', 'disco',\n",
       "       'disco', 'disco', 'disco', 'disco', 'disco', 'disco', 'disco',\n",
       "       'disco', 'disco', 'disco', 'disco', 'disco', 'disco', 'disco',\n",
       "       'disco', 'disco', 'disco', 'disco', 'disco', 'disco', 'disco',\n",
       "       'disco', 'disco', 'disco', 'disco', 'disco', 'disco', 'disco',\n",
       "       'disco', 'disco', 'disco', 'disco', 'disco', 'disco', 'disco',\n",
       "       'disco', 'disco', 'disco', 'disco', 'disco', 'disco', 'disco',\n",
       "       'disco', 'disco', 'disco', 'disco', 'disco', 'disco', 'disco',\n",
       "       'disco', 'disco', 'disco', 'disco', 'disco', 'disco', 'disco',\n",
       "       'disco', 'disco', 'disco', 'disco', 'disco', 'disco', 'disco',\n",
       "       'disco', 'disco', 'disco', 'disco', 'disco', 'disco', 'disco',\n",
       "       'disco', 'disco', 'disco', 'hiphop', 'hiphop', 'hiphop', 'hiphop',\n",
       "       'hiphop', 'hiphop', 'hiphop', 'hiphop', 'hiphop', 'hiphop',\n",
       "       'hiphop', 'hiphop', 'hiphop', 'hiphop', 'hiphop', 'hiphop',\n",
       "       'hiphop', 'hiphop', 'hiphop', 'hiphop', 'hiphop', 'hiphop',\n",
       "       'hiphop', 'hiphop', 'hiphop', 'hiphop', 'hiphop', 'hiphop',\n",
       "       'hiphop', 'hiphop', 'hiphop', 'hiphop', 'hiphop', 'hiphop',\n",
       "       'hiphop', 'hiphop', 'hiphop', 'hiphop', 'hiphop', 'hiphop',\n",
       "       'hiphop', 'hiphop', 'hiphop', 'hiphop', 'hiphop', 'hiphop',\n",
       "       'hiphop', 'hiphop', 'hiphop', 'hiphop', 'hiphop', 'hiphop',\n",
       "       'hiphop', 'hiphop', 'hiphop', 'hiphop', 'hiphop', 'hiphop',\n",
       "       'hiphop', 'hiphop', 'hiphop', 'hiphop', 'hiphop', 'hiphop',\n",
       "       'hiphop', 'hiphop', 'hiphop', 'hiphop', 'hiphop', 'hiphop',\n",
       "       'hiphop', 'hiphop', 'hiphop', 'hiphop', 'hiphop', 'hiphop',\n",
       "       'hiphop', 'hiphop', 'hiphop', 'hiphop', 'hiphop', 'hiphop',\n",
       "       'hiphop', 'hiphop', 'hiphop', 'hiphop', 'hiphop', 'hiphop',\n",
       "       'hiphop', 'hiphop', 'hiphop', 'hiphop', 'hiphop', 'hiphop',\n",
       "       'hiphop', 'hiphop', 'hiphop', 'hiphop', 'hiphop', 'hiphop', 'jazz',\n",
       "       'jazz', 'jazz', 'jazz', 'jazz', 'jazz', 'jazz', 'jazz', 'jazz',\n",
       "       'jazz', 'jazz', 'jazz', 'jazz', 'jazz', 'jazz', 'jazz', 'jazz',\n",
       "       'jazz', 'jazz', 'jazz', 'jazz', 'jazz', 'jazz', 'jazz', 'jazz',\n",
       "       'jazz', 'jazz', 'jazz', 'jazz', 'jazz', 'jazz', 'jazz', 'jazz',\n",
       "       'jazz', 'jazz', 'jazz', 'jazz', 'jazz', 'jazz', 'jazz', 'jazz',\n",
       "       'jazz', 'jazz', 'jazz', 'jazz', 'jazz', 'jazz', 'jazz', 'jazz',\n",
       "       'jazz', 'jazz', 'jazz', 'jazz', 'jazz', 'jazz', 'jazz', 'jazz',\n",
       "       'jazz', 'jazz', 'jazz', 'jazz', 'jazz', 'jazz', 'jazz', 'jazz',\n",
       "       'jazz', 'jazz', 'jazz', 'jazz', 'jazz', 'jazz', 'jazz', 'jazz',\n",
       "       'jazz', 'jazz', 'jazz', 'jazz', 'jazz', 'jazz', 'jazz', 'jazz',\n",
       "       'jazz', 'jazz', 'jazz', 'jazz', 'jazz', 'jazz', 'jazz', 'jazz',\n",
       "       'jazz', 'jazz', 'jazz', 'jazz', 'jazz', 'jazz', 'jazz', 'jazz',\n",
       "       'jazz', 'jazz', 'metal', 'metal', 'metal', 'metal', 'metal',\n",
       "       'metal', 'metal', 'metal', 'metal', 'metal', 'metal', 'metal',\n",
       "       'metal', 'metal', 'metal', 'metal', 'metal', 'metal', 'metal',\n",
       "       'metal', 'metal', 'metal', 'metal', 'metal', 'metal', 'metal',\n",
       "       'metal', 'metal', 'metal', 'metal', 'metal', 'metal', 'metal',\n",
       "       'metal', 'metal', 'metal', 'metal', 'metal', 'metal', 'metal',\n",
       "       'metal', 'metal', 'metal', 'metal', 'metal', 'metal', 'metal',\n",
       "       'metal', 'metal', 'metal', 'metal', 'metal', 'metal', 'metal',\n",
       "       'metal', 'metal', 'metal', 'metal', 'metal', 'metal', 'metal',\n",
       "       'metal', 'metal', 'metal', 'metal', 'metal', 'metal', 'metal',\n",
       "       'metal', 'metal', 'metal', 'metal', 'metal', 'metal', 'metal',\n",
       "       'metal', 'metal', 'metal', 'metal', 'metal', 'metal', 'metal',\n",
       "       'metal', 'metal', 'metal', 'metal', 'metal', 'metal', 'metal',\n",
       "       'metal', 'metal', 'metal', 'metal', 'metal', 'metal', 'metal',\n",
       "       'metal', 'metal', 'metal', 'metal', 'pop', 'pop', 'pop', 'pop',\n",
       "       'pop', 'pop', 'pop', 'pop', 'pop', 'pop', 'pop', 'pop', 'pop',\n",
       "       'pop', 'pop', 'pop', 'pop', 'pop', 'pop', 'pop', 'pop', 'pop',\n",
       "       'pop', 'pop', 'pop', 'pop', 'pop', 'pop', 'pop', 'pop', 'pop',\n",
       "       'pop', 'pop', 'pop', 'pop', 'pop', 'pop', 'pop', 'pop', 'pop',\n",
       "       'pop', 'pop', 'pop', 'pop', 'pop', 'pop', 'pop', 'pop', 'pop',\n",
       "       'pop', 'pop', 'pop', 'pop', 'pop', 'pop', 'pop', 'pop', 'pop',\n",
       "       'pop', 'pop', 'pop', 'pop', 'pop', 'pop', 'pop', 'pop', 'pop',\n",
       "       'pop', 'pop', 'pop', 'pop', 'pop', 'pop', 'pop', 'pop', 'pop',\n",
       "       'pop', 'pop', 'pop', 'pop', 'pop', 'pop', 'pop', 'pop', 'pop',\n",
       "       'pop', 'pop', 'pop', 'pop', 'pop', 'pop', 'pop', 'pop', 'pop',\n",
       "       'pop', 'pop', 'pop', 'pop', 'pop', 'pop', 'reggae', 'reggae',\n",
       "       'reggae', 'reggae', 'reggae', 'reggae', 'reggae', 'reggae',\n",
       "       'reggae', 'reggae', 'reggae', 'reggae', 'reggae', 'reggae',\n",
       "       'reggae', 'reggae', 'reggae', 'reggae', 'reggae', 'reggae',\n",
       "       'reggae', 'reggae', 'reggae', 'reggae', 'reggae', 'reggae',\n",
       "       'reggae', 'reggae', 'reggae', 'reggae', 'reggae', 'reggae',\n",
       "       'reggae', 'reggae', 'reggae', 'reggae', 'reggae', 'reggae',\n",
       "       'reggae', 'reggae', 'reggae', 'reggae', 'reggae', 'reggae',\n",
       "       'reggae', 'reggae', 'reggae', 'reggae', 'reggae', 'reggae',\n",
       "       'reggae', 'reggae', 'reggae', 'reggae', 'reggae', 'reggae',\n",
       "       'reggae', 'reggae', 'reggae', 'reggae', 'reggae', 'reggae',\n",
       "       'reggae', 'reggae', 'reggae', 'reggae', 'reggae', 'reggae',\n",
       "       'reggae', 'reggae', 'reggae', 'reggae', 'reggae', 'reggae',\n",
       "       'reggae', 'reggae', 'reggae', 'reggae', 'reggae', 'reggae',\n",
       "       'reggae', 'reggae', 'reggae', 'reggae', 'reggae', 'reggae',\n",
       "       'reggae', 'reggae', 'reggae', 'reggae', 'reggae', 'reggae',\n",
       "       'reggae', 'reggae', 'reggae', 'reggae', 'reggae', 'reggae',\n",
       "       'reggae', 'reggae', 'rock', 'rock', 'rock', 'rock', 'rock', 'rock',\n",
       "       'rock', 'rock', 'rock', 'rock', 'rock', 'rock', 'rock', 'rock',\n",
       "       'rock', 'rock', 'rock', 'rock', 'rock', 'rock', 'rock', 'rock',\n",
       "       'rock', 'rock', 'rock', 'rock', 'rock', 'rock', 'rock', 'rock',\n",
       "       'rock', 'rock', 'rock', 'rock', 'rock', 'rock', 'rock', 'rock',\n",
       "       'rock', 'rock', 'rock', 'rock', 'rock', 'rock', 'rock', 'rock',\n",
       "       'rock', 'rock', 'rock', 'rock', 'rock', 'rock', 'rock', 'rock',\n",
       "       'rock', 'rock', 'rock', 'rock', 'rock', 'rock', 'rock', 'rock',\n",
       "       'rock', 'rock', 'rock', 'rock', 'rock', 'rock', 'rock', 'rock',\n",
       "       'rock', 'rock', 'rock', 'rock', 'rock', 'rock', 'rock', 'rock',\n",
       "       'rock', 'rock', 'rock', 'rock', 'rock', 'rock', 'rock', 'rock',\n",
       "       'rock', 'rock', 'rock', 'rock', 'rock', 'rock', 'rock', 'rock',\n",
       "       'rock', 'rock', 'rock', 'rock', 'rock', 'rock'], dtype=object)"
      ]
     },
     "execution_count": 9,
     "metadata": {},
     "output_type": "execute_result"
    }
   ],
   "source": [
    "target"
   ]
  },
  {
   "cell_type": "markdown",
   "id": "searching-appraisal",
   "metadata": {},
   "source": [
    "## Multi-Class Logistic Regression (Softmax Regression) "
   ]
  },
  {
   "cell_type": "code",
   "execution_count": 10,
   "id": "robust-young",
   "metadata": {},
   "outputs": [],
   "source": [
    "from sklearn.model_selection import train_test_split\n",
    "\n",
    "X_train, X_test, y_train, y_test = train_test_split(X, y, test_size = 0.3, stratify = y)"
   ]
  },
  {
   "cell_type": "code",
   "execution_count": 11,
   "id": "d72bf6bf",
   "metadata": {},
   "outputs": [],
   "source": [
    "from sklearn.linear_model import LogisticRegression\n",
    "lr = LogisticRegression(multi_class='multinomial')"
   ]
  },
  {
   "cell_type": "code",
   "execution_count": 12,
   "id": "73dc0d0a",
   "metadata": {},
   "outputs": [],
   "source": [
    "current_time = time.time()\n",
    "lr.fit(X_train, y_train)\n",
    "lr_fit_time = time.time() - current_time"
   ]
  },
  {
   "cell_type": "code",
   "execution_count": 13,
   "id": "0a24683a",
   "metadata": {},
   "outputs": [
    {
     "data": {
      "text/plain": [
       "0.33476394849785407"
      ]
     },
     "execution_count": 13,
     "metadata": {},
     "output_type": "execute_result"
    }
   ],
   "source": [
    "from sklearn.metrics import accuracy_score\n",
    "current_time = time.time()\n",
    "y_train_predict_lr = lr.predict(X_train)\n",
    "lr_train_time = time.time() - current_time\n",
    "LR_train = accuracy_score(y_train, y_train_predict_lr)\n",
    "LR_train"
   ]
  },
  {
   "cell_type": "code",
   "execution_count": 14,
   "id": "1b448e6f",
   "metadata": {},
   "outputs": [
    {
     "data": {
      "text/plain": [
       "0.20666666666666667"
      ]
     },
     "execution_count": 14,
     "metadata": {},
     "output_type": "execute_result"
    }
   ],
   "source": [
    "current_time = time.time()\n",
    "y_test_pred_lr = lr.predict(X_test)\n",
    "lr_test_time = time.time() - current_time\n",
    "LR_test = accuracy_score(y_test,y_test_pred_lr)\n",
    "LR_test"
   ]
  },
  {
   "cell_type": "markdown",
   "id": "9949d377",
   "metadata": {},
   "source": [
    "# Decision Tree"
   ]
  },
  {
   "cell_type": "code",
   "execution_count": 15,
   "id": "7c0163d3",
   "metadata": {},
   "outputs": [],
   "source": [
    "from sklearn.tree import DecisionTreeClassifier\n",
    "stump = DecisionTreeClassifier(criterion= 'gini', max_depth=10)"
   ]
  },
  {
   "cell_type": "code",
   "execution_count": 16,
   "id": "6f83a024",
   "metadata": {},
   "outputs": [],
   "source": [
    "current_time = time.time()\n",
    "stump.fit(X_train, y_train)\n",
    "DT_fit_time = time.time() - current_time"
   ]
  },
  {
   "cell_type": "code",
   "execution_count": 17,
   "id": "ddbcf0aa",
   "metadata": {},
   "outputs": [
    {
     "data": {
      "text/plain": [
       "0.709585121602289"
      ]
     },
     "execution_count": 17,
     "metadata": {},
     "output_type": "execute_result"
    }
   ],
   "source": [
    "current_time = time.time()\n",
    "y_train_predict_stump = stump.predict(X_train)\n",
    "DT_train_time = time.time() - current_time\n",
    "DT_train = accuracy_score(y_train, y_train_predict_stump)\n",
    "DT_train"
   ]
  },
  {
   "cell_type": "code",
   "execution_count": 18,
   "id": "7249f392",
   "metadata": {},
   "outputs": [
    {
     "data": {
      "text/plain": [
       "0.2"
      ]
     },
     "execution_count": 18,
     "metadata": {},
     "output_type": "execute_result"
    }
   ],
   "source": [
    "current_time = time.time()\n",
    "y_test_predict_stump = stump.predict(X_test)\n",
    "DT_test_time = time.time() - current_time\n",
    "DT_test = accuracy_score(y_test, y_test_predict_stump)\n",
    "DT_test"
   ]
  },
  {
   "cell_type": "markdown",
   "id": "3bbcf170",
   "metadata": {},
   "source": [
    "# Linear SVM"
   ]
  },
  {
   "cell_type": "code",
   "execution_count": 19,
   "id": "077bdd82",
   "metadata": {},
   "outputs": [],
   "source": [
    "from sklearn.svm import LinearSVC\n",
    "from sklearn.pipeline import make_pipeline\n",
    "from sklearn.preprocessing import StandardScaler\n",
    "from sklearn.datasets import make_classification\n",
    "clf = LinearSVC(max_iter = 1000)"
   ]
  },
  {
   "cell_type": "code",
   "execution_count": 20,
   "id": "541cf1fd",
   "metadata": {},
   "outputs": [],
   "source": [
    "current_time = time.time()\n",
    "clf.fit(X_train, y_train)\n",
    "clf_fit_time = time.time() - current_time"
   ]
  },
  {
   "cell_type": "code",
   "execution_count": 21,
   "id": "484e8f06",
   "metadata": {},
   "outputs": [
    {
     "data": {
      "text/plain": [
       "0.4492131616595136"
      ]
     },
     "execution_count": 21,
     "metadata": {},
     "output_type": "execute_result"
    }
   ],
   "source": [
    "current_time = time.time()\n",
    "y_pred_train_svm_lin = clf.predict(X_train)\n",
    "clf_train_time = time.time() - current_time\n",
    "LinearSVM_train = accuracy_score(y_train, y_pred_train_svm_lin)\n",
    "LinearSVM_train"
   ]
  },
  {
   "cell_type": "code",
   "execution_count": 22,
   "id": "85cb1b81",
   "metadata": {},
   "outputs": [
    {
     "data": {
      "text/plain": [
       "0.19333333333333333"
      ]
     },
     "execution_count": 22,
     "metadata": {},
     "output_type": "execute_result"
    }
   ],
   "source": [
    "current_time = time.time()\n",
    "y_pred_test_svm_lin = clf.predict(X_test)\n",
    "clf_test_time = time.time() - current_time\n",
    "LinearSVM_test = accuracy_score(y_test, y_pred_test_svm_lin)\n",
    "LinearSVM_test"
   ]
  },
  {
   "cell_type": "markdown",
   "id": "1cba8775",
   "metadata": {},
   "source": [
    "# Gaussian SVM"
   ]
  },
  {
   "cell_type": "code",
   "execution_count": 23,
   "id": "0042ffc4",
   "metadata": {},
   "outputs": [],
   "source": [
    "from sklearn.svm import SVC\n",
    "svm_gaussian = SVC(kernel='rbf', max_iter = 5000)"
   ]
  },
  {
   "cell_type": "code",
   "execution_count": 24,
   "id": "b429f383",
   "metadata": {},
   "outputs": [],
   "source": [
    "current_time = time.time()\n",
    "svm_gaussian.fit(X_train, y_train)\n",
    "gaus_fit_time = time.time() - current_time"
   ]
  },
  {
   "cell_type": "code",
   "execution_count": 25,
   "id": "30c23269",
   "metadata": {},
   "outputs": [
    {
     "data": {
      "text/plain": [
       "0.597997138769671"
      ]
     },
     "execution_count": 25,
     "metadata": {},
     "output_type": "execute_result"
    }
   ],
   "source": [
    "current_time = time.time()\n",
    "y_pred_gaussian_svm = svm_gaussian.predict(X_train)\n",
    "gaus_train_time = time.time() - current_time\n",
    "GaussianSVM_train = accuracy_score(y_train, y_pred_gaussian_svm)\n",
    "GaussianSVM_train"
   ]
  },
  {
   "cell_type": "code",
   "execution_count": 26,
   "id": "416894fa",
   "metadata": {},
   "outputs": [
    {
     "data": {
      "text/plain": [
       "0.30666666666666664"
      ]
     },
     "execution_count": 26,
     "metadata": {},
     "output_type": "execute_result"
    }
   ],
   "source": [
    "current_time = time.time()\n",
    "y_test_gaussian_svm = svm_gaussian.predict(X_test)\n",
    "gaus_test_time = time.time() - current_time\n",
    "GaussianSVM_test = accuracy_score(y_test, y_test_gaussian_svm)\n",
    "GaussianSVM_test"
   ]
  },
  {
   "cell_type": "markdown",
   "id": "7f02ad6c",
   "metadata": {},
   "source": [
    "# K Nearest Neighbors"
   ]
  },
  {
   "cell_type": "code",
   "execution_count": 27,
   "id": "f2ce0ff1",
   "metadata": {},
   "outputs": [],
   "source": [
    "from sklearn.neighbors import KNeighborsClassifier\n",
    "knn = KNeighborsClassifier(n_neighbors=50, p=2, metric='minkowski')"
   ]
  },
  {
   "cell_type": "code",
   "execution_count": 28,
   "id": "5de426d4",
   "metadata": {},
   "outputs": [],
   "source": [
    "current_time = time.time()\n",
    "knn.fit(X_train, y_train)\n",
    "KNN_fit_time = time.time() - current_time"
   ]
  },
  {
   "cell_type": "code",
   "execution_count": 29,
   "id": "0f17296f",
   "metadata": {},
   "outputs": [
    {
     "data": {
      "text/plain": [
       "0.18311874105865522"
      ]
     },
     "execution_count": 29,
     "metadata": {},
     "output_type": "execute_result"
    }
   ],
   "source": [
    "current_time = time.time()\n",
    "y_pred_train_knn = knn.predict(X_train)\n",
    "KNN_train_time = time.time() - current_time\n",
    "KNearest_train = accuracy_score(y_train, y_pred_train_knn)\n",
    "KNearest_train"
   ]
  },
  {
   "cell_type": "code",
   "execution_count": 30,
   "id": "d7d786fa",
   "metadata": {},
   "outputs": [
    {
     "data": {
      "text/plain": [
       "0.17333333333333334"
      ]
     },
     "execution_count": 30,
     "metadata": {},
     "output_type": "execute_result"
    }
   ],
   "source": [
    "current_time = time.time()\n",
    "y_pred_test_knn = knn.predict(X_test)\n",
    "KNN_test_time = time.time() - current_time\n",
    "KNearest_test = accuracy_score(y_test, y_pred_test_knn)\n",
    "KNearest_test"
   ]
  },
  {
   "cell_type": "markdown",
   "id": "f9823d8c",
   "metadata": {},
   "source": [
    "# Random Forest "
   ]
  },
  {
   "cell_type": "code",
   "execution_count": 31,
   "id": "9af58151",
   "metadata": {},
   "outputs": [],
   "source": [
    "from sklearn.ensemble import RandomForestClassifier\n",
    "rf = RandomForestClassifier(criterion= 'gini',n_estimators=25, n_jobs=8)"
   ]
  },
  {
   "cell_type": "code",
   "execution_count": 32,
   "id": "a30af38f",
   "metadata": {},
   "outputs": [],
   "source": [
    "current_time = time.time()\n",
    "rf.fit(X_train, y_train)\n",
    "rf_fit_time = time.time() - current_time"
   ]
  },
  {
   "cell_type": "code",
   "execution_count": 33,
   "id": "e655116c",
   "metadata": {},
   "outputs": [
    {
     "data": {
      "text/plain": [
       "0.9985693848354793"
      ]
     },
     "execution_count": 33,
     "metadata": {},
     "output_type": "execute_result"
    }
   ],
   "source": [
    "current_time = time.time()\n",
    "y_train_pred_rf = rf.predict(X_train)\n",
    "rf_train_time = time.time() - current_time\n",
    "RF_train = accuracy_score(y_train, y_train_pred_rf)\n",
    "RF_train"
   ]
  },
  {
   "cell_type": "code",
   "execution_count": 34,
   "id": "7f2f5b9b",
   "metadata": {},
   "outputs": [
    {
     "data": {
      "text/plain": [
       "0.26666666666666666"
      ]
     },
     "execution_count": 34,
     "metadata": {},
     "output_type": "execute_result"
    }
   ],
   "source": [
    "current_time = time.time()\n",
    "y_test_pred_rf = rf.predict(X_test)\n",
    "rf_test_time = time.time() - current_time\n",
    "RF_test = accuracy_score(y_test, y_test_pred_rf)\n",
    "RF_test"
   ]
  },
  {
   "cell_type": "markdown",
   "id": "e46ff9a6",
   "metadata": {},
   "source": [
    "# Results"
   ]
  },
  {
   "cell_type": "code",
   "execution_count": 35,
   "id": "503fba4a",
   "metadata": {},
   "outputs": [
    {
     "name": "stdout",
     "output_type": "stream",
     "text": [
      "The accuracy of Logistic Regression for the training:  0.33476394849785407\n",
      "The accuracy of Logistic Regression for the test:  0.20666666666666667 \n",
      "\n",
      "The accuracy of Decision Tree for the training:  0.709585121602289\n",
      "The accuracy of Decision Tree for the test:  0.2 \n",
      "\n",
      "The accuracy of Linear SVM for the training:  0.4492131616595136\n",
      "The accuracy of Linear SVM for the test:  0.19333333333333333 \n",
      "\n",
      "The accuracy of Gaussian SVM for the training:  0.597997138769671\n",
      "The accuracy of Gaussian SVM for the test:  0.597997138769671 \n",
      "\n",
      "The accuracy of K Nearest Neighboors for the training:  0.18311874105865522\n",
      "The accuracy of K Nearest Neighboors for the test:  0.17333333333333334 \n",
      "\n",
      "The accuracy of Random Forest for the training:  0.9985693848354793\n",
      "The accuracy of Random Forest for the test:  0.26666666666666666 \n",
      "\n"
     ]
    }
   ],
   "source": [
    "print(\"The accuracy of Logistic Regression for the training: \" , LR_train)\n",
    "print(\"The accuracy of Logistic Regression for the test: \" , LR_test, \"\\n\")\n",
    "\n",
    "print(\"The accuracy of Decision Tree for the training: \" , DT_train)\n",
    "print(\"The accuracy of Decision Tree for the test: \" , DT_test, \"\\n\")\n",
    "\n",
    "print(\"The accuracy of Linear SVM for the training: \" , LinearSVM_train)\n",
    "print(\"The accuracy of Linear SVM for the test: \" , LinearSVM_test, \"\\n\")\n",
    "\n",
    "print(\"The accuracy of Gaussian SVM for the training: \" , GaussianSVM_train)\n",
    "print(\"The accuracy of Gaussian SVM for the test: \" , GaussianSVM_train, \"\\n\")\n",
    "\n",
    "print(\"The accuracy of K Nearest Neighboors for the training: \" , KNearest_train)\n",
    "print(\"The accuracy of K Nearest Neighboors for the test: \" , KNearest_test, \"\\n\")\n",
    "\n",
    "print(\"The accuracy of Random Forest for the training: \" , RF_train)\n",
    "print(\"The accuracy of Random Forest for the test: \" , RF_test, \"\\n\")"
   ]
  },
  {
   "cell_type": "code",
   "execution_count": 36,
   "id": "2709d82b",
   "metadata": {},
   "outputs": [
    {
     "name": "stdout",
     "output_type": "stream",
     "text": [
      "The number of seconds for fitting in Logistic Regression:  0.3039264678955078\n",
      "The number of seconds for testing the train data in Logistic Regression:  0.0009975433349609375\n",
      "The number of seconds for testing the test data in Logistic Regression:  0.0019948482513427734 \n",
      "\n",
      "The number of seconds for fitting in Decision Tree:  0.12865519523620605\n",
      "The number of seconds for testing the train data in Decision Tree:  0.002992868423461914\n",
      "The number of seconds for testing the test data in Decision Tree:  0.00099945068359375 \n",
      "\n",
      "The number of seconds for fitting in Linear SVM:  0.35205769538879395\n",
      "The number of seconds for testing the train data in Linear SVM:  0.005984067916870117\n",
      "The number of seconds for testing the test data in Linear SVM:  0.0009961128234863281 \n",
      "\n",
      "The number of seconds for fitting in Gaussian SVM:  0.1077117919921875\n",
      "The number of seconds for testing the train data in Gaussian SVM:  0.09474468231201172\n",
      "The number of seconds for testing the test data in Gaussian SVM:  0.03789782524108887 \n",
      "\n",
      "The number of seconds for fitting in K Nearest Neighboors:  0.0009968280792236328\n",
      "The number of seconds for testing the train data in K Nearest Neighboors:  0.35504937171936035\n",
      "The number of seconds for testing the test data in K Nearest Neighboors:  0.03490638732910156 \n",
      "\n",
      "The number of seconds for fitting in Random Forest:  0.23137998580932617\n",
      "The number of seconds for testing the train data in Random Forest:  0.013962030410766602\n",
      "The number of seconds for testing the test data in Random Forest:  0.014958620071411133\n"
     ]
    }
   ],
   "source": [
    "print(\"The number of seconds for fitting in Logistic Regression: \" , lr_fit_time)\n",
    "print(\"The number of seconds for testing the train data in Logistic Regression: \" , lr_train_time)\n",
    "print(\"The number of seconds for testing the test data in Logistic Regression: \" , lr_test_time, \"\\n\")\n",
    "\n",
    "print(\"The number of seconds for fitting in Decision Tree: \" , DT_fit_time)\n",
    "print(\"The number of seconds for testing the train data in Decision Tree: \" , DT_train_time)\n",
    "print(\"The number of seconds for testing the test data in Decision Tree: \" , DT_test_time, \"\\n\")\n",
    "\n",
    "print(\"The number of seconds for fitting in Linear SVM: \" , clf_fit_time)\n",
    "print(\"The number of seconds for testing the train data in Linear SVM: \" , clf_train_time)\n",
    "print(\"The number of seconds for testing the test data in Linear SVM: \" , clf_test_time, \"\\n\")\n",
    "\n",
    "print(\"The number of seconds for fitting in Gaussian SVM: \" , gaus_fit_time)\n",
    "print(\"The number of seconds for testing the train data in Gaussian SVM: \" , gaus_train_time)\n",
    "print(\"The number of seconds for testing the test data in Gaussian SVM: \" , gaus_test_time, \"\\n\")\n",
    "\n",
    "print(\"The number of seconds for fitting in K Nearest Neighboors: \" , KNN_fit_time)\n",
    "print(\"The number of seconds for testing the train data in K Nearest Neighboors: \" , KNN_train_time)\n",
    "print(\"The number of seconds for testing the test data in K Nearest Neighboors: \" , KNN_test_time, \"\\n\")\n",
    "\n",
    "print(\"The number of seconds for fitting in Random Forest: \" , rf_fit_time)\n",
    "print(\"The number of seconds for testing the train data in Random Forest: \" , rf_train_time)\n",
    "print(\"The number of seconds for testing the test data in Random Forest: \" , rf_test_time)"
   ]
  },
  {
   "cell_type": "markdown",
   "id": "27937e42",
   "metadata": {},
   "source": [
    "# Observations/Conclusions"
   ]
  },
  {
   "cell_type": "markdown",
   "id": "508ed503",
   "metadata": {},
   "source": [
    "## Observation\n",
    "\n",
    "\n",
    "\n",
    "## Conclusion\n"
   ]
  },
  {
   "cell_type": "markdown",
   "id": "430ca482",
   "metadata": {},
   "source": [
    "# Saving results as csv"
   ]
  },
  {
   "cell_type": "code",
   "execution_count": 44,
   "id": "ee74203f",
   "metadata": {},
   "outputs": [
    {
     "data": {
      "text/html": [
       "<div>\n",
       "<style scoped>\n",
       "    .dataframe tbody tr th:only-of-type {\n",
       "        vertical-align: middle;\n",
       "    }\n",
       "\n",
       "    .dataframe tbody tr th {\n",
       "        vertical-align: top;\n",
       "    }\n",
       "\n",
       "    .dataframe thead th {\n",
       "        text-align: right;\n",
       "    }\n",
       "</style>\n",
       "<table border=\"1\" class=\"dataframe\">\n",
       "  <thead>\n",
       "    <tr style=\"text-align: right;\">\n",
       "      <th></th>\n",
       "      <th>0</th>\n",
       "    </tr>\n",
       "  </thead>\n",
       "  <tbody>\n",
       "    <tr>\n",
       "      <th>Logistic Regression</th>\n",
       "      <td>0.334764</td>\n",
       "    </tr>\n",
       "    <tr>\n",
       "      <th>Decision Tree</th>\n",
       "      <td>0.709585</td>\n",
       "    </tr>\n",
       "    <tr>\n",
       "      <th>Linear SVM</th>\n",
       "      <td>0.449213</td>\n",
       "    </tr>\n",
       "    <tr>\n",
       "      <th>Gaussian SVM</th>\n",
       "      <td>0.597997</td>\n",
       "    </tr>\n",
       "    <tr>\n",
       "      <th>K Nearest</th>\n",
       "      <td>0.183119</td>\n",
       "    </tr>\n",
       "    <tr>\n",
       "      <th>Random Forest</th>\n",
       "      <td>0.998569</td>\n",
       "    </tr>\n",
       "  </tbody>\n",
       "</table>\n",
       "</div>"
      ],
      "text/plain": [
       "                            0\n",
       "Logistic Regression  0.334764\n",
       "Decision Tree        0.709585\n",
       "Linear SVM           0.449213\n",
       "Gaussian SVM         0.597997\n",
       "K Nearest            0.183119\n",
       "Random Forest        0.998569"
      ]
     },
     "execution_count": 44,
     "metadata": {},
     "output_type": "execute_result"
    }
   ],
   "source": [
    "resultsTrain = pd.DataFrame.from_dict({\"Logistic Regression\": LR_train, \"Decision Tree\" : DT_train, \"Linear SVM\" : LinearSVM_train, \"Gaussian SVM\" : GaussianSVM_train, \"K Nearest\" : KNearest_train, \"Random Forest\" : RF_train}, orient= 'index')\n",
    "resultsTrain"
   ]
  },
  {
   "cell_type": "code",
   "execution_count": 45,
   "id": "678d1beb",
   "metadata": {},
   "outputs": [
    {
     "data": {
      "text/html": [
       "<div>\n",
       "<style scoped>\n",
       "    .dataframe tbody tr th:only-of-type {\n",
       "        vertical-align: middle;\n",
       "    }\n",
       "\n",
       "    .dataframe tbody tr th {\n",
       "        vertical-align: top;\n",
       "    }\n",
       "\n",
       "    .dataframe thead th {\n",
       "        text-align: right;\n",
       "    }\n",
       "</style>\n",
       "<table border=\"1\" class=\"dataframe\">\n",
       "  <thead>\n",
       "    <tr style=\"text-align: right;\">\n",
       "      <th></th>\n",
       "      <th>0</th>\n",
       "    </tr>\n",
       "  </thead>\n",
       "  <tbody>\n",
       "    <tr>\n",
       "      <th>Logistic Regression</th>\n",
       "      <td>0.206667</td>\n",
       "    </tr>\n",
       "    <tr>\n",
       "      <th>Decision Tree</th>\n",
       "      <td>0.200000</td>\n",
       "    </tr>\n",
       "    <tr>\n",
       "      <th>Linear SVM</th>\n",
       "      <td>0.193333</td>\n",
       "    </tr>\n",
       "    <tr>\n",
       "      <th>Gaussian SVM</th>\n",
       "      <td>0.306667</td>\n",
       "    </tr>\n",
       "    <tr>\n",
       "      <th>K Nearest</th>\n",
       "      <td>0.173333</td>\n",
       "    </tr>\n",
       "    <tr>\n",
       "      <th>Random Forest</th>\n",
       "      <td>0.266667</td>\n",
       "    </tr>\n",
       "  </tbody>\n",
       "</table>\n",
       "</div>"
      ],
      "text/plain": [
       "                            0\n",
       "Logistic Regression  0.206667\n",
       "Decision Tree        0.200000\n",
       "Linear SVM           0.193333\n",
       "Gaussian SVM         0.306667\n",
       "K Nearest            0.173333\n",
       "Random Forest        0.266667"
      ]
     },
     "execution_count": 45,
     "metadata": {},
     "output_type": "execute_result"
    }
   ],
   "source": [
    "resultsTest = pd.DataFrame.from_dict({\"Logistic Regression\": LR_test, \"Decision Tree\" : DT_test, \"Linear SVM\" : LinearSVM_test, \"Gaussian SVM\" : GaussianSVM_test, \"K Nearest\" : KNearest_test, \"Random Forest\" : RF_test}, orient= 'index')\n",
    "resultsTest"
   ]
  },
  {
   "cell_type": "code",
   "execution_count": 46,
   "id": "6e0d427b",
   "metadata": {},
   "outputs": [],
   "source": [
    "resultsTrain.to_csv(\"C:\\\\Users\\\\samue\\\\Desktop\\\\AI_Proj\\\\modelCompTrain.csv\")\n",
    "resultsTest.to_csv(\"C:\\\\Users\\\\samue\\\\Desktop\\\\AI_Proj\\\\modelCompTest.csv\")"
   ]
  },
  {
   "cell_type": "code",
   "execution_count": null,
   "id": "6f88c088",
   "metadata": {},
   "outputs": [],
   "source": []
  }
 ],
 "metadata": {
  "kernelspec": {
   "display_name": "Python 3 (ipykernel)",
   "language": "python",
   "name": "python3"
  },
  "language_info": {
   "codemirror_mode": {
    "name": "ipython",
    "version": 3
   },
   "file_extension": ".py",
   "mimetype": "text/x-python",
   "name": "python",
   "nbconvert_exporter": "python",
   "pygments_lexer": "ipython3",
   "version": "3.10.4"
  }
 },
 "nbformat": 4,
 "nbformat_minor": 5
}
